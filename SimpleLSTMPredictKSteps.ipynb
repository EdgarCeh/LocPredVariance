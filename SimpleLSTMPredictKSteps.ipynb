{
 "cells": [
  {
   "cell_type": "code",
   "execution_count": 1,
   "outputs": [
    {
     "data": {
      "text/plain": "'\\nThis script runs a simple LSTM model on a single columns (XLocation or YLocation)\\nand predict k time steps in the future (t+1, t+2...t+k)\\n\\n'"
     },
     "metadata": {},
     "output_type": "execute_result",
     "execution_count": 1
    }
   ],
   "source": [
    "'''\n",
    "This script runs a simple LSTM model on a single columns (XLocation or YLocation)\n",
    "and predict k time steps in the future (t+1, t+2...t+k)\n",
    "\n",
    "'''\n"
   ],
   "metadata": {
    "collapsed": false,
    "pycharm": {
     "name": "#%%\n",
     "is_executing": false
    }
   }
  },
  {
   "cell_type": "code",
   "execution_count": 1,
   "outputs": [
    {
     "name": "stderr",
     "text": [
      "Using TensorFlow backend.\n"
     ],
     "output_type": "stream"
    }
   ],
   "source": [
    "import pandas as pd\n",
    "import numpy as np\n",
    "import matplotlib.pyplot as plt\n",
    "from pickle import dump, load\n",
    "import sys\n",
    "import keras\n",
    "from sklearn.metrics import mean_squared_error,mean_absolute_error\n",
    "from sklearn.model_selection import  train_test_split\n",
    "from sklearn.preprocessing import MinMaxScaler\n",
    "from keras.models import Sequential\n",
    "from keras.layers import Dense, LSTM, Activation\n",
    "from keras.models import load_model\n"
   ],
   "metadata": {
    "collapsed": false,
    "pycharm": {
     "name": "#%%\n",
     "is_executing": false
    }
   }
  },
  {
   "cell_type": "code",
   "execution_count": 2,
   "outputs": [],
   "source": [
    "def plot_prediction(x, y_true, y_pred):\n",
    "    \"\"\"Plots the predictions.\n",
    "\n",
    "    Arguments\n",
    "    ---------\n",
    "    x: Input sequence of shape (input_sequence_length,\n",
    "        dimension_of_signal)\n",
    "    y_true: True output sequence of shape (input_sequence_length,\n",
    "        dimension_of_signal)\n",
    "    y_pred: Predicted output sequence (input_sequence_length,\n",
    "        dimension_of_signal)\n",
    "    \"\"\"\n",
    "    label1 = \"Seen (past) values\"\n",
    "    label2 = \"True future values\"\n",
    "    label3 = \"Predictions\"\n",
    "    \n",
    "    plt.figure(figsize=(12, 3))\n",
    "    plt.plot(range(len(x)),x, \"o--b\", label=label1)\n",
    "    plt.plot(range(len(x), len(x) + len(y_true) ), y_true, \"x--b\", label=label2)\n",
    "    plt.plot(range(len(x), len(x) + len(y_pred)),y_pred, \"o--y\", label=label3)\n",
    "    \n",
    "    plt.legend(loc='best')\n",
    "    plt.title(\"Predictions v.s. true values\")\n",
    "    plt.show()\n",
    "    \n",
    "    \n"
   ],
   "metadata": {
    "collapsed": false,
    "pycharm": {
     "name": "#%%\n",
     "is_executing": false
    }
   }
  },
  {
   "cell_type": "code",
   "execution_count": 3,
   "outputs": [],
   "source": [
    "def size_per_targets(data):\n",
    "    #print(\"Total: \", data.shape[0])\n",
    "    sizes = data.groupby(['id', 'file_id']).size()\n",
    "    #print(sizes)\n",
    "    #print(type(sizes))\n",
    "    #print(\"Total:\",sum(list(sizes)))\n",
    "\n",
    "    return list(sizes)\n"
   ],
   "metadata": {
    "collapsed": false,
    "pycharm": {
     "name": "#%%\n",
     "is_executing": false
    }
   }
  },
  {
   "cell_type": "code",
   "execution_count": 4,
   "outputs": [],
   "source": [
    "def generate_input_data(data, sizes, train_len, target_seq):\n",
    "    targets = len(sizes)\n",
    "    start = 0\n",
    "    sequences = []\n",
    "    X = []\n",
    "    y = []\n",
    "    \n",
    "    for i, size in enumerate(sizes):\n",
    "        print(\"Chunk\", i+1)\n",
    "        end = start + size\n",
    "        print(\"Size of block %d, Range: %d-%d\" % (size, start, end))\n",
    "        temp_df = data.iloc[start:end]\n",
    "        \n",
    "        values = temp_df.iloc[:,-target_seq].values\n",
    "        for i in range(train_len, len(values)):\n",
    "            seq = values[i-train_len:i]\n",
    "            \n",
    "            sequences.append(seq)\n",
    "                   \n",
    "        # update start\n",
    "        start = start + size\n",
    "    \n",
    "    sequences = np.array(sequences)    \n",
    "    print(\"[INFO] Sequences generated:\", len(sequences))\n",
    "    \n",
    "    X = sequences[:,:-target_seq]\n",
    "    y = sequences[:,-target_seq]\n",
    "\n",
    "    return X, y\n",
    "\n"
   ],
   "metadata": {
    "collapsed": false,
    "pycharm": {
     "name": "#%%\n",
     "is_executing": false
    }
   }
  },
  {
   "cell_type": "markdown",
   "source": [
    "# MAIN   \n"
   ],
   "metadata": {
    "collapsed": false
   }
  },
  {
   "cell_type": "markdown",
   "source": [
    "## Load the data"
   ],
   "metadata": {
    "collapsed": false
   }
  },
  {
   "cell_type": "code",
   "execution_count": 36,
   "outputs": [
    {
     "name": "stdout",
     "text": [
      "(500050, 18)\n['id', 'file_id', 'Pn', 'Pe', 'h', 'Va', 'Phi', 'Theta', 'Chi', 'Psi', 'Vg', 'Azimuth', 'Elevation', 'XPixel', 'YPixel', 'ZValue', 'XLocation', 'YLocation']\n"
     ],
     "output_type": "stream"
    }
   ],
   "source": [
    "filename = 'data/AllData.csv'\n",
    "data = pd.read_csv(filename)\n",
    "print(data.shape)\n",
    "print(list(data.columns))\n"
   ],
   "metadata": {
    "collapsed": false,
    "pycharm": {
     "name": "#%%\n",
     "is_executing": false
    }
   }
  },
  {
   "cell_type": "markdown",
   "source": [
    "## Generate the input data\n"
   ],
   "metadata": {
    "collapsed": false
   }
  },
  {
   "cell_type": "markdown",
   "source": [
    "#### Defining Parameters\n"
   ],
   "metadata": {
    "collapsed": false
   }
  },
  {
   "cell_type": "code",
   "execution_count": 43,
   "outputs": [],
   "source": [
    "column_of_interest = 'XLocation'\n",
    "input_seq = 10\n",
    "target_seq = 1      # \n",
    "predict_k = 3       # predict k time steps in the future\n",
    "train_len = input_seq + target_seq\n",
    "target = 0     # 0 = AllTargets\n",
    "test_percentage = 0.2\n",
    "rand_test = True\n",
    "\n",
    "batch_size = 64\n",
    "neurons = 64\n",
    "epochs = 100\n",
    "\n",
    "model_filename = 'models/model_lstm_'+column_of_interest+\"_\"+str(input_seq)+\"_timesteps_\" + column_of_interest +\".h5\"\n",
    "scaler_filename = 'models/model_lstm_'+column_of_interest+\"_\"+str(input_seq) + \"_timesteps_\" + column_of_interest\n"
   ],
   "metadata": {
    "collapsed": false,
    "pycharm": {
     "name": "#%%\n",
     "is_executing": false
    }
   }
  },
  {
   "cell_type": "markdown",
   "source": [
    "## Generate input data\n"
   ],
   "metadata": {
    "collapsed": false
   }
  },
  {
   "cell_type": "code",
   "execution_count": 38,
   "outputs": [
    {
     "name": "stdout",
     "text": [
      "Chunk 1\nSize of block 10001, Range: 0-10001\nChunk 2\nSize of block 10001, Range: 10001-20002\nChunk 3\nSize of block 10001, Range: 20002-30003\nChunk 4\nSize of block 10001, Range: 30003-40004\nChunk 5\nSize of block 10001, Range: 40004-50005\nChunk 6\nSize of block 10001, Range: 50005-60006\nChunk 7\nSize of block 10001, Range: 60006-70007\nChunk 8\nSize of block 10001, Range: 70007-80008\nChunk 9\nSize of block 10001, Range: 80008-90009\nChunk 10\nSize of block 10001, Range: 90009-100010\nChunk 11\nSize of block 10001, Range: 100010-110011\nChunk 12\nSize of block 10001, Range: 110011-120012\nChunk 13\nSize of block 10001, Range: 120012-130013\nChunk 14\nSize of block 10001, Range: 130013-140014\nChunk 15\nSize of block 10001, Range: 140014-150015\nChunk 16\nSize of block 10001, Range: 150015-160016\nChunk 17\nSize of block 10001, Range: 160016-170017\nChunk 18\nSize of block 10001, Range: 170017-180018\nChunk 19\nSize of block 10001, Range: 180018-190019\nChunk 20\nSize of block 10001, Range: 190019-200020\nChunk 21\nSize of block 10001, Range: 200020-210021\nChunk 22\nSize of block 10001, Range: 210021-220022\nChunk 23\nSize of block 10001, Range: 220022-230023\nChunk 24\nSize of block 10001, Range: 230023-240024\nChunk 25\nSize of block 10001, Range: 240024-250025\nChunk 26\nSize of block 10001, Range: 250025-260026\nChunk 27\nSize of block 10001, Range: 260026-270027\nChunk 28\nSize of block 10001, Range: 270027-280028\nChunk 29\nSize of block 10001, Range: 280028-290029\nChunk 30\nSize of block 10001, Range: 290029-300030\nChunk 31\nSize of block 10001, Range: 300030-310031\nChunk 32\nSize of block 10001, Range: 310031-320032\nChunk 33\nSize of block 10001, Range: 320032-330033\nChunk 34\nSize of block 10001, Range: 330033-340034\nChunk 35\nSize of block 10001, Range: 340034-350035\nChunk 36\nSize of block 10001, Range: 350035-360036\nChunk 37\nSize of block 10001, Range: 360036-370037\nChunk 38\nSize of block 10001, Range: 370037-380038\nChunk 39\nSize of block 10001, Range: 380038-390039\nChunk 40\nSize of block 10001, Range: 390039-400040\nChunk 41\nSize of block 10001, Range: 400040-410041\nChunk 42\nSize of block 10001, Range: 410041-420042\nChunk 43\nSize of block 10001, Range: 420042-430043\nChunk 44\nSize of block 10001, Range: 430043-440044\nChunk 45\nSize of block 10001, Range: 440044-450045\nChunk 46\nSize of block 10001, Range: 450045-460046\nChunk 47\nSize of block 10001, Range: 460046-470047\nChunk 48\nSize of block 10001, Range: 470047-480048\nChunk 49\nSize of block 10001, Range: 480048-490049\nChunk 50\nSize of block 10001, Range: 490049-500050\n",
      "[INFO] Sequences generated: 499500\n"
     ],
     "output_type": "stream"
    }
   ],
   "source": [
    "# -1 is All data, else is the target id\n",
    "\n",
    "if target != 0:\n",
    "    input_data = data[data['id'] == target]\n",
    "else:\n",
    "    input_data = data\n",
    "\n",
    "# Take only the column of interest\n",
    "input_data = input_data[['id', 'file_id', column_of_interest]]\n",
    "columns = input_data.columns\n",
    "\n",
    "# We need to generate the sequences based on the id and file_id\n",
    "sizes = size_per_targets(input_data)\n",
    "X, y = generate_input_data(input_data, sizes, train_len, target_seq)\n"
   ],
   "metadata": {
    "collapsed": false,
    "pycharm": {
     "name": "#%%\n",
     "is_executing": false
    }
   }
  },
  {
   "cell_type": "markdown",
   "source": [
    "### Getting train, test data"
   ],
   "metadata": {
    "collapsed": false
   }
  },
  {
   "cell_type": "code",
   "execution_count": 39,
   "outputs": [
    {
     "name": "stdout",
     "text": [
      "Randomly picking train, test dataset\nX Train size= 399600\nX Test size= 99900\ny Train size= 399600\ny Test size= 99900\n"
     ],
     "output_type": "stream"
    }
   ],
   "source": [
    "\n",
    "# If we select the train and test randomly\n",
    "if rand_test:\n",
    "    print(\"Randomly picking train, test dataset\")\n",
    "    X_train, X_test, y_train, y_test = train_test_split(X, y, test_size=test_percentage, \n",
    "                                                        shuffle=False, random_state=42)\n",
    "# Else, select the last % part as testing\n",
    "else:\n",
    "    print(\"Train, test split based on percentage\")\n",
    "    test_size = int(X.shape[0] * test_percentage)\n",
    "    train_size = int(X.shape[0] - test_size)\n",
    "    print(\"Train size:\", train_size)\n",
    "    X_train = X[:train_size, :]\n",
    "    X_test = X[train_size:, :]\n",
    "    \n",
    "    y_train = y[:train_size]\n",
    "    y_test = y[train_size:]    \n",
    "\n",
    "print(\"X Train size=\", X_train.shape[0])\n",
    "print(\"X Test size=\",X_test.shape[0])\n",
    "print(\"y Train size=\", y_train.shape[0])\n",
    "print(\"y Test size=\",y_test.shape[0])\n"
   ],
   "metadata": {
    "collapsed": false,
    "pycharm": {
     "name": "#%%\n",
     "is_executing": false
    }
   }
  },
  {
   "cell_type": "markdown",
   "source": [
    "### Scale the Input Data\n"
   ],
   "metadata": {
    "collapsed": false
   }
  },
  {
   "cell_type": "code",
   "execution_count": 40,
   "outputs": [
    {
     "name": "stdout",
     "text": [
      "(Instances,Sequence,Features)\n(399600, 10, 1) (399600,) (99900, 10, 1) (99900,)\n"
     ],
     "output_type": "stream"
    }
   ],
   "source": [
    "# fit the values between 0 and 1\n",
    "scaler_object = MinMaxScaler()\n",
    "\n",
    "scaler_object.fit(X_train)\n",
    "\n",
    "scaled_X_train =  scaler_object.transform(X_train)\n",
    "scaled_X_test =  scaler_object.transform(X_test)\n",
    "\n",
    "train_X = scaled_X_train.reshape((scaled_X_train.shape[0], 1, scaled_X_train.shape[1]))\n",
    "test_X = scaled_X_test.reshape((scaled_X_test.shape[0], 1, scaled_X_test.shape[1]))\n",
    "\n",
    "\n",
    "#print(train_X.shape, y_train.shape, test_X.shape, y_test.shape)\n",
    "\n",
    "train_X = train_X.reshape((scaled_X_train.shape[0], scaled_X_train.shape[1], 1))\n",
    "\n",
    "test_X = test_X.reshape((scaled_X_test.shape[0], scaled_X_test.shape[1], 1))\n",
    "print(\"(Instances,Sequence,Features)\")\n",
    "print(train_X.shape, y_train.shape, test_X.shape, y_test.shape)\n",
    "\n"
   ],
   "metadata": {
    "collapsed": false,
    "pycharm": {
     "name": "#%% \n",
     "is_executing": false
    }
   }
  },
  {
   "cell_type": "markdown",
   "source": [
    "## Create the LSTM model\n"
   ],
   "metadata": {
    "collapsed": false
   }
  },
  {
   "cell_type": "code",
   "execution_count": 41,
   "outputs": [
    {
     "name": "stdout",
     "text": [
      "_________________________________________________________________\nLayer (type)                 Output Shape              Param #   \n=================================================================\nlstm_5 (LSTM)                (None, 10, 64)            16896     \n_________________________________________________________________\nlstm_6 (LSTM)                (None, 64)                33024     \n_________________________________________________________________\ndense_3 (Dense)              (None, 1)                 65        \n=================================================================\nTotal params: 49,985\nTrainable params: 49,985\nNon-trainable params: 0\n_________________________________________________________________\n",
      "Train on 399600 samples, validate on 99900 samples\nEpoch 1/100\n",
      " - 50s - loss: 104.1842 - val_loss: 77.5894\n",
      "Epoch 2/100\n",
      " - 49s - loss: 76.4861 - val_loss: 75.0906\n",
      "Epoch 3/100\n",
      " - 49s - loss: 69.4370 - val_loss: 77.0513\n",
      "Epoch 4/100\n",
      " - 49s - loss: 65.7952 - val_loss: 76.4443\n",
      "Epoch 5/100\n",
      " - 49s - loss: 58.5943 - val_loss: 69.3900\n",
      "Epoch 6/100\n",
      " - 49s - loss: 13.3814 - val_loss: 26.7486\n",
      "Epoch 7/100\n",
      " - 49s - loss: 8.9369 - val_loss: 18.8158\n",
      "Epoch 8/100\n",
      " - 49s - loss: 6.3107 - val_loss: 18.4644\n",
      "Epoch 9/100\n",
      " - 49s - loss: 9.2361 - val_loss: 39.2905\n",
      "Epoch 10/100\n",
      " - 49s - loss: 9.9946 - val_loss: 15.3733\n",
      "Epoch 11/100\n",
      " - 49s - loss: 6.2667 - val_loss: 18.8514\n",
      "Epoch 12/100\n",
      " - 49s - loss: 4.8767 - val_loss: 17.0269\n",
      "Epoch 13/100\n",
      " - 49s - loss: 4.4534 - val_loss: 19.7781\n",
      "Epoch 14/100\n",
      " - 49s - loss: 4.5460 - val_loss: 10.7632\n",
      "Epoch 15/100\n",
      " - 49s - loss: 6.2923 - val_loss: 11.9664\n",
      "Epoch 16/100\n",
      " - 49s - loss: 4.6146 - val_loss: 9.7715\n",
      "Epoch 17/100\n",
      " - 49s - loss: 4.3814 - val_loss: 13.1732\n",
      "Epoch 18/100\n",
      " - 49s - loss: 3.8555 - val_loss: 12.8145\n",
      "Epoch 19/100\n",
      " - 49s - loss: 4.1872 - val_loss: 16.3397\n",
      "Epoch 20/100\n",
      " - 49s - loss: 3.9480 - val_loss: 11.1418\n",
      "Epoch 21/100\n",
      " - 49s - loss: 3.6506 - val_loss: 13.3425\n",
      "Epoch 22/100\n",
      " - 49s - loss: 3.4837 - val_loss: 18.3817\n",
      "Epoch 23/100\n",
      " - 49s - loss: 3.6346 - val_loss: 10.0523\n",
      "Epoch 24/100\n",
      " - 49s - loss: 3.3136 - val_loss: 8.6311\n",
      "Epoch 25/100\n",
      " - 49s - loss: 3.0731 - val_loss: 7.4199\n",
      "Epoch 26/100\n",
      " - 49s - loss: 3.1549 - val_loss: 7.1900\n",
      "Epoch 27/100\n",
      " - 49s - loss: 3.2331 - val_loss: 7.2722\n",
      "Epoch 28/100\n",
      " - 49s - loss: 3.3262 - val_loss: 12.3919\n",
      "Epoch 29/100\n",
      " - 49s - loss: 3.0639 - val_loss: 12.0721\n",
      "Epoch 30/100\n",
      " - 49s - loss: 3.1512 - val_loss: 10.6174\n",
      "Epoch 31/100\n",
      " - 49s - loss: 2.7343 - val_loss: 6.3564\n",
      "Epoch 32/100\n",
      " - 51s - loss: 3.0284 - val_loss: 9.1215\n",
      "Epoch 33/100\n",
      " - 49s - loss: 3.0927 - val_loss: 5.2619\n",
      "Epoch 34/100\n",
      " - 49s - loss: 2.7630 - val_loss: 3.9370\n",
      "Epoch 35/100\n",
      " - 49s - loss: 2.7177 - val_loss: 9.8272\n",
      "Epoch 36/100\n",
      " - 49s - loss: 2.6060 - val_loss: 8.0924\n",
      "Epoch 37/100\n",
      " - 49s - loss: 3.2700 - val_loss: 4.7218\n",
      "Epoch 38/100\n",
      " - 49s - loss: 2.7542 - val_loss: 5.6219\n",
      "Epoch 39/100\n",
      " - 49s - loss: 2.6313 - val_loss: 6.6372\n",
      "Epoch 40/100\n",
      " - 49s - loss: 2.8269 - val_loss: 5.3747\n",
      "Epoch 41/100\n",
      " - 49s - loss: 2.7536 - val_loss: 8.0476\n",
      "Epoch 42/100\n",
      " - 49s - loss: 2.5984 - val_loss: 6.1660\n",
      "Epoch 43/100\n",
      " - 49s - loss: 2.2032 - val_loss: 7.4910\n",
      "Epoch 44/100\n",
      " - 49s - loss: 2.7338 - val_loss: 6.0578\n",
      "Epoch 45/100\n",
      " - 49s - loss: 3.0769 - val_loss: 7.7121\n",
      "Epoch 46/100\n",
      " - 49s - loss: 3.1189 - val_loss: 6.9596\n",
      "Epoch 47/100\n",
      " - 49s - loss: 2.4338 - val_loss: 10.2497\n",
      "Epoch 48/100\n",
      " - 49s - loss: 2.6238 - val_loss: 6.7682\n",
      "Epoch 49/100\n",
      " - 49s - loss: 2.2204 - val_loss: 9.2671\n",
      "Epoch 50/100\n",
      " - 49s - loss: 2.0658 - val_loss: 5.1763\n",
      "Epoch 51/100\n",
      " - 49s - loss: 2.5430 - val_loss: 5.3326\n",
      "Epoch 52/100\n",
      " - 49s - loss: 2.4847 - val_loss: 10.8095\n",
      "Epoch 53/100\n",
      " - 48s - loss: 2.5120 - val_loss: 6.5989\n",
      "Epoch 54/100\n",
      " - 48s - loss: 2.0610 - val_loss: 5.4286\n",
      "Epoch 55/100\n",
      " - 49s - loss: 2.0399 - val_loss: 5.6584\n",
      "Epoch 56/100\n",
      " - 51s - loss: 2.0738 - val_loss: 5.6095\n",
      "Epoch 57/100\n",
      " - 53s - loss: 2.1591 - val_loss: 5.8187\n",
      "Epoch 58/100\n",
      " - 53s - loss: 2.2056 - val_loss: 7.5360\n",
      "Epoch 59/100\n",
      " - 52s - loss: 2.2100 - val_loss: 5.5702\n",
      "Epoch 60/100\n",
      " - 52s - loss: 2.2107 - val_loss: 5.0383\n",
      "Epoch 61/100\n",
      " - 50s - loss: 2.0197 - val_loss: 6.7050\n",
      "Epoch 62/100\n",
      " - 51s - loss: 1.8236 - val_loss: 4.0153\n",
      "Epoch 63/100\n",
      " - 51s - loss: 1.8717 - val_loss: 11.9983\n",
      "Epoch 64/100\n",
      " - 52s - loss: 1.8711 - val_loss: 6.3602\n",
      "Epoch 65/100\n",
      " - 53s - loss: 1.9147 - val_loss: 4.1889\n",
      "Epoch 66/100\n",
      " - 50s - loss: 2.2516 - val_loss: 7.5075\n",
      "Epoch 67/100\n",
      " - 49s - loss: 2.2962 - val_loss: 3.3009\n",
      "Epoch 68/100\n",
      " - 49s - loss: 1.8740 - val_loss: 4.2329\n",
      "Epoch 69/100\n",
      " - 49s - loss: 2.2071 - val_loss: 5.4910\n",
      "Epoch 70/100\n",
      " - 49s - loss: 1.8886 - val_loss: 4.5463\n",
      "Epoch 71/100\n",
      " - 49s - loss: 1.7826 - val_loss: 5.9183\n",
      "Epoch 72/100\n",
      " - 49s - loss: 1.7804 - val_loss: 6.6753\n",
      "Epoch 73/100\n",
      " - 49s - loss: 1.9859 - val_loss: 5.6976\n",
      "Epoch 74/100\n",
      " - 49s - loss: 2.0098 - val_loss: 4.9413\n",
      "Epoch 75/100\n",
      " - 49s - loss: 1.9424 - val_loss: 5.8782\n",
      "Epoch 76/100\n",
      " - 49s - loss: 1.9098 - val_loss: 4.6142\n",
      "Epoch 77/100\n",
      " - 49s - loss: 2.0918 - val_loss: 3.5597\n",
      "Epoch 78/100\n",
      " - 49s - loss: 1.6820 - val_loss: 4.5392\n",
      "Epoch 79/100\n",
      " - 49s - loss: 1.9054 - val_loss: 3.6901\n",
      "Epoch 80/100\n",
      " - 49s - loss: 1.7938 - val_loss: 4.1962\n",
      "Epoch 81/100\n",
      " - 49s - loss: 1.5957 - val_loss: 4.0600\n",
      "Epoch 82/100\n",
      " - 49s - loss: 1.8285 - val_loss: 4.8282\n",
      "Epoch 83/100\n",
      " - 49s - loss: 1.8886 - val_loss: 2.8076\n",
      "Epoch 84/100\n",
      " - 49s - loss: 1.4863 - val_loss: 7.0925\n",
      "Epoch 85/100\n",
      " - 49s - loss: 1.9284 - val_loss: 5.6870\n",
      "Epoch 86/100\n",
      " - 49s - loss: 1.7866 - val_loss: 5.5905\n",
      "Epoch 87/100\n",
      " - 49s - loss: 1.8300 - val_loss: 4.1304\n",
      "Epoch 88/100\n",
      " - 49s - loss: 1.6489 - val_loss: 3.9324\n",
      "Epoch 89/100\n",
      " - 49s - loss: 1.5643 - val_loss: 2.7642\n",
      "Epoch 90/100\n",
      " - 49s - loss: 1.6099 - val_loss: 6.1282\n",
      "Epoch 91/100\n",
      " - 49s - loss: 1.7081 - val_loss: 3.8817\n",
      "Epoch 92/100\n",
      " - 49s - loss: 1.6934 - val_loss: 5.0641\n",
      "Epoch 93/100\n",
      " - 49s - loss: 1.4942 - val_loss: 4.8441\n",
      "Epoch 94/100\n",
      " - 49s - loss: 1.6162 - val_loss: 6.7413\n",
      "Epoch 95/100\n",
      " - 49s - loss: 1.6377 - val_loss: 2.8434\n",
      "Epoch 96/100\n",
      " - 49s - loss: 1.6519 - val_loss: 3.4071\n",
      "Epoch 97/100\n",
      " - 49s - loss: 1.5358 - val_loss: 2.8124\n",
      "Epoch 98/100\n",
      " - 49s - loss: 1.5313 - val_loss: 2.6770\n",
      "Epoch 99/100\n",
      " - 49s - loss: 1.6139 - val_loss: 4.9071\n",
      "Epoch 100/100\n",
      " - 49s - loss: 1.5969 - val_loss: 5.9124\n"
     ],
     "output_type": "stream"
    }
   ],
   "source": [
    "### If it is already saved then do not run it again, it takes time\n",
    "# design network\n",
    "model = Sequential()\n",
    "model.add(LSTM(neurons, input_shape=(train_X.shape[1], train_X.shape[2]), return_sequences=True))\n",
    "model.add(LSTM(neurons))\n",
    "model.add(Dense(1))\n",
    "model.compile(loss='mae', optimizer='adam')\n",
    "model.summary()\n",
    "# fit network\n",
    "history = model.fit(train_X, y_train, epochs=epochs, batch_size=batch_size, \n",
    "                    validation_data=(test_X, y_test), verbose=2, shuffle=False)\n"
   ],
   "metadata": {
    "collapsed": false,
    "pycharm": {
     "name": "#%%\n",
     "is_executing": false
    }
   }
  },
  {
   "cell_type": "markdown",
   "source": [
    "### Plot the loss"
   ],
   "metadata": {
    "collapsed": false
   }
  },
  {
   "cell_type": "code",
   "execution_count": 44,
   "outputs": [
    {
     "data": {
      "image/png": "[encoded data removed]",
      "text/plain": "<Figure size 432x288 with 1 Axes>"
     },
     "metadata": {
      "needs_background": "light"
     },
     "output_type": "display_data"
    },
    {
     "name": "stdout",
     "text": [
      "dict_keys(['val_loss', 'loss'])\n"
     ],
     "output_type": "stream"
    }
   ],
   "source": [
    "# plot history\n",
    "plt.plot(history.history['loss'], label='train')\n",
    "plt.plot(history.history['val_loss'], label='test')\n",
    "plt.legend()\n",
    "plt.show()\n",
    "\n",
    "print(history.history.keys())\n"
   ],
   "metadata": {
    "collapsed": false,
    "pycharm": {
     "name": "#%%\n",
     "is_executing": false
    }
   }
  },
  {
   "cell_type": "markdown",
   "source": [
    "### Save the model and scaler\n"
   ],
   "metadata": {
    "collapsed": false,
    "pycharm": {
     "name": "#%% md\n"
    }
   }
  },
  {
   "cell_type": "code",
   "execution_count": 45,
   "outputs": [
    {
     "name": "stdout",
     "text": [
      "models/model_lstm_XLocation_10_timesteps_XLocation.h5\n",
      "models/model_lstm_XLocation_10_timesteps_XLocation\n"
     ],
     "output_type": "stream"
    }
   ],
   "source": [
    "print(model_filename)\n",
    "model.save(model_filename)\n",
    "print(scaler_filename)\n",
    "dump(scaler_object, open(scaler_filename, 'wb'))\n"
   ],
   "metadata": {
    "collapsed": false,
    "pycharm": {
     "name": "#%%\n",
     "is_executing": false
    }
   }
  },
  {
   "cell_type": "markdown",
   "source": [
    "### Load the model\n"
   ],
   "metadata": {
    "collapsed": false,
    "pycharm": {
     "name": "#%% md\n"
    }
   }
  },
  {
   "cell_type": "code",
   "execution_count": 13,
   "outputs": [],
   "source": [
    "model = load_model(model_filename)\n",
    "scaler_object = load(open(scaler_filename, 'rb'))\n"
   ],
   "metadata": {
    "collapsed": false,
    "pycharm": {
     "name": "#%%\n",
     "is_executing": false
    }
   }
  },
  {
   "cell_type": "markdown",
   "source": [
    "## Evaluate the model\n"
   ],
   "metadata": {
    "collapsed": false
   }
  },
  {
   "cell_type": "code",
   "execution_count": 46,
   "outputs": [
    {
     "name": "stdout",
     "text": [
      "test_X shape (99900, 10, 1)\n",
      "Test RMSE: 8.837\nTest MAE: 2.432\n"
     ],
     "output_type": "stream"
    }
   ],
   "source": [
    "# make a prediction\n",
    "print(\"test_X shape\", test_X.shape)\n",
    "yhat = model.predict(test_X)\n",
    "# calculate RMSE\n",
    "rmse = np.sqrt(mean_squared_error(y_test, yhat))\n",
    "print('Test RMSE: %.3f' % rmse)\n",
    "mae = np.sqrt(mean_absolute_error(y_test, yhat))\n",
    "print('Test MAE: %.3f' % mae)\n"
   ],
   "metadata": {
    "collapsed": false,
    "pycharm": {
     "name": "#%%\n",
     "is_executing": false
    }
   }
  },
  {
   "cell_type": "markdown",
   "source": [
    "## Comparing results"
   ],
   "metadata": {
    "collapsed": false
   }
  },
  {
   "cell_type": "code",
   "execution_count": 52,
   "outputs": [
    {
     "data": {
      "image/png": "[encoded data removed]",
      "text/plain": "<Figure size 864x216 with 1 Axes>"
     },
     "metadata": {
      "needs_background": "light"
     },
     "output_type": "display_data"
    },
    {
     "data": {
      "image/png": "[encoded data removed]",
      "text/plain": "<Figure size 864x216 with 1 Axes>"
     },
     "metadata": {
      "needs_background": "light"
     },
     "output_type": "display_data"
    },
    {
     "data": {
      "image/png": "[encoded data removed]",
      "text/plain": "<Figure size 864x216 with 1 Axes>"
     },
     "metadata": {
      "needs_background": "light"
     },
     "output_type": "display_data"
    }
   ],
   "source": [
    "# Picked k random test instances\n",
    "#t_X = test_X.reshape(test_X.shape[0], test_X.shape[1])\n",
    "t_X = test_X.reshape(test_X.shape[0], 1, test_X.shape[1])\n",
    "\n",
    "indices = np.random.choice(range(t_X.shape[0]), replace=False, size=3)\n",
    "for index in indices:\n",
    "    x_test = test_X[index]\n",
    "    x_test = x_test.reshape(x_test.shape[1], x_test.shape[0])\n",
    "    test_X_rescaled = scaler_object.inverse_transform(x_test)\n",
    "    plot_prediction(test_X_rescaled[0], [y_test[index]], yhat[index])\n",
    "\n"
   ],
   "metadata": {
    "collapsed": false,
    "pycharm": {
     "name": "#%%\n",
     "is_executing": false
    }
   }
  },
  {
   "cell_type": "markdown",
   "source": [
    "## Predicting k steps in the future\n"
   ],
   "metadata": {
    "collapsed": false,
    "pycharm": {
     "name": "#%% md\n"
    }
   }
  },
  {
   "cell_type": "code",
   "execution_count": 53,
   "outputs": [
    {
     "name": "stdout",
     "text": [
      "~~~~~~~~~~~~~~~~~~~~~~~~~~~~~~~~~~~~~~~~~~~~~~~~~~\n~~~~~~~~~~~~~~~~~~~~~~~~~~~~~~~~~~~~~~~~~~~~~~~~~~\nPredictions for index: 26992\ninput shape (1, 10, 1)\nPred  1\nInput shape: (1, 10, 1)\nWindow rescaled\n[[299.65 299.6  299.55 299.5  299.45 299.4  299.35 299.3  299.25 299.2 ]]\nyhat [[297.064]]\nNew window: [299.6        299.55       299.5        299.45       299.4\n 299.35       299.3        299.25       299.2        297.06399536]\n##################################################\nPred  2\nInput shape: (1, 10, 1)\nWindow rescaled\n[[299.6        299.55       299.5        299.45       299.4\n  299.35       299.3        299.25       299.2        297.06399536]]\nyhat [[297.01276]]\nNew window: [299.55       299.5        299.45       299.4        299.35\n 299.3        299.25       299.2        297.06399536 297.01275635]\n##################################################\nPred  3\nInput shape: (1, 10, 1)\nWindow rescaled\n[[299.55       299.5        299.45       299.4        299.35\n  299.3        299.25       299.2        297.06399536 297.01275635]]\nyhat [[296.96155]]\nNew window: [299.5        299.45       299.4        299.35       299.3\n 299.25       299.2        297.06399536 297.01275635 296.96154785]\n##################################################\n[297.064, 297.01276, 296.96155]\n~~~~~~~~~~~~~~~~~~~~~~~~~~~~~~~~~~~~~~~~~~~~~~~~~~\n~~~~~~~~~~~~~~~~~~~~~~~~~~~~~~~~~~~~~~~~~~~~~~~~~~\nPredictions for index: 92748\ninput shape (1, 10, 1)\nPred  1\nInput shape: (1, 10, 1)\nWindow rescaled\n[[208.2  208.15 208.1  208.05 208.   207.95 207.9  207.85 207.8  207.75]]\nyhat [[205.78972]]\nNew window: [208.15       208.1        208.05       208.         207.95\n 207.9        207.85       207.8        207.75       205.78971863]\n##################################################\nPred  2\nInput shape: (1, 10, 1)\nWindow rescaled\n[[208.15       208.1        208.05       208.         207.95\n  207.9        207.85       207.8        207.75       205.78971863]]\nyhat [[205.73804]]\nNew window: [208.1        208.05       208.         207.95       207.9\n 207.85       207.8        207.75       205.78971863 205.73803711]\n##################################################\nPred  3\nInput shape: (1, 10, 1)\nWindow rescaled\n[[208.1        208.05       208.         207.95       207.9\n  207.85       207.8        207.75       205.78971863 205.73803711]]\nyhat [[205.68584]]\nNew window: [208.05       208.         207.95       207.9        207.85\n 207.8        207.75       205.78971863 205.73803711 205.68583679]\n##################################################\n[205.78972, 205.73804, 205.68584]\n~~~~~~~~~~~~~~~~~~~~~~~~~~~~~~~~~~~~~~~~~~~~~~~~~~\n~~~~~~~~~~~~~~~~~~~~~~~~~~~~~~~~~~~~~~~~~~~~~~~~~~\nPredictions for index: 58992\ninput shape (1, 10, 1)\nPred  1\nInput shape: (1, 10, 1)\nWindow rescaled\n[[450.05 450.05 450.05 450.05 450.05 450.05 450.05 450.05 450.05 450.05]]\nyhat [[444.68796]]\nNew window: [450.05       450.05       450.05       450.05       450.05\n 450.05       450.05       450.05       450.05       444.68795776]\n##################################################\nPred  2\nInput shape: (1, 10, 1)\nWindow rescaled\n[[450.05       450.05       450.05       450.05       450.05\n  450.05       450.05       450.05       450.05       444.68795776]]\nyhat [[444.5132]]\nNew window: [450.05       450.05       450.05       450.05       450.05\n 450.05       450.05       450.05       444.68795776 444.51321411]\n##################################################\nPred  3\nInput shape: (1, 10, 1)\nWindow rescaled\n[[450.05       450.05       450.05       450.05       450.05\n  450.05       450.05       450.05       444.68795776 444.51321411]]\nyhat [[444.5091]]\nNew window: [450.05       450.05       450.05       450.05       450.05\n 450.05       450.05       444.68795776 444.51321411 444.50909424]\n##################################################\n[444.68796, 444.5132, 444.5091]\n[[297.064, 297.01276, 296.96155], [205.78972, 205.73804, 205.68584], [444.68796, 444.5132, 444.5091]]\n"
     ],
     "output_type": "stream"
    }
   ],
   "source": [
    "all_predictions = []\n",
    "for index in indices:\n",
    "    print(\"~\"*50)\n",
    "    print(\"~\"*50)\n",
    "    print(\"Predictions for index:\", index)\n",
    "    x_test = np.asarray([test_X[index]])    \n",
    "\n",
    "    input = x_test\n",
    "    print(\"input shape\", input.shape)\n",
    "    predictions = []\n",
    "    \n",
    "    for i in range(predict_k):\n",
    "        print(\"Pred \", i+1)    \n",
    "        print(\"Input shape:\", input.shape)\n",
    "        window = input.reshape(x_test.shape[0], x_test.shape[1])\n",
    "        ##print(\"Window\")\n",
    "        ##print(window)\n",
    "        ##print(\"window shape\",window.shape)\n",
    "        \n",
    "        # This will convert the values to Location values\n",
    "        window_rescaled = scaler_object.inverse_transform(window)\n",
    "        print(\"Window rescaled\")\n",
    "        print(window_rescaled)\n",
    "        ##print(\"window rescaled shape:\",window_rescaled.shape)\n",
    "        \n",
    "        yhat = model.predict(input)\n",
    "        predictions.append(yhat[0][0])    \n",
    "        print('yhat', yhat)\n",
    "        ##print(type(yhat))\n",
    "        ##print(type(window_rescaled))\n",
    "        \n",
    "        input = np.append(window_rescaled[:,1:], yhat)\n",
    "        print(\"New window:\", input)\n",
    "        ##print(\"New window shape\", input.shape)\n",
    "        input = input.reshape(1, input.shape[0], window.shape[0])\n",
    "        ##print(\"New new input shape:\", input.shape)\n",
    "        ##print(input)\n",
    "        # This will convert the location values to scaled values\n",
    "        \n",
    "        input = input.reshape(1, input.shape[1])\n",
    "        input = scaler_object.transform(input)\n",
    "        ##print(\"New scaled input\")\n",
    "        ##print(input)\n",
    "        ##print(\"New scaled input shape\", input.shape)\n",
    "        \n",
    "        input = input.reshape(1, input.shape[1], window.shape[0])\n",
    "        ##print(\"input shape\",input.shape)\n",
    "        print(\"#\" * 50)\n",
    "    \n",
    "    print(predictions)\n",
    "    all_predictions.append(predictions)\n",
    "print(all_predictions)\n",
    "        "
   ],
   "metadata": {
    "collapsed": false,
    "pycharm": {
     "name": "#%%\n",
     "is_executing": false
    }
   }
  },
  {
   "cell_type": "markdown",
   "source": [
    "## Plot future predictions\n"
   ],
   "metadata": {
    "collapsed": false,
    "pycharm": {
     "name": "#%% md\n"
    }
   }
  },
  {
   "cell_type": "code",
   "execution_count": null,
   "outputs": [],
   "source": [
    "\n"
   ],
   "metadata": {
    "collapsed": false,
    "pycharm": {
     "name": "#%%\n"
    }
   }
  },
  {
   "cell_type": "code",
   "execution_count": 54,
   "outputs": [
    {
     "name": "stdout",
     "text": [
      "Initial X: [299.65 299.6  299.55 299.5  299.45 299.4  299.35 299.3  299.25 299.2 ]\nTrue t+1: [299.15]\nk predictions [297.064, 297.01276, 296.96155]\n",
      "Initial X: [208.2  208.15 208.1  208.05 208.   207.95 207.9  207.85 207.8  207.75]\nTrue t+1: [207.7]\nk predictions [205.78972, 205.73804, 205.68584]\n",
      "Initial X: [450.05 450.05 450.05 450.05 450.05 450.05 450.05 450.05 450.05 450.05]\nTrue t+1: [450.05]\nk predictions [444.68796, 444.5132, 444.5091]\n"
     ],
     "output_type": "stream"
    },
    {
     "data": {
      "image/png": "[encoded data removed]",
      "text/plain": "<Figure size 864x216 with 1 Axes>"
     },
     "metadata": {
      "needs_background": "light"
     },
     "output_type": "display_data"
    },
    {
     "data": {
      "image/png": "[encoded data removed]",
      "text/plain": "<Figure size 864x216 with 1 Axes>"
     },
     "metadata": {
      "needs_background": "light"
     },
     "output_type": "display_data"
    },
    {
     "data": {
      "image/png": "[encoded data removed]",
      "text/plain": "<Figure size 864x216 with 1 Axes>"
     },
     "metadata": {
      "needs_background": "light"
     },
     "output_type": "display_data"
    }
   ],
   "source": [
    "for i,index in enumerate(indices):\n",
    "    x_test = test_X[index]\n",
    "    x_test = x_test.reshape(x_test.shape[1], x_test.shape[0])\n",
    "    test_X_rescaled = scaler_object.inverse_transform(x_test)\n",
    "    #plot_prediction\n",
    "    print(\"Initial X:\",test_X_rescaled[0])\n",
    "    print(\"True t+1:\",[y_test[index]])\n",
    "    print(\"k predictions\",all_predictions[i])\n",
    "    plot_prediction(test_X_rescaled[0], [y_test[index]], all_predictions[i])"
   ],
   "metadata": {
    "collapsed": false,
    "pycharm": {
     "name": "#%%\n",
     "is_executing": false
    }
   }
  }
 ],
 "metadata": {
  "language_info": {
   "codemirror_mode": {
    "name": "ipython",
    "version": 2
   },
   "file_extension": ".py",
   "mimetype": "text/x-python",
   "name": "python",
   "nbconvert_exporter": "python",
   "pygments_lexer": "ipython2",
   "version": "2.7.6"
  },
  "kernelspec": {
   "name": "python3",
   "language": "python",
   "display_name": "Python 3"
  },
  "pycharm": {
   "stem_cell": {
    "cell_type": "raw",
    "source": [],
    "metadata": {
     "collapsed": false
    }
   }
  }
 },
 "nbformat": 4,
 "nbformat_minor": 0
}