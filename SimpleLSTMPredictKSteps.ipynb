{
 "cells": [
  {
   "cell_type": "code",
   "execution_count": 1,
   "outputs": [
    {
     "data": {
      "text/plain": "'\\nThis script runs a simple LSTM model on a single columns (XLocation or YLocation)\\nand predict k time steps in the future (t+1, t+2...t+k)\\n\\n'"
     },
     "metadata": {},
     "output_type": "execute_result",
     "execution_count": 1
    }
   ],
   "source": [
    "'''\n",
    "This script runs a simple LSTM model on a single columns (XLocation or YLocation)\n",
    "and predict k time steps in the future (t+1, t+2...t+k)\n",
    "\n",
    "'''\n"
   ],
   "metadata": {
    "collapsed": false,
    "pycharm": {
     "name": "#%%\n",
     "is_executing": false
    }
   }
  },
  {
   "cell_type": "code",
   "execution_count": 1,
   "outputs": [
    {
     "name": "stderr",
     "text": [
      "Using TensorFlow backend.\n"
     ],
     "output_type": "stream"
    }
   ],
   "source": [
    "import pandas as pd\n",
    "import numpy as np\n",
    "import matplotlib.pyplot as plt\n",
    "from pickle import dump, load\n",
    "import sys\n",
    "import keras\n",
    "from sklearn.metrics import mean_squared_error,mean_absolute_error\n",
    "from sklearn.model_selection import  train_test_split\n",
    "from sklearn.preprocessing import MinMaxScaler\n",
    "from keras.models import Sequential\n",
    "from keras.layers import Dense, LSTM, Activation\n",
    "from keras.models import load_model\n"
   ],
   "metadata": {
    "collapsed": false,
    "pycharm": {
     "name": "#%%\n",
     "is_executing": false
    }
   }
  },
  {
   "cell_type": "code",
   "execution_count": 2,
   "outputs": [],
   "source": [
    "def plot_prediction(x, y_true, y_pred):\n",
    "    \"\"\"Plots the predictions.\n",
    "\n",
    "    Arguments\n",
    "    ---------\n",
    "    x: Input sequence of shape (input_sequence_length,\n",
    "        dimension_of_signal)\n",
    "    y_true: True output sequence of shape (input_sequence_length,\n",
    "        dimension_of_signal)\n",
    "    y_pred: Predicted output sequence (input_sequence_length,\n",
    "        dimension_of_signal)\n",
    "    \"\"\"\n",
    "    label1 = \"Seen (past) values\"\n",
    "    label2 = \"True future values\"\n",
    "    label3 = \"Predictions\"\n",
    "    \n",
    "    plt.figure(figsize=(12, 3))\n",
    "    plt.plot(range(len(x)),x, \"o--b\", label=label1)\n",
    "    plt.plot(range(len(x), len(x) + len(y_true) ), y_true, \"x--b\", label=label2)\n",
    "    plt.plot(range(len(x), len(x) + len(y_pred)),y_pred, \"o--y\", label=label3)\n",
    "    \n",
    "    plt.legend(loc='best')\n",
    "    plt.title(\"Predictions v.s. true values\")\n",
    "    plt.show()\n",
    "    \n",
    "    \n"
   ],
   "metadata": {
    "collapsed": false,
    "pycharm": {
     "name": "#%%\n",
     "is_executing": false
    }
   }
  },
  {
   "cell_type": "code",
   "execution_count": 3,
   "outputs": [],
   "source": [
    "def size_per_targets(data):\n",
    "    #print(\"Total: \", data.shape[0])\n",
    "    sizes = data.groupby(['id', 'file_id']).size()\n",
    "    #print(sizes)\n",
    "    #print(type(sizes))\n",
    "    #print(\"Total:\",sum(list(sizes)))\n",
    "\n",
    "    return list(sizes)\n"
   ],
   "metadata": {
    "collapsed": false,
    "pycharm": {
     "name": "#%%\n",
     "is_executing": false
    }
   }
  },
  {
   "cell_type": "code",
   "execution_count": 4,
   "outputs": [],
   "source": [
    "def generate_input_data(data, sizes, train_len, target_seq):\n",
    "    targets = len(sizes)\n",
    "    start = 0\n",
    "    sequences = []\n",
    "    X = []\n",
    "    y = []\n",
    "    \n",
    "    for i, size in enumerate(sizes):\n",
    "        print(\"Chunk\", i+1)\n",
    "        end = start + size\n",
    "        print(\"Size of block %d, Range: %d-%d\" % (size, start, end))\n",
    "        temp_df = data.iloc[start:end]\n",
    "        \n",
    "        values = temp_df.iloc[:,-target_seq].values\n",
    "        for i in range(train_len, len(values)):\n",
    "            seq = values[i-train_len:i]\n",
    "            \n",
    "            sequences.append(seq)\n",
    "                   \n",
    "        # update start\n",
    "        start = start + size\n",
    "    \n",
    "    sequences = np.array(sequences)    \n",
    "    print(\"[INFO] Sequences generated:\", len(sequences))\n",
    "    \n",
    "    X = sequences[:,:-target_seq]\n",
    "    y = sequences[:,-target_seq]\n",
    "\n",
    "    return X, y\n",
    "\n"
   ],
   "metadata": {
    "collapsed": false,
    "pycharm": {
     "name": "#%%\n",
     "is_executing": false
    }
   }
  },
  {
   "cell_type": "markdown",
   "source": [
    "# MAIN   \n"
   ],
   "metadata": {
    "collapsed": false
   }
  },
  {
   "cell_type": "markdown",
   "source": [
    "## Load the data"
   ],
   "metadata": {
    "collapsed": false
   }
  },
  {
   "cell_type": "code",
   "execution_count": 5,
   "outputs": [
    {
     "name": "stdout",
     "text": [
      "(500050, 18)\n['id', 'file_id', 'Pn', 'Pe', 'h', 'Va', 'Phi', 'Theta', 'Chi', 'Psi', 'Vg', 'Azimuth', 'Elevation', 'XPixel', 'YPixel', 'ZValue', 'XLocation', 'YLocation']\n"
     ],
     "output_type": "stream"
    }
   ],
   "source": [
    "filename = 'data/AllData.csv'\n",
    "data = pd.read_csv(filename)\n",
    "print(data.shape)\n",
    "print(list(data.columns))\n"
   ],
   "metadata": {
    "collapsed": false,
    "pycharm": {
     "name": "#%%\n",
     "is_executing": false
    }
   }
  },
  {
   "cell_type": "markdown",
   "source": [
    "## Generate the input data\n"
   ],
   "metadata": {
    "collapsed": false
   }
  },
  {
   "cell_type": "markdown",
   "source": [
    "#### Defining Parameters\n"
   ],
   "metadata": {
    "collapsed": false
   }
  },
  {
   "cell_type": "code",
   "execution_count": 6,
   "outputs": [],
   "source": [
    "column_of_interest = 'XLocation'\n",
    "input_seq = 10\n",
    "target_seq = 1      # \n",
    "predict_k = 3       # predict k time steps in the future\n",
    "train_len = input_seq + target_seq\n",
    "target = 2     # 0 = AllTargets\n",
    "test_percentage = 0.2\n",
    "rand_test = True\n",
    "\n",
    "batch_size = 64\n",
    "neurons = 64\n",
    "epochs = 40\n",
    "\n",
    "model_filename = 'models/model_lstm_'+column_of_interest+\"_\"+str(input_seq)+\"_timesteps.h5\"\n",
    "scaler_filename = 'models/model_lstm_'+column_of_interest+\"_\"+str(input_seq)\n"
   ],
   "metadata": {
    "collapsed": false,
    "pycharm": {
     "name": "#%%\n",
     "is_executing": false
    }
   }
  },
  {
   "cell_type": "markdown",
   "source": [
    "## Generate input data\n"
   ],
   "metadata": {
    "collapsed": false
   }
  },
  {
   "cell_type": "code",
   "execution_count": 7,
   "outputs": [
    {
     "name": "stdout",
     "text": [
      "Chunk 1\nSize of block 10001, Range: 0-10001\nChunk 2\nSize of block 10001, Range: 10001-20002\nChunk 3\nSize of block 10001, Range: 20002-30003\nChunk 4\nSize of block 10001, Range: 30003-40004\nChunk 5\nSize of block 10001, Range: 40004-50005\nChunk 6\nSize of block 10001, Range: 50005-60006\nChunk 7\nSize of block 10001, Range: 60006-70007\nChunk 8\nSize of block 10001, Range: 70007-80008\nChunk 9\nSize of block 10001, Range: 80008-90009\nChunk 10\nSize of block 10001, Range: 90009-100010\n[INFO] Sequences generated: 99900\n"
     ],
     "output_type": "stream"
    }
   ],
   "source": [
    "# -1 is All data, else is the target id\n",
    "\n",
    "if target != 0:\n",
    "    input_data = data[data['id'] == target]\n",
    "else:\n",
    "    input_data = data\n",
    "\n",
    "# Take only the column of interest\n",
    "input_data = input_data[['id', 'file_id', column_of_interest]]\n",
    "columns = input_data.columns\n",
    "\n",
    "# We need to generate the sequences based on the id and file_id\n",
    "sizes = size_per_targets(input_data)\n",
    "X, y = generate_input_data(input_data, sizes, train_len, target_seq)\n"
   ],
   "metadata": {
    "collapsed": false,
    "pycharm": {
     "name": "#%%\n",
     "is_executing": false
    }
   }
  },
  {
   "cell_type": "markdown",
   "source": [
    "### Getting train, test data"
   ],
   "metadata": {
    "collapsed": false
   }
  },
  {
   "cell_type": "code",
   "execution_count": 8,
   "outputs": [
    {
     "name": "stdout",
     "text": [
      "Randomly picking train, test dataset\nX Train size= 79920\nX Test size= 19980\ny Train size= 79920\ny Test size= 19980\n"
     ],
     "output_type": "stream"
    }
   ],
   "source": [
    "\n",
    "# If we select the train and test randomly\n",
    "if rand_test:\n",
    "    print(\"Randomly picking train, test dataset\")\n",
    "    X_train, X_test, y_train, y_test = train_test_split(X, y, test_size=test_percentage, \n",
    "                                                        shuffle=False, random_state=42)\n",
    "# Else, select the last % part as testing\n",
    "else:\n",
    "    print(\"Train, test split based on percentage\")\n",
    "    test_size = int(X.shape[0] * test_percentage)\n",
    "    train_size = int(X.shape[0] - test_size)\n",
    "    print(\"Train size:\", train_size)\n",
    "    X_train = X[:train_size, :]\n",
    "    X_test = X[train_size:, :]\n",
    "    \n",
    "    y_train = y[:train_size]\n",
    "    y_test = y[train_size:]    \n",
    "\n",
    "print(\"X Train size=\", X_train.shape[0])\n",
    "print(\"X Test size=\",X_test.shape[0])\n",
    "print(\"y Train size=\", y_train.shape[0])\n",
    "print(\"y Test size=\",y_test.shape[0])\n"
   ],
   "metadata": {
    "collapsed": false,
    "pycharm": {
     "name": "#%%\n",
     "is_executing": false
    }
   }
  },
  {
   "cell_type": "markdown",
   "source": [
    "### Scale the Input Data\n"
   ],
   "metadata": {
    "collapsed": false
   }
  },
  {
   "cell_type": "code",
   "execution_count": 9,
   "outputs": [
    {
     "name": "stdout",
     "text": [
      "(Instances,Sequence,Features)\n(79920, 10, 1) (79920,) (19980, 10, 1) (19980,)\n"
     ],
     "output_type": "stream"
    }
   ],
   "source": [
    "# fit the values between 0 and 1\n",
    "scaler_object = MinMaxScaler()\n",
    "\n",
    "scaler_object.fit(X_train)\n",
    "\n",
    "scaled_X_train =  scaler_object.transform(X_train)\n",
    "scaled_X_test =  scaler_object.transform(X_test)\n",
    "\n",
    "train_X = scaled_X_train.reshape((scaled_X_train.shape[0], 1, scaled_X_train.shape[1]))\n",
    "test_X = scaled_X_test.reshape((scaled_X_test.shape[0], 1, scaled_X_test.shape[1]))\n",
    "\n",
    "\n",
    "#print(train_X.shape, y_train.shape, test_X.shape, y_test.shape)\n",
    "\n",
    "train_X = train_X.reshape((scaled_X_train.shape[0], scaled_X_train.shape[1], 1))\n",
    "\n",
    "test_X = test_X.reshape((scaled_X_test.shape[0], scaled_X_test.shape[1], 1))\n",
    "print(\"(Instances,Sequence,Features)\")\n",
    "print(train_X.shape, y_train.shape, test_X.shape, y_test.shape)\n",
    "\n"
   ],
   "metadata": {
    "collapsed": false,
    "pycharm": {
     "name": "#%% \n",
     "is_executing": false
    }
   }
  },
  {
   "cell_type": "markdown",
   "source": [
    "## Create the LSTM model\n"
   ],
   "metadata": {
    "collapsed": false
   }
  },
  {
   "cell_type": "code",
   "execution_count": 10,
   "outputs": [
    {
     "name": "stdout",
     "text": [
      "WARNING:tensorflow:From /mnt/0a1cd6b4-4d6a-40d6-80be-a86f7c7fec17/MyCodes/Public_laloceh_GitProjects/Python/Pythorch/venv/lib/python3.5/site-packages/tensorflow/python/framework/op_def_library.py:263: colocate_with (from tensorflow.python.framework.ops) is deprecated and will be removed in a future version.\nInstructions for updating:\nColocations handled automatically by placer.\n",
      "_________________________________________________________________\nLayer (type)                 Output Shape              Param #   \n=================================================================\nlstm_1 (LSTM)                (None, 10, 64)            16896     \n_________________________________________________________________\nlstm_2 (LSTM)                (None, 64)                33024     \n_________________________________________________________________\ndense_1 (Dense)              (None, 1)                 65        \n=================================================================\nTotal params: 49,985\nTrainable params: 49,985\nNon-trainable params: 0\n_________________________________________________________________\nWARNING:tensorflow:From /mnt/0a1cd6b4-4d6a-40d6-80be-a86f7c7fec17/MyCodes/Public_laloceh_GitProjects/Python/Pythorch/venv/lib/python3.5/site-packages/tensorflow/python/ops/math_ops.py:3066: to_int32 (from tensorflow.python.ops.math_ops) is deprecated and will be removed in a future version.\nInstructions for updating:\nUse tf.cast instead.\n",
      "Train on 79920 samples, validate on 19980 samples\nEpoch 1/40\n",
      " - 10s - loss: 139.3362 - val_loss: 110.3772\n",
      "Epoch 2/40\n",
      " - 11s - loss: 80.8450 - val_loss: 87.3122\n",
      "Epoch 3/40\n",
      " - 19s - loss: 61.6196 - val_loss: 88.4685\n",
      "Epoch 4/40\n",
      " - 10s - loss: 60.9149 - val_loss: 82.7835\n",
      "Epoch 5/40\n",
      " - 10s - loss: 54.5913 - val_loss: 82.5437\n",
      "Epoch 6/40\n",
      " - 10s - loss: 55.5827 - val_loss: 82.8453\n",
      "Epoch 7/40\n",
      " - 10s - loss: 54.0551 - val_loss: 83.2847\n",
      "Epoch 8/40\n",
      " - 10s - loss: 52.0207 - val_loss: 82.4949\n",
      "Epoch 9/40\n",
      " - 10s - loss: 57.7237 - val_loss: 94.1448\n",
      "Epoch 10/40\n",
      " - 10s - loss: 71.6865 - val_loss: 86.4196\n",
      "Epoch 11/40\n",
      " - 10s - loss: 56.5509 - val_loss: 82.6610\n",
      "Epoch 12/40\n",
      " - 10s - loss: 55.9513 - val_loss: 82.6888\n",
      "Epoch 13/40\n",
      " - 10s - loss: 54.1136 - val_loss: 83.3521\n",
      "Epoch 14/40\n",
      " - 10s - loss: 55.4301 - val_loss: 83.0111\n",
      "Epoch 15/40\n",
      " - 10s - loss: 54.4181 - val_loss: 85.1018\n",
      "Epoch 16/40\n",
      " - 10s - loss: 49.1035 - val_loss: 99.4313\n",
      "Epoch 17/40\n",
      " - 10s - loss: 58.3936 - val_loss: 81.0605\n",
      "Epoch 18/40\n",
      " - 10s - loss: 33.4096 - val_loss: 79.0743\n",
      "Epoch 19/40\n",
      " - 10s - loss: 22.6884 - val_loss: 53.3044\n",
      "Epoch 20/40\n",
      " - 10s - loss: 11.9679 - val_loss: 14.1706\n",
      "Epoch 21/40\n",
      " - 10s - loss: 5.4844 - val_loss: 12.1921\n",
      "Epoch 22/40\n",
      " - 10s - loss: 4.4737 - val_loss: 7.6308\n",
      "Epoch 23/40\n",
      " - 10s - loss: 4.1470 - val_loss: 13.0418\n",
      "Epoch 24/40\n",
      " - 10s - loss: 4.1162 - val_loss: 7.6141\n",
      "Epoch 25/40\n",
      " - 10s - loss: 3.2077 - val_loss: 10.7616\n",
      "Epoch 26/40\n",
      " - 10s - loss: 3.3290 - val_loss: 11.8851\n",
      "Epoch 27/40\n",
      " - 10s - loss: 2.8462 - val_loss: 4.0858\n",
      "Epoch 28/40\n",
      " - 10s - loss: 3.5257 - val_loss: 9.2652\n",
      "Epoch 29/40\n",
      " - 10s - loss: 3.1074 - val_loss: 11.2908\n",
      "Epoch 30/40\n",
      " - 10s - loss: 2.7023 - val_loss: 6.1065\n",
      "Epoch 31/40\n",
      " - 10s - loss: 2.2221 - val_loss: 9.3840\n",
      "Epoch 32/40\n",
      " - 10s - loss: 2.7213 - val_loss: 12.3508\n",
      "Epoch 33/40\n",
      " - 10s - loss: 3.0052 - val_loss: 9.6775\n",
      "Epoch 34/40\n",
      " - 10s - loss: 2.7155 - val_loss: 7.9579\n",
      "Epoch 35/40\n",
      " - 10s - loss: 2.8270 - val_loss: 7.9062\n",
      "Epoch 36/40\n",
      " - 10s - loss: 3.7285 - val_loss: 11.5785\n",
      "Epoch 37/40\n",
      " - 10s - loss: 2.7437 - val_loss: 6.7237\n",
      "Epoch 38/40\n",
      " - 10s - loss: 2.7486 - val_loss: 5.5068\n",
      "Epoch 39/40\n",
      " - 10s - loss: 3.0497 - val_loss: 9.2602\n",
      "Epoch 40/40\n",
      " - 10s - loss: 2.5538 - val_loss: 11.1451\n"
     ],
     "output_type": "stream"
    }
   ],
   "source": [
    "### If it is already saved then do not run it again, it takes time\n",
    "# design network\n",
    "model = Sequential()\n",
    "model.add(LSTM(neurons, input_shape=(train_X.shape[1], train_X.shape[2]), return_sequences=True))\n",
    "model.add(LSTM(neurons))\n",
    "model.add(Dense(1))\n",
    "model.compile(loss='mae', optimizer='adam')\n",
    "model.summary()\n",
    "# fit network\n",
    "history = model.fit(train_X, y_train, epochs=epochs, batch_size=batch_size, \n",
    "                    validation_data=(test_X, y_test), verbose=2, shuffle=False)\n"
   ],
   "metadata": {
    "collapsed": false,
    "pycharm": {
     "name": "#%%\n",
     "is_executing": false
    }
   }
  },
  {
   "cell_type": "markdown",
   "source": [
    "### Plot the loss"
   ],
   "metadata": {
    "collapsed": false
   }
  },
  {
   "cell_type": "code",
   "execution_count": 11,
   "outputs": [
    {
     "data": {
      "image/png": "[encoded data removed]",
      "text/plain": "<Figure size 432x288 with 1 Axes>"
     },
     "metadata": {
      "needs_background": "light"
     },
     "output_type": "display_data"
    },
    {
     "name": "stdout",
     "text": [
      "dict_keys(['val_loss', 'loss'])\n"
     ],
     "output_type": "stream"
    }
   ],
   "source": [
    "# plot history\n",
    "plt.plot(history.history['loss'], label='train')\n",
    "plt.plot(history.history['val_loss'], label='test')\n",
    "plt.legend()\n",
    "plt.show()\n",
    "\n",
    "print(history.history.keys())\n"
   ],
   "metadata": {
    "collapsed": false,
    "pycharm": {
     "name": "#%%\n",
     "is_executing": false
    }
   }
  },
  {
   "cell_type": "markdown",
   "source": [
    "### Save the model and scaler\n"
   ],
   "metadata": {
    "collapsed": false,
    "pycharm": {
     "name": "#%% md\n"
    }
   }
  },
  {
   "cell_type": "code",
   "execution_count": 12,
   "outputs": [
    {
     "name": "stdout",
     "text": [
      "models/model_lstm_XLocation_10_timesteps.h5\nmodels/model_lstm_XLocation_10\n"
     ],
     "output_type": "stream"
    }
   ],
   "source": [
    "print(model_filename)\n",
    "model.save(model_filename)\n",
    "print(scaler_filename)\n",
    "dump(scaler_object, open(scaler_filename, 'wb'))\n"
   ],
   "metadata": {
    "collapsed": false,
    "pycharm": {
     "name": "#%%\n",
     "is_executing": false
    }
   }
  },
  {
   "cell_type": "markdown",
   "source": [
    "### Load the model\n"
   ],
   "metadata": {
    "collapsed": false,
    "pycharm": {
     "name": "#%% md\n"
    }
   }
  },
  {
   "cell_type": "code",
   "execution_count": 13,
   "outputs": [],
   "source": [
    "model = load_model(model_filename)\n",
    "scaler_object = load(open(scaler_filename, 'rb'))\n"
   ],
   "metadata": {
    "collapsed": false,
    "pycharm": {
     "name": "#%%\n",
     "is_executing": false
    }
   }
  },
  {
   "cell_type": "markdown",
   "source": [
    "## Evaluate the model\n"
   ],
   "metadata": {
    "collapsed": false
   }
  },
  {
   "cell_type": "code",
   "execution_count": 14,
   "outputs": [
    {
     "name": "stdout",
     "text": [
      "test_X shape (19980, 10, 1)\n",
      "Test RMSE: 15.184\nTest MAE: 3.338\n"
     ],
     "output_type": "stream"
    }
   ],
   "source": [
    "# make a prediction\n",
    "print(\"test_X shape\", test_X.shape)\n",
    "yhat = model.predict(test_X)\n",
    "# calculate RMSE\n",
    "rmse = np.sqrt(mean_squared_error(y_test, yhat))\n",
    "print('Test RMSE: %.3f' % rmse)\n",
    "mae = np.sqrt(mean_absolute_error(y_test, yhat))\n",
    "print('Test MAE: %.3f' % mae)\n"
   ],
   "metadata": {
    "collapsed": false,
    "pycharm": {
     "name": "#%%\n",
     "is_executing": false
    }
   }
  },
  {
   "cell_type": "markdown",
   "source": [
    "## Comparing results"
   ],
   "metadata": {
    "collapsed": false
   }
  },
  {
   "cell_type": "code",
   "execution_count": 16,
   "outputs": [
    {
     "data": {
      "image/png": "[encoded data removed]",
      "text/plain": "<Figure size 864x216 with 1 Axes>"
     },
     "metadata": {
      "needs_background": "light"
     },
     "output_type": "display_data"
    },
    {
     "data": {
      "image/png": "[encoded data removed]",
      "text/plain": "<Figure size 864x216 with 1 Axes>"
     },
     "metadata": {
      "needs_background": "light"
     },
     "output_type": "display_data"
    },
    {
     "data": {
      "image/png": "[encoded data removed]",
      "text/plain": "<Figure size 864x216 with 1 Axes>"
     },
     "metadata": {
      "needs_background": "light"
     },
     "output_type": "display_data"
    }
   ],
   "source": [
    "# Picked k random test instances\n",
    "#t_X = test_X.reshape(test_X.shape[0], test_X.shape[1])\n",
    "t_X = test_X.reshape(test_X.shape[0], 1, test_X.shape[1])\n",
    "\n",
    "indices = np.random.choice(range(t_X.shape[0]), replace=False, size=3)\n",
    "for index in indices:\n",
    "    x_test = test_X[index]\n",
    "    x_test = x_test.reshape(x_test.shape[1], x_test.shape[0])\n",
    "    test_X_rescaled = scaler_object.inverse_transform(x_test)\n",
    "    plot_prediction(test_X_rescaled[0], [y_test[index]], yhat[index])\n",
    "\n"
   ],
   "metadata": {
    "collapsed": false,
    "pycharm": {
     "name": "#%%\n",
     "is_executing": false
    }
   }
  },
  {
   "cell_type": "markdown",
   "source": [
    "## Predicting k steps in the future\n"
   ],
   "metadata": {
    "collapsed": false,
    "pycharm": {
     "name": "#%% md\n"
    }
   }
  },
  {
   "cell_type": "code",
   "execution_count": 17,
   "outputs": [
    {
     "name": "stdout",
     "text": [
      "~~~~~~~~~~~~~~~~~~~~~~~~~~~~~~~~~~~~~~~~~~~~~~~~~~\n~~~~~~~~~~~~~~~~~~~~~~~~~~~~~~~~~~~~~~~~~~~~~~~~~~\nPredictions for index: 12837\ninput shape (1, 10, 1)\nPred  1\nInput shape: (1, 10, 1)\nWindow rescaled\n[[242.35 242.4  242.45 242.5  242.55 242.6  242.65 242.7  242.75 242.8 ]]\nyhat [[242.94843]]\nNew window: [242.4        242.45       242.5        242.55       242.6\n 242.65       242.7        242.75       242.8        242.94842529]\n##################################################\nPred  2\nInput shape: (1, 10, 1)\nWindow rescaled\n[[242.4        242.45       242.5        242.55       242.6\n  242.65       242.7        242.75       242.8        242.94842529]]\nyhat [[242.98718]]\nNew window: [242.45       242.5        242.55       242.6        242.65\n 242.7        242.75       242.8        242.94842529 242.98718262]\n##################################################\nPred  3\nInput shape: (1, 10, 1)\nWindow rescaled\n[[242.45       242.5        242.55       242.6        242.65\n  242.7        242.75       242.8        242.94842529 242.98718262]]\nyhat [[243.02579]]\nNew window: [242.5        242.55       242.6        242.65       242.7\n 242.75       242.8        242.94842529 242.98718262 243.02578735]\n##################################################\n[242.94843, 242.98718, 243.02579]\n~~~~~~~~~~~~~~~~~~~~~~~~~~~~~~~~~~~~~~~~~~~~~~~~~~\n~~~~~~~~~~~~~~~~~~~~~~~~~~~~~~~~~~~~~~~~~~~~~~~~~~\nPredictions for index: 18757\ninput shape (1, 10, 1)\nPred  1\nInput shape: (1, 10, 1)\nWindow rescaled\n[[300.05 300.05 300.05 300.05 300.05 300.05 300.05 300.05 300.05 300.05]]\nyhat [[300.68433]]\nNew window: [300.05       300.05       300.05       300.05       300.05\n 300.05       300.05       300.05       300.05       300.68432617]\n##################################################\nPred  2\nInput shape: (1, 10, 1)\nWindow rescaled\n[[300.05       300.05       300.05       300.05       300.05\n  300.05       300.05       300.05       300.05       300.68432617]]\nyhat [[300.68433]]\nNew window: [300.05       300.05       300.05       300.05       300.05\n 300.05       300.05       300.05       300.68432617 300.68432617]\n##################################################\nPred  3\nInput shape: (1, 10, 1)\nWindow rescaled\n[[300.05       300.05       300.05       300.05       300.05\n  300.05       300.05       300.05       300.68432617 300.68432617]]\nyhat [[300.68433]]\nNew window: [300.05       300.05       300.05       300.05       300.05\n 300.05       300.05       300.68432617 300.68432617 300.68432617]\n##################################################\n[300.68433, 300.68433, 300.68433]\n~~~~~~~~~~~~~~~~~~~~~~~~~~~~~~~~~~~~~~~~~~~~~~~~~~\n~~~~~~~~~~~~~~~~~~~~~~~~~~~~~~~~~~~~~~~~~~~~~~~~~~\nPredictions for index: 6141\ninput shape (1, 10, 1)\nPred  1\nInput shape: (1, 10, 1)\nWindow rescaled\n[[6.95 7.   7.05 7.1  7.15 7.2  7.25 7.3  7.35 7.4 ]]\nyhat [[32.661743]]\nNew window: [ 7.          7.05        7.1         7.15        7.2         7.25\n  7.3         7.35        7.4        32.66174316]\n##################################################\nPred  2\nInput shape: (1, 10, 1)\nWindow rescaled\n[[ 7.          7.05        7.1         7.15        7.2         7.25\n   7.3         7.35        7.4        32.66174316]]\nyhat [[32.755245]]\nNew window: [ 7.05        7.1         7.15        7.2         7.25        7.3\n  7.35        7.4        32.66174316 32.75524521]\n##################################################\nPred  3\nInput shape: (1, 10, 1)\nWindow rescaled\n[[ 7.05        7.1         7.15        7.2         7.25        7.3\n   7.35        7.4        32.66174316 32.75524521]]\nyhat [[32.848724]]\nNew window: [ 7.1         7.15        7.2         7.25        7.3         7.35\n  7.4        32.66174316 32.75524521 32.84872437]\n##################################################\n[32.661743, 32.755245, 32.848724]\n[[242.94843, 242.98718, 243.02579], [300.68433, 300.68433, 300.68433], [32.661743, 32.755245, 32.848724]]\n"
     ],
     "output_type": "stream"
    }
   ],
   "source": [
    "all_predictions = []\n",
    "for index in indices:\n",
    "    print(\"~\"*50)\n",
    "    print(\"~\"*50)\n",
    "    print(\"Predictions for index:\", index)\n",
    "    x_test = np.asarray([test_X[index]])    \n",
    "\n",
    "    input = x_test\n",
    "    print(\"input shape\", input.shape)\n",
    "    predictions = []\n",
    "    \n",
    "    for i in range(predict_k):\n",
    "        print(\"Pred \", i+1)    \n",
    "        print(\"Input shape:\", input.shape)\n",
    "        window = input.reshape(x_test.shape[0], x_test.shape[1])\n",
    "        ##print(\"Window\")\n",
    "        ##print(window)\n",
    "        ##print(\"window shape\",window.shape)\n",
    "        \n",
    "        # This will convert the values to Location values\n",
    "        window_rescaled = scaler_object.inverse_transform(window)\n",
    "        print(\"Window rescaled\")\n",
    "        print(window_rescaled)\n",
    "        ##print(\"window rescaled shape:\",window_rescaled.shape)\n",
    "        \n",
    "        yhat = model.predict(input)\n",
    "        predictions.append(yhat[0][0])    \n",
    "        print('yhat', yhat)\n",
    "        ##print(type(yhat))\n",
    "        ##print(type(window_rescaled))\n",
    "        \n",
    "        input = np.append(window_rescaled[:,1:], yhat)\n",
    "        print(\"New window:\", input)\n",
    "        ##print(\"New window shape\", input.shape)\n",
    "        input = input.reshape(1, input.shape[0], window.shape[0])\n",
    "        ##print(\"New new input shape:\", input.shape)\n",
    "        ##print(input)\n",
    "        # This will convert the location values to scaled values\n",
    "        \n",
    "        input = input.reshape(1, input.shape[1])\n",
    "        input = scaler_object.transform(input)\n",
    "        ##print(\"New scaled input\")\n",
    "        ##print(input)\n",
    "        ##print(\"New scaled input shape\", input.shape)\n",
    "        \n",
    "        input = input.reshape(1, input.shape[1], window.shape[0])\n",
    "        ##print(\"input shape\",input.shape)\n",
    "        print(\"#\" * 50)\n",
    "    \n",
    "    print(predictions)\n",
    "    all_predictions.append(predictions)\n",
    "print(all_predictions)\n",
    "        "
   ],
   "metadata": {
    "collapsed": false,
    "pycharm": {
     "name": "#%%\n",
     "is_executing": false
    }
   }
  },
  {
   "cell_type": "markdown",
   "source": [
    "## Plot future predictions\n"
   ],
   "metadata": {
    "collapsed": false,
    "pycharm": {
     "name": "#%% md\n"
    }
   }
  },
  {
   "cell_type": "code",
   "execution_count": null,
   "outputs": [],
   "source": [
    "\n"
   ],
   "metadata": {
    "collapsed": false,
    "pycharm": {
     "name": "#%%\n"
    }
   }
  },
  {
   "cell_type": "code",
   "execution_count": 18,
   "outputs": [
    {
     "name": "stdout",
     "text": [
      "Initial X: [242.35 242.4  242.45 242.5  242.55 242.6  242.65 242.7  242.75 242.8 ]\nTrue t+1: [242.85]\nk predictions [242.94843, 242.98718, 243.02579]\n",
      "Initial X: [300.05 300.05 300.05 300.05 300.05 300.05 300.05 300.05 300.05 300.05]\nTrue t+1: [300.05]\nk predictions [300.68433, 300.68433, 300.68433]\n",
      "Initial X: [6.95 7.   7.05 7.1  7.15 7.2  7.25 7.3  7.35 7.4 ]\nTrue t+1: [7.45]\nk predictions [32.661743, 32.755245, 32.848724]\n"
     ],
     "output_type": "stream"
    },
    {
     "data": {
      "image/png": "[encoded data removed]",
      "text/plain": "<Figure size 864x216 with 1 Axes>"
     },
     "metadata": {
      "needs_background": "light"
     },
     "output_type": "display_data"
    },
    {
     "data": {
      "image/png": "[encoded data removed]",
      "text/plain": "<Figure size 864x216 with 1 Axes>"
     },
     "metadata": {
      "needs_background": "light"
     },
     "output_type": "display_data"
    },
    {
     "data": {
      "image/png": "[encoded data removed]",
      "text/plain": "<Figure size 864x216 with 1 Axes>"
     },
     "metadata": {
      "needs_background": "light"
     },
     "output_type": "display_data"
    }
   ],
   "source": [
    "for i,index in enumerate(indices):\n",
    "    x_test = test_X[index]\n",
    "    x_test = x_test.reshape(x_test.shape[1], x_test.shape[0])\n",
    "    test_X_rescaled = scaler_object.inverse_transform(x_test)\n",
    "    #plot_prediction\n",
    "    print(\"Initial X:\",test_X_rescaled[0])\n",
    "    print(\"True t+1:\",[y_test[index]])\n",
    "    print(\"k predictions\",all_predictions[i])\n",
    "    plot_prediction(test_X_rescaled[0], [y_test[index]], all_predictions[i])"
   ],
   "metadata": {
    "collapsed": false,
    "pycharm": {
     "name": "#%%\n",
     "is_executing": false
    }
   }
  }
 ],
 "metadata": {
  "language_info": {
   "codemirror_mode": {
    "name": "ipython",
    "version": 2
   },
   "file_extension": ".py",
   "mimetype": "text/x-python",
   "name": "python",
   "nbconvert_exporter": "python",
   "pygments_lexer": "ipython2",
   "version": "2.7.6"
  },
  "kernelspec": {
   "name": "python3",
   "language": "python",
   "display_name": "Python 3"
  },
  "pycharm": {
   "stem_cell": {
    "cell_type": "raw",
    "source": [],
    "metadata": {
     "collapsed": false
    }
   }
  }
 },
 "nbformat": 4,
 "nbformat_minor": 0
}