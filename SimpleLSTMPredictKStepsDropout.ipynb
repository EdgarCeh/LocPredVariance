{
 "cells": [
  {
   "cell_type": "code",
   "execution_count": null,
   "outputs": [],
   "source": [
    "'''\n",
    "This script runs a simple LSTM model on a single columns (XLocation or YLocation)\n",
    "and predict k time steps in the future (t+1, t+2...t+k)\n",
    "\n",
    "'''\n"
   ],
   "metadata": {
    "collapsed": false,
    "pycharm": {
     "name": "#%%\n"
    }
   }
  },
  {
   "cell_type": "code",
   "execution_count": 1,
   "outputs": [
    {
     "name": "stderr",
     "text": [
      "Using TensorFlow backend.\n"
     ],
     "output_type": "stream"
    }
   ],
   "source": [
    "import pandas as pd\n",
    "import numpy as np\n",
    "import matplotlib.pyplot as plt\n",
    "from pickle import dump, load\n",
    "import sys\n",
    "import keras\n",
    "from sklearn.metrics import mean_squared_error,mean_absolute_error\n",
    "from sklearn.model_selection import  train_test_split\n",
    "from sklearn.preprocessing import MinMaxScaler\n",
    "from keras.models import Sequential\n",
    "from keras.layers import Dense, LSTM, Activation, Dropout\n",
    "from keras.models import load_model\n"
   ],
   "metadata": {
    "collapsed": false,
    "pycharm": {
     "name": "#%%\n",
     "is_executing": false
    }
   }
  },
  {
   "cell_type": "code",
   "execution_count": 2,
   "outputs": [],
   "source": [
    "def plot_prediction(x, y_true, y_pred):\n",
    "    \"\"\"Plots the predictions.\n",
    "\n",
    "    Arguments\n",
    "    ---------\n",
    "    x: Input sequence of shape (input_sequence_length,\n",
    "        dimension_of_signal)\n",
    "    y_true: True output sequence of shape (input_sequence_length,\n",
    "        dimension_of_signal)\n",
    "    y_pred: Predicted output sequence (input_sequence_length,\n",
    "        dimension_of_signal)\n",
    "    \"\"\"\n",
    "    label1 = \"Seen (past) values\"\n",
    "    label2 = \"True future values\"\n",
    "    label3 = \"Predictions\"\n",
    "    \n",
    "    plt.figure(figsize=(12, 3))\n",
    "    plt.plot(range(len(x)),x, \"o--b\", label=label1)\n",
    "    plt.plot(range(len(x), len(x) + len(y_true) ), y_true, \"x--b\", label=label2)\n",
    "    plt.plot(range(len(x), len(x) + len(y_pred)),y_pred, \"o--y\", label=label3)\n",
    "    \n",
    "    plt.legend(loc='best')\n",
    "    plt.title(\"Predictions v.s. true values\")\n",
    "    plt.show()\n",
    "    \n",
    "    \n"
   ],
   "metadata": {
    "collapsed": false,
    "pycharm": {
     "name": "#%%\n",
     "is_executing": false
    }
   }
  },
  {
   "cell_type": "code",
   "execution_count": 3,
   "outputs": [],
   "source": [
    "def size_per_targets(data):\n",
    "    #print(\"Total: \", data.shape[0])\n",
    "    sizes = data.groupby(['id', 'file_id']).size()\n",
    "    #print(sizes)\n",
    "    #print(type(sizes))\n",
    "    #print(\"Total:\",sum(list(sizes)))\n",
    "\n",
    "    return list(sizes)\n"
   ],
   "metadata": {
    "collapsed": false,
    "pycharm": {
     "name": "#%%\n",
     "is_executing": false
    }
   }
  },
  {
   "cell_type": "code",
   "execution_count": 4,
   "outputs": [],
   "source": [
    "def generate_input_data(data, sizes, train_len, target_seq):\n",
    "    targets = len(sizes)\n",
    "    start = 0\n",
    "    sequences = []\n",
    "    X = []\n",
    "    y = []\n",
    "    \n",
    "    for i, size in enumerate(sizes):\n",
    "        print(\"Chunk\", i+1)\n",
    "        end = start + size\n",
    "        print(\"Size of block %d, Range: %d-%d\" % (size, start, end))\n",
    "        temp_df = data.iloc[start:end]\n",
    "        \n",
    "        values = temp_df.iloc[:,-target_seq].values\n",
    "        for i in range(train_len, len(values)):\n",
    "            seq = values[i-train_len:i]\n",
    "            \n",
    "            sequences.append(seq)\n",
    "                   \n",
    "        # update start\n",
    "        start = start + size\n",
    "    \n",
    "    sequences = np.array(sequences)    \n",
    "    print(\"[INFO] Sequences generated:\", len(sequences))\n",
    "    \n",
    "    X = sequences[:,:-target_seq]\n",
    "    y = sequences[:,-target_seq]\n",
    "\n",
    "    return X, y\n",
    "\n"
   ],
   "metadata": {
    "collapsed": false,
    "pycharm": {
     "name": "#%%\n",
     "is_executing": false
    }
   }
  },
  {
   "cell_type": "markdown",
   "source": [
    "# MAIN   \n"
   ],
   "metadata": {
    "collapsed": false
   }
  },
  {
   "cell_type": "markdown",
   "source": [
    "## Load the data"
   ],
   "metadata": {
    "collapsed": false
   }
  },
  {
   "cell_type": "code",
   "execution_count": 42,
   "outputs": [
    {
     "name": "stdout",
     "text": [
      "(500050, 18)\n['id', 'file_id', 'Pn', 'Pe', 'h', 'Va', 'Phi', 'Theta', 'Chi', 'Psi', 'Vg', 'Azimuth', 'Elevation', 'XPixel', 'YPixel', 'ZValue', 'XLocation', 'YLocation']\n"
     ],
     "output_type": "stream"
    }
   ],
   "source": [
    "filename = 'data/AllData.csv'\n",
    "data = pd.read_csv(filename)\n",
    "print(data.shape)\n",
    "print(list(data.columns))\n"
   ],
   "metadata": {
    "collapsed": false,
    "pycharm": {
     "name": "#%%\n",
     "is_executing": false
    }
   }
  },
  {
   "cell_type": "markdown",
   "source": [
    "## Generate the input data\n"
   ],
   "metadata": {
    "collapsed": false
   }
  },
  {
   "cell_type": "markdown",
   "source": [
    "#### Defining Parameters\n"
   ],
   "metadata": {
    "collapsed": false
   }
  },
  {
   "cell_type": "code",
   "execution_count": 89,
   "outputs": [],
   "source": [
    "column_of_interest = 'XLocation'\n",
    "input_seq = 10\n",
    "target_seq = 1      # \n",
    "predict_k = 3       # predict k time steps in the future\n",
    "train_len = input_seq + target_seq\n",
    "target = 0     # 0 = AllTargets\n",
    "test_percentage = 0.2\n",
    "rand_test = True\n",
    "\n",
    "dropout = .4\n",
    "batch_size = 64\n",
    "neurons = 64\n",
    "epochs = 100\n",
    "\n",
    "model_filename = 'models/model_lstm_'+column_of_interest+\"_\"+str(input_seq)+\"_timesteps_dropout.h5\"\n",
    "scaler_filename = 'models/model_lstm_'+column_of_interest+\"_\"+str(input_seq)+\"_timesteps_dropout\"\n"
   ],
   "metadata": {
    "collapsed": false,
    "pycharm": {
     "name": "#%%\n",
     "is_executing": false
    }
   }
  },
  {
   "cell_type": "markdown",
   "source": [
    "## Generate input data\n"
   ],
   "metadata": {
    "collapsed": false
   }
  },
  {
   "cell_type": "code",
   "execution_count": 90,
   "outputs": [
    {
     "name": "stdout",
     "text": [
      "Chunk 1\nSize of block 10001, Range: 0-10001\nChunk 2\nSize of block 10001, Range: 10001-20002\nChunk 3\nSize of block 10001, Range: 20002-30003\nChunk 4\nSize of block 10001, Range: 30003-40004\nChunk 5\nSize of block 10001, Range: 40004-50005\nChunk 6\nSize of block 10001, Range: 50005-60006\nChunk 7\nSize of block 10001, Range: 60006-70007\nChunk 8\nSize of block 10001, Range: 70007-80008\nChunk 9\nSize of block 10001, Range: 80008-90009\nChunk 10\nSize of block 10001, Range: 90009-100010\nChunk 11\nSize of block 10001, Range: 100010-110011\nChunk 12\nSize of block 10001, Range: 110011-120012\nChunk 13\nSize of block 10001, Range: 120012-130013\nChunk 14\nSize of block 10001, Range: 130013-140014\nChunk 15\nSize of block 10001, Range: 140014-150015\nChunk 16\nSize of block 10001, Range: 150015-160016\nChunk 17\nSize of block 10001, Range: 160016-170017\nChunk 18\nSize of block 10001, Range: 170017-180018\nChunk 19\nSize of block 10001, Range: 180018-190019\nChunk 20\nSize of block 10001, Range: 190019-200020\nChunk 21\nSize of block 10001, Range: 200020-210021\nChunk 22\nSize of block 10001, Range: 210021-220022\nChunk 23\nSize of block 10001, Range: 220022-230023\nChunk 24\nSize of block 10001, Range: 230023-240024\nChunk 25\nSize of block 10001, Range: 240024-250025\nChunk 26\nSize of block 10001, Range: 250025-260026\nChunk 27\nSize of block 10001, Range: 260026-270027\nChunk 28\nSize of block 10001, Range: 270027-280028\nChunk 29\nSize of block 10001, Range: 280028-290029\nChunk 30\nSize of block 10001, Range: 290029-300030\nChunk 31\nSize of block 10001, Range: 300030-310031\nChunk 32\nSize of block 10001, Range: 310031-320032\nChunk 33\nSize of block 10001, Range: 320032-330033\nChunk 34\nSize of block 10001, Range: 330033-340034\nChunk 35\nSize of block 10001, Range: 340034-350035\nChunk 36\nSize of block 10001, Range: 350035-360036\nChunk 37\nSize of block 10001, Range: 360036-370037\nChunk 38\nSize of block 10001, Range: 370037-380038\nChunk 39\nSize of block 10001, Range: 380038-390039\nChunk 40\nSize of block 10001, Range: 390039-400040\nChunk 41\nSize of block 10001, Range: 400040-410041\nChunk 42\nSize of block 10001, Range: 410041-420042\nChunk 43\nSize of block 10001, Range: 420042-430043\nChunk 44\nSize of block 10001, Range: 430043-440044\nChunk 45\nSize of block 10001, Range: 440044-450045\nChunk 46\nSize of block 10001, Range: 450045-460046\nChunk 47\nSize of block 10001, Range: 460046-470047\nChunk 48\nSize of block 10001, Range: 470047-480048\nChunk 49\nSize of block 10001, Range: 480048-490049\nChunk 50\nSize of block 10001, Range: 490049-500050\n",
      "[INFO] Sequences generated: 499500\n"
     ],
     "output_type": "stream"
    }
   ],
   "source": [
    "# -1 is All data, else is the target id\n",
    "\n",
    "if target != 0:\n",
    "    input_data = data[data['id'] == target]\n",
    "else:\n",
    "    input_data = data\n",
    "\n",
    "# Take only the column of interest\n",
    "input_data = input_data[['id', 'file_id', column_of_interest]]\n",
    "columns = input_data.columns\n",
    "\n",
    "# We need to generate the sequences based on the id and file_id\n",
    "sizes = size_per_targets(input_data)\n",
    "X, y = generate_input_data(input_data, sizes, train_len, target_seq)\n"
   ],
   "metadata": {
    "collapsed": false,
    "pycharm": {
     "name": "#%%\n",
     "is_executing": false
    }
   }
  },
  {
   "cell_type": "markdown",
   "source": [
    "### Getting train, test data"
   ],
   "metadata": {
    "collapsed": false
   }
  },
  {
   "cell_type": "code",
   "execution_count": 91,
   "outputs": [
    {
     "name": "stdout",
     "text": [
      "Randomly picking train, test dataset\nX Train size= 249750\nX Test size= 249750\ny Train size= 249750\ny Test size= 249750\n"
     ],
     "output_type": "stream"
    }
   ],
   "source": [
    "\n",
    "# If we select the train and test randomly\n",
    "if rand_test:\n",
    "    print(\"Randomly picking train, test dataset\")\n",
    "    X_train, X_test, y_train, y_test = train_test_split(X, y, test_size=test_percentage, \n",
    "                                                        shuffle=False, random_state=42)\n",
    "# Else, select the last % part as testing\n",
    "else:\n",
    "    print(\"Train, test split based on percentage\")\n",
    "    test_size = int(X.shape[0] * test_percentage)\n",
    "    train_size = int(X.shape[0] - test_size)\n",
    "    print(\"Train size:\", train_size)\n",
    "    X_train = X[:train_size, :]\n",
    "    X_test = X[train_size:, :]\n",
    "    \n",
    "    y_train = y[:train_size]\n",
    "    y_test = y[train_size:]    \n",
    "\n",
    "print(\"X Train size=\", X_train.shape[0])\n",
    "print(\"X Test size=\",X_test.shape[0])\n",
    "print(\"y Train size=\", y_train.shape[0])\n",
    "print(\"y Test size=\",y_test.shape[0])\n"
   ],
   "metadata": {
    "collapsed": false,
    "pycharm": {
     "name": "#%%\n",
     "is_executing": false
    }
   }
  },
  {
   "cell_type": "markdown",
   "source": [
    "### Scale the Input Data\n"
   ],
   "metadata": {
    "collapsed": false
   }
  },
  {
   "cell_type": "code",
   "execution_count": 92,
   "outputs": [
    {
     "name": "stdout",
     "text": [
      "(Instances,Sequence,Features)\n(249750, 10, 1) (249750,) (249750, 10, 1) (249750,)\n"
     ],
     "output_type": "stream"
    }
   ],
   "source": [
    "# fit the values between 0 and 1\n",
    "scaler_object = MinMaxScaler()\n",
    "\n",
    "scaler_object.fit(X_train)\n",
    "\n",
    "scaled_X_train =  scaler_object.transform(X_train)\n",
    "scaled_X_test =  scaler_object.transform(X_test)\n",
    "\n",
    "train_X = scaled_X_train.reshape((scaled_X_train.shape[0], 1, scaled_X_train.shape[1]))\n",
    "test_X = scaled_X_test.reshape((scaled_X_test.shape[0], 1, scaled_X_test.shape[1]))\n",
    "\n",
    "\n",
    "#print(train_X.shape, y_train.shape, test_X.shape, y_test.shape)\n",
    "\n",
    "train_X = train_X.reshape((scaled_X_train.shape[0], scaled_X_train.shape[1], 1))\n",
    "\n",
    "test_X = test_X.reshape((scaled_X_test.shape[0], scaled_X_test.shape[1], 1))\n",
    "print(\"(Instances,Sequence,Features)\")\n",
    "print(train_X.shape, y_train.shape, test_X.shape, y_test.shape)\n",
    "\n"
   ],
   "metadata": {
    "collapsed": false,
    "pycharm": {
     "name": "#%% \n",
     "is_executing": false
    }
   }
  },
  {
   "cell_type": "markdown",
   "source": [
    "## Create the LSTM model\n"
   ],
   "metadata": {
    "collapsed": false
   }
  },
  {
   "cell_type": "code",
   "execution_count": 93,
   "outputs": [
    {
     "name": "stdout",
     "text": [
      "_________________________________________________________________\nLayer (type)                 Output Shape              Param #   \n=================================================================\nlstm_11 (LSTM)               (None, 10, 64)            16896     \n_________________________________________________________________\ndropout_11 (Dropout)         (None, 10, 64)            0         \n_________________________________________________________________\nlstm_12 (LSTM)               (None, 64)                33024     \n_________________________________________________________________\ndropout_12 (Dropout)         (None, 64)                0         \n_________________________________________________________________\ndense_6 (Dense)              (None, 1)                 65        \n=================================================================\nTotal params: 49,985\nTrainable params: 49,985\nNon-trainable params: 0\n_________________________________________________________________\n",
      "Train on 249750 samples, validate on 249750 samples\nEpoch 1/100\n",
      " - 41s - loss: 123.3119 - val_loss: 97.0820\n",
      "Epoch 2/100\n",
      " - 38s - loss: 65.8986 - val_loss: 69.5133\n",
      "Epoch 3/100\n",
      " - 38s - loss: 66.4065 - val_loss: 70.8938\n",
      "Epoch 4/100\n",
      " - 38s - loss: 43.7115 - val_loss: 29.8210\n",
      "Epoch 5/100\n",
      " - 38s - loss: 26.8648 - val_loss: 39.7886\n",
      "Epoch 6/100\n",
      " - 38s - loss: 25.9772 - val_loss: 32.6039\n",
      "Epoch 7/100\n",
      " - 39s - loss: 23.6674 - val_loss: 26.9404\n",
      "Epoch 8/100\n",
      " - 39s - loss: 21.0134 - val_loss: 10.5955\n",
      "Epoch 9/100\n",
      " - 39s - loss: 19.9003 - val_loss: 30.4465\n",
      "Epoch 10/100\n",
      " - 39s - loss: 19.3902 - val_loss: 16.8574\n",
      "Epoch 11/100\n",
      " - 39s - loss: 18.9533 - val_loss: 9.2169\n",
      "Epoch 12/100\n",
      " - 39s - loss: 18.5631 - val_loss: 7.2380\n",
      "Epoch 13/100\n",
      " - 39s - loss: 18.2938 - val_loss: 16.3781\n",
      "Epoch 14/100\n",
      " - 39s - loss: 18.0216 - val_loss: 15.1707\n",
      "Epoch 15/100\n",
      " - 39s - loss: 17.9276 - val_loss: 18.2353\n",
      "Epoch 16/100\n",
      " - 39s - loss: 17.7091 - val_loss: 15.9084\n",
      "Epoch 17/100\n",
      " - 39s - loss: 17.6692 - val_loss: 5.7829\n",
      "Epoch 18/100\n",
      " - 39s - loss: 17.4307 - val_loss: 18.0198\n",
      "Epoch 19/100\n",
      " - 39s - loss: 17.4254 - val_loss: 14.5244\n",
      "Epoch 20/100\n",
      " - 39s - loss: 17.1542 - val_loss: 10.4009\n",
      "Epoch 21/100\n",
      " - 39s - loss: 16.9632 - val_loss: 8.4937\n",
      "Epoch 22/100\n",
      " - 39s - loss: 17.0108 - val_loss: 15.7872\n",
      "Epoch 23/100\n",
      " - 39s - loss: 16.8394 - val_loss: 6.0112\n",
      "Epoch 24/100\n",
      " - 39s - loss: 16.7107 - val_loss: 12.7599\n",
      "Epoch 25/100\n",
      " - 39s - loss: 16.6082 - val_loss: 19.6804\n",
      "Epoch 26/100\n",
      " - 39s - loss: 16.5298 - val_loss: 16.4352\n",
      "Epoch 27/100\n",
      " - 39s - loss: 16.5986 - val_loss: 17.5330\n",
      "Epoch 28/100\n",
      " - 39s - loss: 16.2793 - val_loss: 7.2307\n",
      "Epoch 29/100\n",
      " - 39s - loss: 16.3163 - val_loss: 16.7247\n",
      "Epoch 30/100\n",
      " - 39s - loss: 16.1162 - val_loss: 13.9439\n",
      "Epoch 31/100\n",
      " - 39s - loss: 15.9042 - val_loss: 8.4660\n",
      "Epoch 32/100\n",
      " - 39s - loss: 15.8473 - val_loss: 16.5114\n",
      "Epoch 33/100\n",
      " - 39s - loss: 15.7465 - val_loss: 9.6586\n",
      "Epoch 34/100\n",
      " - 39s - loss: 15.7377 - val_loss: 18.5533\n",
      "Epoch 35/100\n",
      " - 39s - loss: 15.5689 - val_loss: 10.0401\n",
      "Epoch 36/100\n",
      " - 39s - loss: 15.5254 - val_loss: 6.1141\n",
      "Epoch 37/100\n",
      " - 39s - loss: 15.3327 - val_loss: 7.3328\n",
      "Epoch 38/100\n",
      " - 38s - loss: 15.3137 - val_loss: 10.3862\n",
      "Epoch 39/100\n",
      " - 39s - loss: 15.1883 - val_loss: 11.9853\n",
      "Epoch 40/100\n",
      " - 39s - loss: 15.0142 - val_loss: 8.9248\n",
      "Epoch 41/100\n",
      " - 39s - loss: 14.9860 - val_loss: 12.6677\n",
      "Epoch 42/100\n",
      " - 39s - loss: 14.9893 - val_loss: 17.8611\n",
      "Epoch 43/100\n",
      " - 39s - loss: 14.8114 - val_loss: 17.0331\n",
      "Epoch 44/100\n",
      " - 39s - loss: 14.8504 - val_loss: 6.8197\n",
      "Epoch 45/100\n",
      " - 39s - loss: 14.5793 - val_loss: 11.9137\n",
      "Epoch 46/100\n",
      " - 39s - loss: 14.5789 - val_loss: 12.5512\n",
      "Epoch 47/100\n",
      " - 39s - loss: 14.3750 - val_loss: 11.8740\n",
      "Epoch 48/100\n",
      " - 39s - loss: 14.1472 - val_loss: 7.9490\n",
      "Epoch 49/100\n",
      " - 39s - loss: 14.1557 - val_loss: 6.8925\n",
      "Epoch 50/100\n",
      " - 39s - loss: 14.0730 - val_loss: 6.8102\n",
      "Epoch 51/100\n",
      " - 39s - loss: 13.9088 - val_loss: 13.8850\n",
      "Epoch 52/100\n",
      " - 39s - loss: 13.9310 - val_loss: 6.7270\n",
      "Epoch 53/100\n",
      " - 38s - loss: 13.7496 - val_loss: 10.5490\n",
      "Epoch 54/100\n",
      " - 38s - loss: 13.7327 - val_loss: 8.6732\n",
      "Epoch 55/100\n",
      " - 38s - loss: 13.5267 - val_loss: 11.8741\n",
      "Epoch 56/100\n",
      " - 38s - loss: 13.4307 - val_loss: 5.0098\n",
      "Epoch 57/100\n",
      " - 38s - loss: 13.3378 - val_loss: 10.1595\n",
      "Epoch 58/100\n",
      " - 38s - loss: 13.3341 - val_loss: 6.8808\n",
      "Epoch 59/100\n",
      " - 38s - loss: 13.2739 - val_loss: 9.5813\n",
      "Epoch 60/100\n",
      " - 38s - loss: 13.0712 - val_loss: 4.0285\n",
      "Epoch 61/100\n",
      " - 38s - loss: 13.1010 - val_loss: 10.7269\n",
      "Epoch 62/100\n",
      " - 38s - loss: 12.9418 - val_loss: 6.6769\n",
      "Epoch 63/100\n",
      " - 38s - loss: 12.7905 - val_loss: 12.1506\n",
      "Epoch 64/100\n",
      " - 38s - loss: 12.7132 - val_loss: 11.7148\n",
      "Epoch 65/100\n",
      " - 38s - loss: 12.8171 - val_loss: 14.3632\n",
      "Epoch 66/100\n",
      " - 38s - loss: 12.5757 - val_loss: 5.7015\n",
      "Epoch 67/100\n",
      " - 38s - loss: 12.4308 - val_loss: 3.8931\n",
      "Epoch 68/100\n",
      " - 38s - loss: 12.4337 - val_loss: 5.0706\n",
      "Epoch 69/100\n",
      " - 38s - loss: 12.2291 - val_loss: 13.6587\n",
      "Epoch 70/100\n",
      " - 38s - loss: 12.3929 - val_loss: 4.2631\n",
      "Epoch 71/100\n",
      " - 38s - loss: 12.1094 - val_loss: 5.5704\n",
      "Epoch 72/100\n",
      " - 38s - loss: 12.1493 - val_loss: 12.5714\n",
      "Epoch 73/100\n",
      " - 38s - loss: 12.0439 - val_loss: 6.5741\n",
      "Epoch 74/100\n",
      " - 38s - loss: 11.9513 - val_loss: 2.8851\n",
      "Epoch 75/100\n",
      " - 38s - loss: 11.8676 - val_loss: 11.9581\n",
      "Epoch 76/100\n",
      " - 38s - loss: 11.7899 - val_loss: 4.6892\n",
      "Epoch 77/100\n",
      " - 38s - loss: 11.6032 - val_loss: 7.9263\n",
      "Epoch 78/100\n",
      " - 38s - loss: 11.5719 - val_loss: 4.5254\n",
      "Epoch 79/100\n",
      " - 38s - loss: 11.6078 - val_loss: 9.2526\n",
      "Epoch 80/100\n",
      " - 38s - loss: 11.4497 - val_loss: 3.1398\n",
      "Epoch 81/100\n",
      " - 38s - loss: 11.4181 - val_loss: 4.5032\n",
      "Epoch 82/100\n",
      " - 39s - loss: 11.2886 - val_loss: 4.4236\n",
      "Epoch 83/100\n",
      " - 39s - loss: 11.2421 - val_loss: 5.0669\n",
      "Epoch 84/100\n",
      " - 38s - loss: 11.2932 - val_loss: 6.4930\n",
      "Epoch 85/100\n",
      " - 38s - loss: 11.0779 - val_loss: 3.4995\n",
      "Epoch 86/100\n",
      " - 38s - loss: 11.0268 - val_loss: 6.2748\n",
      "Epoch 87/100\n",
      " - 38s - loss: 10.8725 - val_loss: 9.9448\n",
      "Epoch 88/100\n",
      " - 38s - loss: 10.9530 - val_loss: 9.7664\n",
      "Epoch 89/100\n",
      " - 38s - loss: 10.8615 - val_loss: 5.6377\n",
      "Epoch 90/100\n",
      " - 38s - loss: 10.7420 - val_loss: 12.7869\n",
      "Epoch 91/100\n",
      " - 38s - loss: 10.7455 - val_loss: 5.4896\n",
      "Epoch 92/100\n",
      " - 38s - loss: 10.6391 - val_loss: 11.3983\n",
      "Epoch 93/100\n",
      " - 38s - loss: 10.5427 - val_loss: 7.3726\n",
      "Epoch 94/100\n",
      " - 38s - loss: 10.5216 - val_loss: 8.2703\n",
      "Epoch 95/100\n",
      " - 38s - loss: 10.5326 - val_loss: 4.1654\n",
      "Epoch 96/100\n",
      " - 38s - loss: 10.3701 - val_loss: 4.0586\n",
      "Epoch 97/100\n",
      " - 38s - loss: 10.3216 - val_loss: 4.4244\n",
      "Epoch 98/100\n",
      " - 38s - loss: 10.2485 - val_loss: 5.4422\n",
      "Epoch 99/100\n",
      " - 38s - loss: 10.2187 - val_loss: 14.2026\n",
      "Epoch 100/100\n",
      " - 38s - loss: 10.1620 - val_loss: 8.3960\n"
     ],
     "output_type": "stream"
    }
   ],
   "source": [
    "### If it is already saved then do not run it again, it takes time\n",
    "# design network\n",
    "model = Sequential()\n",
    "model.add(LSTM(neurons, input_shape=(train_X.shape[1], train_X.shape[2]), return_sequences=True))\n",
    "model.add(Dropout(dropout))\n",
    "model.add(LSTM(neurons))\n",
    "model.add(Dropout(dropout))\n",
    "model.add(Dense(1))\n",
    "model.compile(loss='mae', optimizer='adam')\n",
    "model.summary()\n",
    "# fit network\n",
    "history = model.fit(train_X, y_train, epochs=epochs, batch_size=batch_size, \n",
    "                    validation_data=(test_X, y_test), verbose=2, shuffle=False)\n"
   ],
   "metadata": {
    "collapsed": false,
    "pycharm": {
     "name": "#%%\n",
     "is_executing": false
    }
   }
  },
  {
   "cell_type": "markdown",
   "source": [
    "### Plot the loss"
   ],
   "metadata": {
    "collapsed": false
   }
  },
  {
   "cell_type": "code",
   "execution_count": 94,
   "outputs": [
    {
     "data": {
      "text/plain": "<Figure size 432x288 with 1 Axes>",
      "image/png": "[encoded data removed]"
     },
     "metadata": {
      "needs_background": "light"
     },
     "output_type": "display_data"
    },
    {
     "name": "stdout",
     "text": [
      "dict_keys(['val_loss', 'loss'])\n"
     ],
     "output_type": "stream"
    }
   ],
   "source": [
    "# plot history\n",
    "plt.plot(history.history['loss'], label='train')\n",
    "plt.plot(history.history['val_loss'], label='test')\n",
    "plt.legend()\n",
    "plt.show()\n",
    "\n",
    "print(history.history.keys())\n"
   ],
   "metadata": {
    "collapsed": false,
    "pycharm": {
     "name": "#%%\n",
     "is_executing": false
    }
   }
  },
  {
   "cell_type": "markdown",
   "source": [
    "### Save the model and scaler\n"
   ],
   "metadata": {
    "collapsed": false
   }
  },
  {
   "cell_type": "code",
   "execution_count": 95,
   "outputs": [
    {
     "name": "stdout",
     "text": [
      "models/model_lstm_XLocation_10_timesteps_dropout.h5\n",
      "models/model_lstm_XLocation_10_timesteps_dropout\n"
     ],
     "output_type": "stream"
    }
   ],
   "source": [
    "print(model_filename)\n",
    "model.save(model_filename)\n",
    "print(scaler_filename)\n",
    "dump(scaler_object, open(scaler_filename, 'wb'))\n"
   ],
   "metadata": {
    "collapsed": false,
    "pycharm": {
     "name": "#%%\n",
     "is_executing": false
    }
   }
  },
  {
   "cell_type": "markdown",
   "source": [
    "### Load the model\n"
   ],
   "metadata": {
    "collapsed": false
   }
  },
  {
   "cell_type": "code",
   "execution_count": 96,
   "outputs": [],
   "source": [
    "model = load_model(model_filename)\n",
    "scaler_object = load(open(scaler_filename, 'rb'))\n"
   ],
   "metadata": {
    "collapsed": false,
    "pycharm": {
     "name": "#%%\n",
     "is_executing": false
    }
   }
  },
  {
   "cell_type": "markdown",
   "source": [
    "## Evaluate the model\n"
   ],
   "metadata": {
    "collapsed": false
   }
  },
  {
   "cell_type": "code",
   "execution_count": 97,
   "outputs": [
    {
     "name": "stdout",
     "text": [
      "test_X shape (249750, 10, 1)\n",
      "Test RMSE: 10.728\nTest MAE: 2.898\n"
     ],
     "output_type": "stream"
    }
   ],
   "source": [
    "# make a prediction\n",
    "print(\"test_X shape\", test_X.shape)\n",
    "yhat = model.predict(test_X)\n",
    "# calculate RMSE\n",
    "rmse = np.sqrt(mean_squared_error(y_test, yhat))\n",
    "print('Test RMSE: %.3f' % rmse)\n",
    "mae = np.sqrt(mean_absolute_error(y_test, yhat))\n",
    "print('Test MAE: %.3f' % mae)\n"
   ],
   "metadata": {
    "collapsed": false,
    "pycharm": {
     "name": "#%%\n",
     "is_executing": false
    }
   }
  },
  {
   "cell_type": "markdown",
   "source": [
    "## Comparing results"
   ],
   "metadata": {
    "collapsed": false
   }
  },
  {
   "cell_type": "code",
   "execution_count": 106,
   "outputs": [
    {
     "data": {
      "text/plain": "<Figure size 864x216 with 1 Axes>",
      "image/png": "[encoded data removed]"
     },
     "metadata": {
      "needs_background": "light"
     },
     "output_type": "display_data"
    },
    {
     "data": {
      "text/plain": "<Figure size 864x216 with 1 Axes>",
      "image/png": "[encoded data removed]"
     },
     "metadata": {
      "needs_background": "light"
     },
     "output_type": "display_data"
    },
    {
     "data": {
      "text/plain": "<Figure size 864x216 with 1 Axes>",
      "image/png": "[encoded data removed]"
     },
     "metadata": {
      "needs_background": "light"
     },
     "output_type": "display_data"
    }
   ],
   "source": [
    "# Picked k random test instances\n",
    "#t_X = test_X.reshape(test_X.shape[0], test_X.shape[1])\n",
    "t_X = test_X.reshape(test_X.shape[0], 1, test_X.shape[1])\n",
    "\n",
    "indices = np.random.choice(range(t_X.shape[0]), replace=False, size=3)\n",
    "for index in indices:\n",
    "    x_test = test_X[index]\n",
    "    x_test = x_test.reshape(x_test.shape[1], x_test.shape[0])\n",
    "    test_X_rescaled = scaler_object.inverse_transform(x_test)\n",
    "    plot_prediction(test_X_rescaled[0], [y_test[index]], yhat[index])\n",
    "\n"
   ],
   "metadata": {
    "collapsed": false,
    "pycharm": {
     "name": "#%%\n",
     "is_executing": false
    }
   }
  },
  {
   "cell_type": "markdown",
   "source": [
    "## Predicting k steps in the future\n"
   ],
   "metadata": {
    "collapsed": false
   }
  },
  {
   "cell_type": "code",
   "execution_count": 107,
   "outputs": [
    {
     "name": "stdout",
     "text": [
      "~~~~~~~~~~~~~~~~~~~~~~~~~~~~~~~~~~~~~~~~~~~~~~~~~~\n~~~~~~~~~~~~~~~~~~~~~~~~~~~~~~~~~~~~~~~~~~~~~~~~~~\nPredictions for index: 6099\ninput shape (1, 10, 1)\nPred  1\nInput shape: (1, 10, 1)\nWindow rescaled\n[[295.35 295.3  295.25 295.2  295.15 295.1  295.05 295.   294.95 294.9 ]]\nyhat [[283.93503]]\nNew window: [295.3        295.25       295.2        295.15       295.1\n 295.05       295.         294.95       294.9        283.93502808]\n##################################################\nPred  2\nInput shape: (1, 10, 1)\nWindow rescaled\n[[295.3        295.25       295.2        295.15       295.1\n  295.05       295.         294.95       294.9        283.93502808]]\nyhat [[283.57306]]\nNew window: [295.25       295.2        295.15       295.1        295.05\n 295.         294.95       294.9        283.93502808 283.57305908]\n##################################################\nPred  3\nInput shape: (1, 10, 1)\nWindow rescaled\n[[295.25       295.2        295.15       295.1        295.05\n  295.         294.95       294.9        283.93502808 283.57305908]]\nyhat [[283.71417]]\nNew window: [295.2        295.15       295.1        295.05       295.\n 294.95       294.9        283.93502808 283.57305908 283.71417236]\n##################################################\n[283.93503, 283.57306, 283.71417]\n~~~~~~~~~~~~~~~~~~~~~~~~~~~~~~~~~~~~~~~~~~~~~~~~~~\n~~~~~~~~~~~~~~~~~~~~~~~~~~~~~~~~~~~~~~~~~~~~~~~~~~\nPredictions for index: 151897\ninput shape (1, 10, 1)\nPred  1\nInput shape: (1, 10, 1)\nWindow rescaled\n[[247.75 247.7  247.65 247.6  247.55 247.5  247.45 247.4  247.35 247.3 ]]\nyhat [[244.32819]]\nNew window: [247.7        247.65       247.6        247.55       247.5\n 247.45       247.4        247.35       247.3        244.32818604]\n##################################################\nPred  2\nInput shape: (1, 10, 1)\nWindow rescaled\n[[247.7        247.65       247.6        247.55       247.5\n  247.45       247.4        247.35       247.3        244.32818604]]\nyhat [[244.18501]]\nNew window: [247.65       247.6        247.55       247.5        247.45\n 247.4        247.35       247.3        244.32818604 244.18501282]\n##################################################\nPred  3\nInput shape: (1, 10, 1)\nWindow rescaled\n[[247.65       247.6        247.55       247.5        247.45\n  247.4        247.35       247.3        244.32818604 244.18501282]]\nyhat [[244.15302]]\nNew window: [247.6        247.55       247.5        247.45       247.4\n 247.35       247.3        244.32818604 244.18501282 244.15301514]\n##################################################\n[244.32819, 244.18501, 244.15302]\n~~~~~~~~~~~~~~~~~~~~~~~~~~~~~~~~~~~~~~~~~~~~~~~~~~\n~~~~~~~~~~~~~~~~~~~~~~~~~~~~~~~~~~~~~~~~~~~~~~~~~~\nPredictions for index: 210613\ninput shape (1, 10, 1)\nPred  1\nInput shape: (1, 10, 1)\nWindow rescaled\n[[191.15 191.2  191.25 191.3  191.35 191.4  191.45 191.5  191.55 191.6 ]]\nyhat [[189.51857]]\nNew window: [191.2        191.25       191.3        191.35       191.4\n 191.45       191.5        191.55       191.6        189.51856995]\n##################################################\nPred  2\nInput shape: (1, 10, 1)\nWindow rescaled\n[[191.2        191.25       191.3        191.35       191.4\n  191.45       191.5        191.55       191.6        189.51856995]]\nyhat [[189.47119]]\nNew window: [191.25       191.3        191.35       191.4        191.45\n 191.5        191.55       191.6        189.51856995 189.47119141]\n##################################################\nPred  3\nInput shape: (1, 10, 1)\nWindow rescaled\n[[191.25       191.3        191.35       191.4        191.45\n  191.5        191.55       191.6        189.51856995 189.47119141]]\nyhat [[189.52872]]\nNew window: [191.3        191.35       191.4        191.45       191.5\n 191.55       191.6        189.51856995 189.47119141 189.52871704]\n##################################################\n[189.51857, 189.47119, 189.52872]\n[[283.93503, 283.57306, 283.71417], [244.32819, 244.18501, 244.15302], [189.51857, 189.47119, 189.52872]]\n"
     ],
     "output_type": "stream"
    }
   ],
   "source": [
    "all_predictions = []\n",
    "for index in indices:\n",
    "    print(\"~\"*50)\n",
    "    print(\"~\"*50)\n",
    "    print(\"Predictions for index:\", index)\n",
    "    x_test = np.asarray([test_X[index]])    \n",
    "\n",
    "    input = x_test\n",
    "    print(\"input shape\", input.shape)\n",
    "    predictions = []\n",
    "    \n",
    "    for i in range(predict_k):\n",
    "        print(\"Pred \", i+1)    \n",
    "        print(\"Input shape:\", input.shape)\n",
    "        window = input.reshape(x_test.shape[0], x_test.shape[1])\n",
    "        ##print(\"Window\")\n",
    "        ##print(window)\n",
    "        ##print(\"window shape\",window.shape)\n",
    "        \n",
    "        # This will convert the values to Location values\n",
    "        window_rescaled = scaler_object.inverse_transform(window)\n",
    "        print(\"Window rescaled\")\n",
    "        print(window_rescaled)\n",
    "        ##print(\"window rescaled shape:\",window_rescaled.shape)\n",
    "        \n",
    "        yhat = model.predict(input)\n",
    "        predictions.append(yhat[0][0])    \n",
    "        print('yhat', yhat)\n",
    "        ##print(type(yhat))\n",
    "        ##print(type(window_rescaled))\n",
    "        \n",
    "        input = np.append(window_rescaled[:,1:], yhat)\n",
    "        print(\"New window:\", input)\n",
    "        ##print(\"New window shape\", input.shape)\n",
    "        input = input.reshape(1, input.shape[0], window.shape[0])\n",
    "        ##print(\"New new input shape:\", input.shape)\n",
    "        ##print(input)\n",
    "        # This will convert the location values to scaled values\n",
    "        \n",
    "        input = input.reshape(1, input.shape[1])\n",
    "        input = scaler_object.transform(input)\n",
    "        ##print(\"New scaled input\")\n",
    "        ##print(input)\n",
    "        ##print(\"New scaled input shape\", input.shape)\n",
    "        \n",
    "        input = input.reshape(1, input.shape[1], window.shape[0])\n",
    "        ##print(\"input shape\",input.shape)\n",
    "        print(\"#\" * 50)\n",
    "    \n",
    "    print(predictions)\n",
    "    all_predictions.append(predictions)\n",
    "print(all_predictions)\n",
    "        "
   ],
   "metadata": {
    "collapsed": false,
    "pycharm": {
     "name": "#%%\n",
     "is_executing": false
    }
   }
  },
  {
   "cell_type": "markdown",
   "source": [
    "## Plot future predictions\n"
   ],
   "metadata": {
    "collapsed": false
   }
  },
  {
   "cell_type": "code",
   "execution_count": 40,
   "outputs": [],
   "source": [
    "\n"
   ],
   "metadata": {
    "collapsed": false,
    "pycharm": {
     "name": "#%%\n",
     "is_executing": false
    }
   }
  },
  {
   "cell_type": "code",
   "execution_count": 108,
   "outputs": [
    {
     "name": "stdout",
     "text": [
      "Initial X: [295.35 295.3  295.25 295.2  295.15 295.1  295.05 295.   294.95 294.9 ]\nTrue t+1: [294.85]\nk predictions [283.93503, 283.57306, 283.71417]\n",
      "Initial X: [247.75 247.7  247.65 247.6  247.55 247.5  247.45 247.4  247.35 247.3 ]\nTrue t+1: [247.25]\nk predictions [244.32819, 244.18501, 244.15302]\n",
      "Initial X: [191.15 191.2  191.25 191.3  191.35 191.4  191.45 191.5  191.55 191.6 ]\nTrue t+1: [191.65]\nk predictions [189.51857, 189.47119, 189.52872]\n"
     ],
     "output_type": "stream"
    },
    {
     "data": {
      "text/plain": "<Figure size 864x216 with 1 Axes>",
      "image/png": "[encoded data removed]"
     },
     "metadata": {
      "needs_background": "light"
     },
     "output_type": "display_data"
    },
    {
     "data": {
      "text/plain": "<Figure size 864x216 with 1 Axes>",
      "image/png": "[encoded data removed]"
     },
     "metadata": {
      "needs_background": "light"
     },
     "output_type": "display_data"
    },
    {
     "data": {
      "text/plain": "<Figure size 864x216 with 1 Axes>",
      "image/png": "[encoded data removed]"
     },
     "metadata": {
      "needs_background": "light"
     },
     "output_type": "display_data"
    }
   ],
   "source": [
    "for i,index in enumerate(indices):\n",
    "    x_test = test_X[index]\n",
    "    x_test = x_test.reshape(x_test.shape[1], x_test.shape[0])\n",
    "    test_X_rescaled = scaler_object.inverse_transform(x_test)\n",
    "    #plot_prediction\n",
    "    print(\"Initial X:\",test_X_rescaled[0])\n",
    "    print(\"True t+1:\",[y_test[index]])\n",
    "    print(\"k predictions\",all_predictions[i])\n",
    "    plot_prediction(test_X_rescaled[0], [y_test[index]], all_predictions[i])\n"
   ],
   "metadata": {
    "collapsed": false,
    "pycharm": {
     "name": "#%%\n",
     "is_executing": false
    }
   }
  }
 ],
 "metadata": {
  "language_info": {
   "codemirror_mode": {
    "name": "ipython",
    "version": 2
   },
   "file_extension": ".py",
   "mimetype": "text/x-python",
   "name": "python",
   "nbconvert_exporter": "python",
   "pygments_lexer": "ipython2",
   "version": "2.7.6"
  },
  "kernelspec": {
   "name": "python3",
   "language": "python",
   "display_name": "Python 3"
  },
  "pycharm": {
   "stem_cell": {
    "cell_type": "raw",
    "source": [],
    "metadata": {
     "collapsed": false
    }
   }
  }
 },
 "nbformat": 4,
 "nbformat_minor": 0
}