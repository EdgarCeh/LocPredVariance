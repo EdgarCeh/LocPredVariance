{
 "cells": [
  {
   "cell_type": "code",
   "execution_count": null,
   "outputs": [],
   "source": [
    "'''\n",
    "This script runs a simple LSTM model on a single columns (XLocation or YLocation)\n",
    "and predict k time steps in the future (t+1, t+2...t+k)\n",
    "\n",
    "'''\n"
   ],
   "metadata": {
    "collapsed": false,
    "pycharm": {
     "name": "#%%\n"
    }
   }
  },
  {
   "cell_type": "code",
   "execution_count": 1,
   "outputs": [
    {
     "name": "stderr",
     "text": [
      "Using TensorFlow backend.\n"
     ],
     "output_type": "stream"
    }
   ],
   "source": [
    "import pandas as pd\n",
    "import numpy as np\n",
    "import matplotlib.pyplot as plt\n",
    "from pickle import dump, load\n",
    "import sys\n",
    "import keras\n",
    "from sklearn.metrics import mean_squared_error,mean_absolute_error\n",
    "from sklearn.model_selection import  train_test_split\n",
    "from sklearn.preprocessing import MinMaxScaler\n",
    "from keras.models import Sequential\n",
    "from keras.layers import Dense, LSTM, Activation, Dropout\n",
    "from keras.models import load_model\n"
   ],
   "metadata": {
    "collapsed": false,
    "pycharm": {
     "name": "#%%\n",
     "is_executing": false
    }
   }
  },
  {
   "cell_type": "code",
   "execution_count": 2,
   "outputs": [],
   "source": [
    "def plot_prediction(x, y_true, y_pred):\n",
    "    \"\"\"Plots the predictions.\n",
    "\n",
    "    Arguments\n",
    "    ---------\n",
    "    x: Input sequence of shape (input_sequence_length,\n",
    "        dimension_of_signal)\n",
    "    y_true: True output sequence of shape (input_sequence_length,\n",
    "        dimension_of_signal)\n",
    "    y_pred: Predicted output sequence (input_sequence_length,\n",
    "        dimension_of_signal)\n",
    "    \"\"\"\n",
    "    label1 = \"Seen (past) values\"\n",
    "    label2 = \"True future values\"\n",
    "    label3 = \"Predictions\"\n",
    "    \n",
    "    plt.figure(figsize=(12, 3))\n",
    "    plt.plot(range(len(x)),x, \"o--b\", label=label1)\n",
    "    plt.plot(range(len(x), len(x) + len(y_true) ), y_true, \"x--b\", label=label2)\n",
    "    plt.plot(range(len(x), len(x) + len(y_pred)),y_pred, \"o--y\", label=label3)\n",
    "    \n",
    "    plt.legend(loc='best')\n",
    "    plt.title(\"Predictions v.s. true values\")\n",
    "    plt.show()\n",
    "    \n",
    "    \n"
   ],
   "metadata": {
    "collapsed": false,
    "pycharm": {
     "name": "#%%\n",
     "is_executing": false
    }
   }
  },
  {
   "cell_type": "code",
   "execution_count": 3,
   "outputs": [],
   "source": [
    "def size_per_targets(data):\n",
    "    #print(\"Total: \", data.shape[0])\n",
    "    sizes = data.groupby(['id', 'file_id']).size()\n",
    "    #print(sizes)\n",
    "    #print(type(sizes))\n",
    "    #print(\"Total:\",sum(list(sizes)))\n",
    "\n",
    "    return list(sizes)\n"
   ],
   "metadata": {
    "collapsed": false,
    "pycharm": {
     "name": "#%%\n",
     "is_executing": false
    }
   }
  },
  {
   "cell_type": "code",
   "execution_count": 4,
   "outputs": [],
   "source": [
    "def generate_input_data(data, sizes, train_len, target_seq):\n",
    "    targets = len(sizes)\n",
    "    start = 0\n",
    "    sequences = []\n",
    "    X = []\n",
    "    y = []\n",
    "    \n",
    "    for i, size in enumerate(sizes):\n",
    "        print(\"Chunk\", i+1)\n",
    "        end = start + size\n",
    "        print(\"Size of block %d, Range: %d-%d\" % (size, start, end))\n",
    "        temp_df = data.iloc[start:end]\n",
    "        \n",
    "        values = temp_df.iloc[:,-target_seq].values\n",
    "        for i in range(train_len, len(values)):\n",
    "            seq = values[i-train_len:i]\n",
    "            \n",
    "            sequences.append(seq)\n",
    "                   \n",
    "        # update start\n",
    "        start = start + size\n",
    "    \n",
    "    sequences = np.array(sequences)    \n",
    "    print(\"[INFO] Sequences generated:\", len(sequences))\n",
    "    \n",
    "    X = sequences[:,:-target_seq]\n",
    "    y = sequences[:,-target_seq]\n",
    "\n",
    "    return X, y\n",
    "\n"
   ],
   "metadata": {
    "collapsed": false,
    "pycharm": {
     "name": "#%%\n",
     "is_executing": false
    }
   }
  },
  {
   "cell_type": "markdown",
   "source": [
    "# MAIN   \n"
   ],
   "metadata": {
    "collapsed": false
   }
  },
  {
   "cell_type": "markdown",
   "source": [
    "## Load the data"
   ],
   "metadata": {
    "collapsed": false
   }
  },
  {
   "cell_type": "code",
   "execution_count": 5,
   "outputs": [
    {
     "name": "stdout",
     "text": [
      "(500050, 18)\n['id', 'file_id', 'Pn', 'Pe', 'h', 'Va', 'Phi', 'Theta', 'Chi', 'Psi', 'Vg', 'Azimuth', 'Elevation', 'XPixel', 'YPixel', 'ZValue', 'XLocation', 'YLocation']\n"
     ],
     "output_type": "stream"
    }
   ],
   "source": [
    "filename = 'data/AllData.csv'\n",
    "data = pd.read_csv(filename)\n",
    "print(data.shape)\n",
    "print(list(data.columns))\n"
   ],
   "metadata": {
    "collapsed": false,
    "pycharm": {
     "name": "#%%\n",
     "is_executing": false
    }
   }
  },
  {
   "cell_type": "markdown",
   "source": [
    "## Generate the input data\n"
   ],
   "metadata": {
    "collapsed": false
   }
  },
  {
   "cell_type": "markdown",
   "source": [
    "#### Defining Parameters\n"
   ],
   "metadata": {
    "collapsed": false
   }
  },
  {
   "cell_type": "code",
   "execution_count": 6,
   "outputs": [],
   "source": [
    "column_of_interest = 'YLocation'\n",
    "input_seq = 10\n",
    "target_seq = 1      # \n",
    "predict_k = 3       # predict k time steps in the future\n",
    "train_len = input_seq + target_seq\n",
    "target = 0     # 0 = AllTargets\n",
    "test_percentage = 0.2\n",
    "rand_test = True\n",
    "\n",
    "dropout = .4\n",
    "batch_size = 64\n",
    "neurons = 64\n",
    "epochs = 100\n",
    "\n",
    "model_filename = 'models/model_lstm_'+column_of_interest+\"_\"+str(input_seq)+\"_timesteps_dropout.h5\"\n",
    "scaler_filename = 'models/model_lstm_'+column_of_interest+\"_\"+str(input_seq)+\"_timesteps_dropout\"\n"
   ],
   "metadata": {
    "collapsed": false,
    "pycharm": {
     "name": "#%%\n",
     "is_executing": false
    }
   }
  },
  {
   "cell_type": "markdown",
   "source": [
    "## Generate input data\n"
   ],
   "metadata": {
    "collapsed": false
   }
  },
  {
   "cell_type": "code",
   "execution_count": 7,
   "outputs": [
    {
     "name": "stdout",
     "text": [
      "Chunk 1\nSize of block 10001, Range: 0-10001\nChunk 2\nSize of block 10001, Range: 10001-20002\nChunk 3\nSize of block 10001, Range: 20002-30003\nChunk 4\nSize of block 10001, Range: 30003-40004\nChunk 5\nSize of block 10001, Range: 40004-50005\nChunk 6\nSize of block 10001, Range: 50005-60006\nChunk 7\nSize of block 10001, Range: 60006-70007\nChunk 8\nSize of block 10001, Range: 70007-80008\nChunk 9\nSize of block 10001, Range: 80008-90009\nChunk 10\nSize of block 10001, Range: 90009-100010\nChunk 11\nSize of block 10001, Range: 100010-110011\nChunk 12\nSize of block 10001, Range: 110011-120012\nChunk 13\nSize of block 10001, Range: 120012-130013\nChunk 14\nSize of block 10001, Range: 130013-140014\nChunk 15\nSize of block 10001, Range: 140014-150015\nChunk 16\nSize of block 10001, Range: 150015-160016\nChunk 17\nSize of block 10001, Range: 160016-170017\nChunk 18\nSize of block 10001, Range: 170017-180018\nChunk 19\nSize of block 10001, Range: 180018-190019\nChunk 20\nSize of block 10001, Range: 190019-200020\nChunk 21\nSize of block 10001, Range: 200020-210021\nChunk 22\nSize of block 10001, Range: 210021-220022\nChunk 23\nSize of block 10001, Range: 220022-230023\nChunk 24\nSize of block 10001, Range: 230023-240024\nChunk 25\nSize of block 10001, Range: 240024-250025\nChunk 26\nSize of block 10001, Range: 250025-260026\nChunk 27\nSize of block 10001, Range: 260026-270027\nChunk 28\nSize of block 10001, Range: 270027-280028\nChunk 29\nSize of block 10001, Range: 280028-290029\nChunk 30\nSize of block 10001, Range: 290029-300030\nChunk 31\nSize of block 10001, Range: 300030-310031\nChunk 32\nSize of block 10001, Range: 310031-320032\nChunk 33\nSize of block 10001, Range: 320032-330033\nChunk 34\nSize of block 10001, Range: 330033-340034\nChunk 35\nSize of block 10001, Range: 340034-350035\nChunk 36\nSize of block 10001, Range: 350035-360036\nChunk 37\nSize of block 10001, Range: 360036-370037\nChunk 38\nSize of block 10001, Range: 370037-380038\nChunk 39\nSize of block 10001, Range: 380038-390039\nChunk 40\nSize of block 10001, Range: 390039-400040\nChunk 41\nSize of block 10001, Range: 400040-410041\nChunk 42\nSize of block 10001, Range: 410041-420042\nChunk 43\nSize of block 10001, Range: 420042-430043\nChunk 44\nSize of block 10001, Range: 430043-440044\nChunk 45\nSize of block 10001, Range: 440044-450045\nChunk 46\nSize of block 10001, Range: 450045-460046\nChunk 47\nSize of block 10001, Range: 460046-470047\nChunk 48\nSize of block 10001, Range: 470047-480048\nChunk 49\nSize of block 10001, Range: 480048-490049\nChunk 50\nSize of block 10001, Range: 490049-500050\n",
      "[INFO] Sequences generated: 499500\n"
     ],
     "output_type": "stream"
    }
   ],
   "source": [
    "# -1 is All data, else is the target id\n",
    "\n",
    "if target != 0:\n",
    "    input_data = data[data['id'] == target]\n",
    "else:\n",
    "    input_data = data\n",
    "\n",
    "# Take only the column of interest\n",
    "input_data = input_data[['id', 'file_id', column_of_interest]]\n",
    "columns = input_data.columns\n",
    "\n",
    "# We need to generate the sequences based on the id and file_id\n",
    "sizes = size_per_targets(input_data)\n",
    "X, y = generate_input_data(input_data, sizes, train_len, target_seq)\n"
   ],
   "metadata": {
    "collapsed": false,
    "pycharm": {
     "name": "#%%\n",
     "is_executing": false
    }
   }
  },
  {
   "cell_type": "markdown",
   "source": [
    "### Getting train, test data"
   ],
   "metadata": {
    "collapsed": false
   }
  },
  {
   "cell_type": "code",
   "execution_count": 8,
   "outputs": [
    {
     "name": "stdout",
     "text": [
      "Randomly picking train, test dataset\nX Train size= 399600\nX Test size= 99900\ny Train size= 399600\ny Test size= 99900\n"
     ],
     "output_type": "stream"
    }
   ],
   "source": [
    "\n",
    "# If we select the train and test randomly\n",
    "if rand_test:\n",
    "    print(\"Randomly picking train, test dataset\")\n",
    "    X_train, X_test, y_train, y_test = train_test_split(X, y, test_size=test_percentage, \n",
    "                                                        shuffle=False, random_state=42)\n",
    "# Else, select the last % part as testing\n",
    "else:\n",
    "    print(\"Train, test split based on percentage\")\n",
    "    test_size = int(X.shape[0] * test_percentage)\n",
    "    train_size = int(X.shape[0] - test_size)\n",
    "    print(\"Train size:\", train_size)\n",
    "    X_train = X[:train_size, :]\n",
    "    X_test = X[train_size:, :]\n",
    "    \n",
    "    y_train = y[:train_size]\n",
    "    y_test = y[train_size:]    \n",
    "\n",
    "print(\"X Train size=\", X_train.shape[0])\n",
    "print(\"X Test size=\",X_test.shape[0])\n",
    "print(\"y Train size=\", y_train.shape[0])\n",
    "print(\"y Test size=\",y_test.shape[0])\n"
   ],
   "metadata": {
    "collapsed": false,
    "pycharm": {
     "name": "#%%\n",
     "is_executing": false
    }
   }
  },
  {
   "cell_type": "markdown",
   "source": [
    "### Scale the Input Data\n"
   ],
   "metadata": {
    "collapsed": false
   }
  },
  {
   "cell_type": "code",
   "execution_count": 9,
   "outputs": [
    {
     "name": "stdout",
     "text": [
      "(Instances,Sequence,Features)\n(399600, 10, 1) (399600,) (99900, 10, 1) (99900,)\n"
     ],
     "output_type": "stream"
    }
   ],
   "source": [
    "# fit the values between 0 and 1\n",
    "scaler_object = MinMaxScaler()\n",
    "\n",
    "scaler_object.fit(X_train)\n",
    "\n",
    "scaled_X_train =  scaler_object.transform(X_train)\n",
    "scaled_X_test =  scaler_object.transform(X_test)\n",
    "\n",
    "train_X = scaled_X_train.reshape((scaled_X_train.shape[0], 1, scaled_X_train.shape[1]))\n",
    "test_X = scaled_X_test.reshape((scaled_X_test.shape[0], 1, scaled_X_test.shape[1]))\n",
    "\n",
    "\n",
    "#print(train_X.shape, y_train.shape, test_X.shape, y_test.shape)\n",
    "\n",
    "train_X = train_X.reshape((scaled_X_train.shape[0], scaled_X_train.shape[1], 1))\n",
    "\n",
    "test_X = test_X.reshape((scaled_X_test.shape[0], scaled_X_test.shape[1], 1))\n",
    "print(\"(Instances,Sequence,Features)\")\n",
    "print(train_X.shape, y_train.shape, test_X.shape, y_test.shape)\n",
    "\n"
   ],
   "metadata": {
    "collapsed": false,
    "pycharm": {
     "name": "#%% \n",
     "is_executing": false
    }
   }
  },
  {
   "cell_type": "markdown",
   "source": [
    "## Create the LSTM model\n"
   ],
   "metadata": {
    "collapsed": false
   }
  },
  {
   "cell_type": "code",
   "execution_count": 10,
   "outputs": [
    {
     "name": "stdout",
     "text": [
      "WARNING:tensorflow:From /mnt/0a1cd6b4-4d6a-40d6-80be-a86f7c7fec17/MyCodes/Public_laloceh_GitProjects/Python/Pythorch/venv/lib/python3.5/site-packages/tensorflow/python/framework/op_def_library.py:263: colocate_with (from tensorflow.python.framework.ops) is deprecated and will be removed in a future version.\nInstructions for updating:\nColocations handled automatically by placer.\n",
      "WARNING:tensorflow:From /mnt/0a1cd6b4-4d6a-40d6-80be-a86f7c7fec17/MyCodes/Public_laloceh_GitProjects/Python/Pythorch/venv/lib/python3.5/site-packages/keras/backend/tensorflow_backend.py:3445: calling dropout (from tensorflow.python.ops.nn_ops) with keep_prob is deprecated and will be removed in a future version.\nInstructions for updating:\nPlease use `rate` instead of `keep_prob`. Rate should be set to `rate = 1 - keep_prob`.\n",
      "_________________________________________________________________\nLayer (type)                 Output Shape              Param #   \n=================================================================\nlstm_1 (LSTM)                (None, 10, 64)            16896     \n_________________________________________________________________\ndropout_1 (Dropout)          (None, 10, 64)            0         \n_________________________________________________________________\nlstm_2 (LSTM)                (None, 64)                33024     \n_________________________________________________________________\ndropout_2 (Dropout)          (None, 64)                0         \n_________________________________________________________________\ndense_1 (Dense)              (None, 1)                 65        \n=================================================================\nTotal params: 49,985\nTrainable params: 49,985\nNon-trainable params: 0\n_________________________________________________________________\nWARNING:tensorflow:From /mnt/0a1cd6b4-4d6a-40d6-80be-a86f7c7fec17/MyCodes/Public_laloceh_GitProjects/Python/Pythorch/venv/lib/python3.5/site-packages/tensorflow/python/ops/math_ops.py:3066: to_int32 (from tensorflow.python.ops.math_ops) is deprecated and will be removed in a future version.\nInstructions for updating:\nUse tf.cast instead.\n",
      "Train on 399600 samples, validate on 99900 samples\nEpoch 1/100\n",
      " - 52s - loss: 82.3749 - val_loss: 85.7670\n",
      "Epoch 2/100\n",
      " - 50s - loss: 50.9050 - val_loss: 153.9544\n",
      "Epoch 3/100\n",
      " - 50s - loss: 34.3578 - val_loss: 120.3340\n",
      "Epoch 4/100\n",
      " - 51s - loss: 30.8193 - val_loss: 133.5199\n",
      "Epoch 5/100\n",
      " - 50s - loss: 23.7422 - val_loss: 93.5197\n",
      "Epoch 6/100\n",
      " - 50s - loss: 18.5161 - val_loss: 42.3591\n",
      "Epoch 7/100\n",
      " - 50s - loss: 16.3915 - val_loss: 36.1456\n",
      "Epoch 8/100\n",
      " - 50s - loss: 15.3078 - val_loss: 40.3919\n",
      "Epoch 9/100\n",
      " - 50s - loss: 15.2008 - val_loss: 26.3492\n",
      "Epoch 10/100\n",
      " - 50s - loss: 14.1384 - val_loss: 38.3221\n",
      "Epoch 11/100\n",
      " - 50s - loss: 13.6479 - val_loss: 32.5166\n",
      "Epoch 12/100\n",
      " - 50s - loss: 13.3333 - val_loss: 26.6181\n",
      "Epoch 13/100\n",
      " - 50s - loss: 13.1003 - val_loss: 20.7908\n",
      "Epoch 14/100\n",
      " - 51s - loss: 12.7784 - val_loss: 19.8122\n",
      "Epoch 15/100\n",
      " - 50s - loss: 12.6210 - val_loss: 26.4095\n",
      "Epoch 16/100\n",
      " - 50s - loss: 12.3911 - val_loss: 23.5147\n",
      "Epoch 17/100\n",
      " - 50s - loss: 12.3115 - val_loss: 19.8512\n",
      "Epoch 18/100\n",
      " - 50s - loss: 12.2335 - val_loss: 18.6057\n",
      "Epoch 19/100\n",
      " - 51s - loss: 11.9089 - val_loss: 21.0673\n",
      "Epoch 20/100\n",
      " - 50s - loss: 11.7831 - val_loss: 22.2903\n",
      "Epoch 21/100\n",
      " - 50s - loss: 11.6292 - val_loss: 15.5045\n",
      "Epoch 22/100\n",
      " - 51s - loss: 11.5823 - val_loss: 16.2003\n",
      "Epoch 23/100\n",
      " - 50s - loss: 11.3012 - val_loss: 15.2090\n",
      "Epoch 24/100\n",
      " - 50s - loss: 11.2361 - val_loss: 13.3408\n",
      "Epoch 25/100\n",
      " - 50s - loss: 11.0892 - val_loss: 13.5382\n",
      "Epoch 26/100\n",
      " - 50s - loss: 10.9045 - val_loss: 16.6181\n",
      "Epoch 27/100\n",
      " - 50s - loss: 10.8391 - val_loss: 14.8140\n",
      "Epoch 28/100\n",
      " - 50s - loss: 10.7632 - val_loss: 12.9861\n",
      "Epoch 29/100\n",
      " - 50s - loss: 10.5180 - val_loss: 11.6815\n",
      "Epoch 30/100\n",
      " - 50s - loss: 10.4457 - val_loss: 10.3275\n",
      "Epoch 31/100\n",
      " - 50s - loss: 10.3336 - val_loss: 7.9806\n",
      "Epoch 32/100\n",
      " - 50s - loss: 10.2429 - val_loss: 8.3837\n",
      "Epoch 33/100\n",
      " - 50s - loss: 10.1022 - val_loss: 12.1708\n",
      "Epoch 34/100\n",
      " - 50s - loss: 10.0026 - val_loss: 8.3747\n",
      "Epoch 35/100\n",
      " - 50s - loss: 9.8434 - val_loss: 12.5893\n",
      "Epoch 36/100\n",
      " - 50s - loss: 9.7664 - val_loss: 8.2455\n",
      "Epoch 37/100\n",
      " - 51s - loss: 9.6543 - val_loss: 7.2310\n",
      "Epoch 38/100\n",
      " - 50s - loss: 9.4929 - val_loss: 8.9344\n",
      "Epoch 39/100\n",
      " - 50s - loss: 9.4289 - val_loss: 7.6806\n",
      "Epoch 40/100\n",
      " - 50s - loss: 9.3063 - val_loss: 9.1677\n",
      "Epoch 41/100\n",
      " - 50s - loss: 9.1923 - val_loss: 9.8412\n",
      "Epoch 42/100\n",
      " - 50s - loss: 9.1307 - val_loss: 7.2715\n",
      "Epoch 43/100\n",
      " - 50s - loss: 8.9428 - val_loss: 9.5231\n",
      "Epoch 44/100\n",
      " - 50s - loss: 8.8674 - val_loss: 10.9811\n",
      "Epoch 45/100\n",
      " - 50s - loss: 8.8143 - val_loss: 7.6064\n",
      "Epoch 46/100\n",
      " - 50s - loss: 8.6347 - val_loss: 10.2684\n",
      "Epoch 47/100\n",
      " - 50s - loss: 8.5662 - val_loss: 9.0836\n",
      "Epoch 48/100\n",
      " - 50s - loss: 8.5027 - val_loss: 9.3355\n",
      "Epoch 49/100\n",
      " - 50s - loss: 8.3810 - val_loss: 8.5067\n",
      "Epoch 50/100\n",
      " - 50s - loss: 8.3097 - val_loss: 9.7335\n",
      "Epoch 51/100\n",
      " - 50s - loss: 8.2173 - val_loss: 8.3163\n",
      "Epoch 52/100\n",
      " - 54s - loss: 8.1270 - val_loss: 10.2186\n",
      "Epoch 53/100\n",
      " - 56s - loss: 8.0402 - val_loss: 7.3080\n",
      "Epoch 54/100\n",
      " - 51s - loss: 7.9915 - val_loss: 9.1607\n",
      "Epoch 55/100\n",
      " - 52s - loss: 7.8555 - val_loss: 8.1558\n",
      "Epoch 56/100\n",
      " - 58s - loss: 7.7642 - val_loss: 8.6548\n",
      "Epoch 57/100\n",
      " - 57s - loss: 7.6542 - val_loss: 8.8863\n",
      "Epoch 58/100\n",
      " - 56s - loss: 7.6546 - val_loss: 7.9774\n",
      "Epoch 59/100\n",
      " - 55s - loss: 7.5232 - val_loss: 5.9725\n",
      "Epoch 60/100\n",
      " - 57s - loss: 7.5342 - val_loss: 8.3277\n",
      "Epoch 61/100\n",
      " - 57s - loss: 7.3707 - val_loss: 8.9150\n",
      "Epoch 62/100\n",
      " - 56s - loss: 7.3594 - val_loss: 7.6107\n",
      "Epoch 63/100\n",
      " - 60s - loss: 7.2086 - val_loss: 6.7991\n",
      "Epoch 64/100\n",
      " - 55s - loss: 7.1627 - val_loss: 6.2989\n",
      "Epoch 65/100\n",
      " - 59s - loss: 7.1618 - val_loss: 4.8482\n",
      "Epoch 66/100\n",
      " - 55s - loss: 7.0626 - val_loss: 4.9481\n",
      "Epoch 67/100\n",
      " - 59s - loss: 7.0020 - val_loss: 7.9080\n",
      "Epoch 68/100\n",
      " - 55s - loss: 6.9449 - val_loss: 10.1118\n",
      "Epoch 69/100\n",
      " - 59s - loss: 6.8564 - val_loss: 6.4179\n",
      "Epoch 70/100\n",
      " - 54s - loss: 6.8115 - val_loss: 5.3880\n",
      "Epoch 71/100\n",
      " - 51s - loss: 6.8048 - val_loss: 4.0598\n",
      "Epoch 72/100\n",
      " - 61s - loss: 6.7308 - val_loss: 3.5818\n",
      "Epoch 73/100\n",
      " - 59s - loss: 6.7469 - val_loss: 5.7372\n",
      "Epoch 74/100\n",
      " - 60s - loss: 6.7716 - val_loss: 6.4615\n",
      "Epoch 75/100\n",
      " - 61s - loss: 6.7014 - val_loss: 5.2934\n",
      "Epoch 76/100\n",
      " - 61s - loss: 6.7426 - val_loss: 4.1692\n",
      "Epoch 77/100\n",
      " - 53s - loss: 6.6877 - val_loss: 5.0697\n",
      "Epoch 78/100\n",
      " - 51s - loss: 6.6408 - val_loss: 8.5661\n",
      "Epoch 79/100\n",
      " - 58s - loss: 6.6879 - val_loss: 6.6522\n",
      "Epoch 80/100\n",
      " - 58s - loss: 6.6606 - val_loss: 5.7325\n",
      "Epoch 81/100\n",
      " - 58s - loss: 6.6259 - val_loss: 5.1353\n",
      "Epoch 82/100\n",
      " - 65s - loss: 6.6385 - val_loss: 8.2929\n",
      "Epoch 83/100\n",
      " - 64s - loss: 6.6541 - val_loss: 4.0053\n",
      "Epoch 84/100\n",
      " - 62s - loss: 6.6266 - val_loss: 8.8985\n",
      "Epoch 85/100\n",
      " - 60s - loss: 6.6144 - val_loss: 10.5460\n",
      "Epoch 86/100\n",
      " - 53s - loss: 6.6523 - val_loss: 4.9301\n",
      "Epoch 87/100\n",
      " - 59s - loss: 6.6003 - val_loss: 8.4212\n",
      "Epoch 88/100\n",
      " - 63s - loss: 6.5923 - val_loss: 4.2513\n",
      "Epoch 89/100\n",
      " - 60s - loss: 6.6254 - val_loss: 7.2849\n",
      "Epoch 90/100\n",
      " - 63s - loss: 6.6076 - val_loss: 8.3573\n",
      "Epoch 91/100\n",
      " - 57s - loss: 6.5975 - val_loss: 6.7745\n",
      "Epoch 92/100\n",
      " - 57s - loss: 6.5798 - val_loss: 7.0353\n",
      "Epoch 93/100\n",
      " - 57s - loss: 6.5596 - val_loss: 5.5232\n",
      "Epoch 94/100\n",
      " - 58s - loss: 6.6001 - val_loss: 5.1443\n",
      "Epoch 95/100\n",
      " - 55s - loss: 6.6256 - val_loss: 5.8974\n",
      "Epoch 96/100\n",
      " - 51s - loss: 6.6066 - val_loss: 6.6505\n",
      "Epoch 97/100\n",
      " - 51s - loss: 6.5818 - val_loss: 4.6805\n",
      "Epoch 98/100\n",
      " - 51s - loss: 6.5624 - val_loss: 6.3827\n",
      "Epoch 99/100\n",
      " - 51s - loss: 6.6182 - val_loss: 7.9518\n",
      "Epoch 100/100\n",
      " - 51s - loss: 6.5385 - val_loss: 7.1348\n"
     ],
     "output_type": "stream"
    }
   ],
   "source": [
    "### If it is already saved then do not run it again, it takes time\n",
    "# design network\n",
    "model = Sequential()\n",
    "model.add(LSTM(neurons, input_shape=(train_X.shape[1], train_X.shape[2]), return_sequences=True))\n",
    "model.add(Dropout(dropout))\n",
    "model.add(LSTM(neurons))\n",
    "model.add(Dropout(dropout))\n",
    "model.add(Dense(1))\n",
    "model.compile(loss='mae', optimizer='adam')\n",
    "model.summary()\n",
    "# fit network\n",
    "history = model.fit(train_X, y_train, epochs=epochs, batch_size=batch_size, \n",
    "                    validation_data=(test_X, y_test), verbose=2, shuffle=False)\n"
   ],
   "metadata": {
    "collapsed": false,
    "pycharm": {
     "name": "#%%\n",
     "is_executing": false
    }
   }
  },
  {
   "cell_type": "markdown",
   "source": [
    "### Plot the loss"
   ],
   "metadata": {
    "collapsed": false
   }
  },
  {
   "cell_type": "code",
   "execution_count": 11,
   "outputs": [
    {
     "data": {
      "image/png": "[encoded data removed]",
      "text/plain": "<Figure size 432x288 with 1 Axes>"
     },
     "metadata": {
      "needs_background": "light"
     },
     "output_type": "display_data"
    },
    {
     "name": "stdout",
     "text": [
      "dict_keys(['loss', 'val_loss'])\n"
     ],
     "output_type": "stream"
    }
   ],
   "source": [
    "# plot history\n",
    "plt.plot(history.history['loss'], label='train')\n",
    "plt.plot(history.history['val_loss'], label='test')\n",
    "plt.legend()\n",
    "plt.show()\n",
    "\n",
    "print(history.history.keys())\n"
   ],
   "metadata": {
    "collapsed": false,
    "pycharm": {
     "name": "#%%\n",
     "is_executing": false
    }
   }
  },
  {
   "cell_type": "markdown",
   "source": [
    "### Save the model and scaler\n"
   ],
   "metadata": {
    "collapsed": false
   }
  },
  {
   "cell_type": "code",
   "execution_count": 12,
   "outputs": [
    {
     "name": "stdout",
     "text": [
      "models/model_lstm_YLocation_10_timesteps_dropout.h5\n",
      "models/model_lstm_YLocation_10_timesteps_dropout\n"
     ],
     "output_type": "stream"
    }
   ],
   "source": [
    "print(model_filename)\n",
    "model.save(model_filename)\n",
    "print(scaler_filename)\n",
    "dump(scaler_object, open(scaler_filename, 'wb'))\n"
   ],
   "metadata": {
    "collapsed": false,
    "pycharm": {
     "name": "#%%\n",
     "is_executing": false
    }
   }
  },
  {
   "cell_type": "markdown",
   "source": [
    "### Load the model\n"
   ],
   "metadata": {
    "collapsed": false
   }
  },
  {
   "cell_type": "code",
   "execution_count": 96,
   "outputs": [],
   "source": [
    "model = load_model(model_filename)\n",
    "scaler_object = load(open(scaler_filename, 'rb'))\n"
   ],
   "metadata": {
    "collapsed": false,
    "pycharm": {
     "name": "#%%\n",
     "is_executing": false
    }
   }
  },
  {
   "cell_type": "markdown",
   "source": [
    "## Evaluate the model\n"
   ],
   "metadata": {
    "collapsed": false
   }
  },
  {
   "cell_type": "code",
   "execution_count": 13,
   "outputs": [
    {
     "name": "stdout",
     "text": [
      "test_X shape (99900, 10, 1)\n",
      "Test RMSE: 11.586\nTest MAE: 2.671\n"
     ],
     "output_type": "stream"
    }
   ],
   "source": [
    "# make a prediction\n",
    "print(\"test_X shape\", test_X.shape)\n",
    "yhat = model.predict(test_X)\n",
    "# calculate RMSE\n",
    "rmse = np.sqrt(mean_squared_error(y_test, yhat))\n",
    "print('Test RMSE: %.3f' % rmse)\n",
    "mae = np.sqrt(mean_absolute_error(y_test, yhat))\n",
    "print('Test MAE: %.3f' % mae)\n"
   ],
   "metadata": {
    "collapsed": false,
    "pycharm": {
     "name": "#%%\n",
     "is_executing": false
    }
   }
  },
  {
   "cell_type": "markdown",
   "source": [
    "## Comparing results"
   ],
   "metadata": {
    "collapsed": false
   }
  },
  {
   "cell_type": "code",
   "execution_count": 14,
   "outputs": [
    {
     "data": {
      "image/png": "[encoded data removed]",
      "text/plain": "<Figure size 864x216 with 1 Axes>"
     },
     "metadata": {
      "needs_background": "light"
     },
     "output_type": "display_data"
    },
    {
     "data": {
      "image/png": "[encoded data removed]",
      "text/plain": "<Figure size 864x216 with 1 Axes>"
     },
     "metadata": {
      "needs_background": "light"
     },
     "output_type": "display_data"
    },
    {
     "data": {
      "image/png": "[encoded data removed]",
      "text/plain": "<Figure size 864x216 with 1 Axes>"
     },
     "metadata": {
      "needs_background": "light"
     },
     "output_type": "display_data"
    }
   ],
   "source": [
    "# Picked k random test instances\n",
    "#t_X = test_X.reshape(test_X.shape[0], test_X.shape[1])\n",
    "t_X = test_X.reshape(test_X.shape[0], 1, test_X.shape[1])\n",
    "\n",
    "indices = np.random.choice(range(t_X.shape[0]), replace=False, size=3)\n",
    "for index in indices:\n",
    "    x_test = test_X[index]\n",
    "    x_test = x_test.reshape(x_test.shape[1], x_test.shape[0])\n",
    "    test_X_rescaled = scaler_object.inverse_transform(x_test)\n",
    "    plot_prediction(test_X_rescaled[0], [y_test[index]], yhat[index])\n",
    "\n"
   ],
   "metadata": {
    "collapsed": false,
    "pycharm": {
     "name": "#%%\n",
     "is_executing": false
    }
   }
  },
  {
   "cell_type": "markdown",
   "source": [
    "## Predicting k steps in the future\n"
   ],
   "metadata": {
    "collapsed": false
   }
  },
  {
   "cell_type": "code",
   "execution_count": 15,
   "outputs": [
    {
     "name": "stdout",
     "text": [
      "~~~~~~~~~~~~~~~~~~~~~~~~~~~~~~~~~~~~~~~~~~~~~~~~~~\n~~~~~~~~~~~~~~~~~~~~~~~~~~~~~~~~~~~~~~~~~~~~~~~~~~\nPredictions for index: 5676\ninput shape (1, 10, 1)\nPred  1\nInput shape: (1, 10, 1)\nWindow rescaled\n[[116.4  116.35 116.3  116.25 116.2  116.15 116.1  116.05 116.   115.95]]\nyhat [[115.555145]]\nNew window: [116.35       116.3        116.25       116.2        116.15\n 116.1        116.05       116.         115.95       115.55514526]\n##################################################\nPred  2\nInput shape: (1, 10, 1)\nWindow rescaled\n[[116.35       116.3        116.25       116.2        116.15\n  116.1        116.05       116.         115.95       115.55514526]]\nyhat [[115.48585]]\nNew window: [116.3        116.25       116.2        116.15       116.1\n 116.05       116.         115.95       115.55514526 115.48584747]\n##################################################\nPred  3\nInput shape: (1, 10, 1)\nWindow rescaled\n[[116.3        116.25       116.2        116.15       116.1\n  116.05       116.         115.95       115.55514526 115.48584747]]\nyhat [[115.4372]]\nNew window: [116.25       116.2        116.15       116.1        116.05\n 116.         115.95       115.55514526 115.48584747 115.43720245]\n##################################################\n[115.555145, 115.48585, 115.4372]\n~~~~~~~~~~~~~~~~~~~~~~~~~~~~~~~~~~~~~~~~~~~~~~~~~~\n~~~~~~~~~~~~~~~~~~~~~~~~~~~~~~~~~~~~~~~~~~~~~~~~~~\nPredictions for index: 18740\ninput shape (1, 10, 1)\nPred  1\nInput shape: (1, 10, 1)\nWindow rescaled\n[[200. 200. 200. 200. 200. 200. 200. 200. 200. 200.]]\nyhat [[196.04236]]\nNew window: [200.        200.        200.        200.        200.        200.\n 200.        200.        200.        196.0423584]\n##################################################\nPred  2\nInput shape: (1, 10, 1)\nWindow rescaled\n[[200.        200.        200.        200.        200.        200.\n  200.        200.        200.        196.0423584]]\nyhat [[195.82]]\nNew window: [200.         200.         200.         200.         200.\n 200.         200.         200.         196.0423584  195.82000732]\n##################################################\nPred  3\nInput shape: (1, 10, 1)\nWindow rescaled\n[[200.         200.         200.         200.         200.\n  200.         200.         200.         196.0423584  195.82000732]]\nyhat [[195.45007]]\nNew window: [200.         200.         200.         200.         200.\n 200.         200.         196.0423584  195.82000732 195.45007324]\n##################################################\n[196.04236, 195.82, 195.45007]\n~~~~~~~~~~~~~~~~~~~~~~~~~~~~~~~~~~~~~~~~~~~~~~~~~~\n~~~~~~~~~~~~~~~~~~~~~~~~~~~~~~~~~~~~~~~~~~~~~~~~~~\nPredictions for index: 50876\ninput shape (1, 10, 1)\nPred  1\nInput shape: (1, 10, 1)\nWindow rescaled\n[[200. 200. 200. 200. 200. 200. 200. 200. 200. 200.]]\nyhat [[196.04236]]\nNew window: [200.        200.        200.        200.        200.        200.\n 200.        200.        200.        196.0423584]\n##################################################\nPred  2\nInput shape: (1, 10, 1)\nWindow rescaled\n[[200.        200.        200.        200.        200.        200.\n  200.        200.        200.        196.0423584]]\nyhat [[195.82]]\nNew window: [200.         200.         200.         200.         200.\n 200.         200.         200.         196.0423584  195.82000732]\n##################################################\nPred  3\nInput shape: (1, 10, 1)\nWindow rescaled\n[[200.         200.         200.         200.         200.\n  200.         200.         200.         196.0423584  195.82000732]]\nyhat [[195.45007]]\nNew window: [200.         200.         200.         200.         200.\n 200.         200.         196.0423584  195.82000732 195.45007324]\n##################################################\n[196.04236, 195.82, 195.45007]\n[[115.555145, 115.48585, 115.4372], [196.04236, 195.82, 195.45007], [196.04236, 195.82, 195.45007]]\n"
     ],
     "output_type": "stream"
    }
   ],
   "source": [
    "all_predictions = []\n",
    "for index in indices:\n",
    "    print(\"~\"*50)\n",
    "    print(\"~\"*50)\n",
    "    print(\"Predictions for index:\", index)\n",
    "    x_test = np.asarray([test_X[index]])    \n",
    "\n",
    "    input = x_test\n",
    "    print(\"input shape\", input.shape)\n",
    "    predictions = []\n",
    "    \n",
    "    for i in range(predict_k):\n",
    "        print(\"Pred \", i+1)    \n",
    "        print(\"Input shape:\", input.shape)\n",
    "        window = input.reshape(x_test.shape[0], x_test.shape[1])\n",
    "        ##print(\"Window\")\n",
    "        ##print(window)\n",
    "        ##print(\"window shape\",window.shape)\n",
    "        \n",
    "        # This will convert the values to Location values\n",
    "        window_rescaled = scaler_object.inverse_transform(window)\n",
    "        print(\"Window rescaled\")\n",
    "        print(window_rescaled)\n",
    "        ##print(\"window rescaled shape:\",window_rescaled.shape)\n",
    "        \n",
    "        yhat = model.predict(input)\n",
    "        predictions.append(yhat[0][0])    \n",
    "        print('yhat', yhat)\n",
    "        ##print(type(yhat))\n",
    "        ##print(type(window_rescaled))\n",
    "        \n",
    "        input = np.append(window_rescaled[:,1:], yhat)\n",
    "        print(\"New window:\", input)\n",
    "        ##print(\"New window shape\", input.shape)\n",
    "        input = input.reshape(1, input.shape[0], window.shape[0])\n",
    "        ##print(\"New new input shape:\", input.shape)\n",
    "        ##print(input)\n",
    "        # This will convert the location values to scaled values\n",
    "        \n",
    "        input = input.reshape(1, input.shape[1])\n",
    "        input = scaler_object.transform(input)\n",
    "        ##print(\"New scaled input\")\n",
    "        ##print(input)\n",
    "        ##print(\"New scaled input shape\", input.shape)\n",
    "        \n",
    "        input = input.reshape(1, input.shape[1], window.shape[0])\n",
    "        ##print(\"input shape\",input.shape)\n",
    "        print(\"#\" * 50)\n",
    "    \n",
    "    print(predictions)\n",
    "    all_predictions.append(predictions)\n",
    "print(all_predictions)\n",
    "        "
   ],
   "metadata": {
    "collapsed": false,
    "pycharm": {
     "name": "#%%\n",
     "is_executing": false
    }
   }
  },
  {
   "cell_type": "markdown",
   "source": [
    "## Plot future predictions\n"
   ],
   "metadata": {
    "collapsed": false
   }
  },
  {
   "cell_type": "code",
   "execution_count": 40,
   "outputs": [],
   "source": [
    "\n"
   ],
   "metadata": {
    "collapsed": false,
    "pycharm": {
     "name": "#%%\n",
     "is_executing": false
    }
   }
  },
  {
   "cell_type": "code",
   "execution_count": 16,
   "outputs": [
    {
     "name": "stdout",
     "text": [
      "Initial X: [116.4  116.35 116.3  116.25 116.2  116.15 116.1  116.05 116.   115.95]\nTrue t+1: [115.9]\nk predictions [115.555145, 115.48585, 115.4372]\n",
      "Initial X: [200. 200. 200. 200. 200. 200. 200. 200. 200. 200.]\nTrue t+1: [200.0]\nk predictions [196.04236, 195.82, 195.45007]\n",
      "Initial X: [200. 200. 200. 200. 200. 200. 200. 200. 200. 200.]\nTrue t+1: [200.0]\nk predictions [196.04236, 195.82, 195.45007]\n"
     ],
     "output_type": "stream"
    },
    {
     "data": {
      "image/png": "[encoded data removed]",
      "text/plain": "<Figure size 864x216 with 1 Axes>"
     },
     "metadata": {
      "needs_background": "light"
     },
     "output_type": "display_data"
    },
    {
     "data": {
      "image/png": "[encoded data removed]",
      "text/plain": "<Figure size 864x216 with 1 Axes>"
     },
     "metadata": {
      "needs_background": "light"
     },
     "output_type": "display_data"
    },
    {
     "data": {
      "image/png": "[encoded data removed]",
      "text/plain": "<Figure size 864x216 with 1 Axes>"
     },
     "metadata": {
      "needs_background": "light"
     },
     "output_type": "display_data"
    }
   ],
   "source": [
    "for i,index in enumerate(indices):\n",
    "    x_test = test_X[index]\n",
    "    x_test = x_test.reshape(x_test.shape[1], x_test.shape[0])\n",
    "    test_X_rescaled = scaler_object.inverse_transform(x_test)\n",
    "    #plot_prediction\n",
    "    print(\"Initial X:\",test_X_rescaled[0])\n",
    "    print(\"True t+1:\",[y_test[index]])\n",
    "    print(\"k predictions\",all_predictions[i])\n",
    "    plot_prediction(test_X_rescaled[0], [y_test[index]], all_predictions[i])\n"
   ],
   "metadata": {
    "collapsed": false,
    "pycharm": {
     "name": "#%%\n",
     "is_executing": false
    }
   }
  }
 ],
 "metadata": {
  "language_info": {
   "codemirror_mode": {
    "name": "ipython",
    "version": 2
   },
   "file_extension": ".py",
   "mimetype": "text/x-python",
   "name": "python",
   "nbconvert_exporter": "python",
   "pygments_lexer": "ipython2",
   "version": "2.7.6"
  },
  "kernelspec": {
   "name": "python3",
   "language": "python",
   "display_name": "Python 3"
  },
  "pycharm": {
   "stem_cell": {
    "cell_type": "raw",
    "source": [],
    "metadata": {
     "collapsed": false
    }
   }
  }
 },
 "nbformat": 4,
 "nbformat_minor": 0
}