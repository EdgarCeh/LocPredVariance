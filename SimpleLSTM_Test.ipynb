{
 "cells": [
  {
   "cell_type": "code",
   "execution_count": null,
   "outputs": [],
   "source": [
    "'''\n",
    "This script runs a simple LSTM model on a single columns (XLocation or YLocation)\n",
    "and predict a single step in the future (t+1)\n",
    "\n",
    "'''\n"
   ],
   "metadata": {
    "collapsed": false,
    "pycharm": {
     "name": "#%%\n"
    }
   }
  },
  {
   "cell_type": "code",
   "execution_count": 1,
   "outputs": [
    {
     "name": "stderr",
     "text": [
      "Using TensorFlow backend.\n"
     ],
     "output_type": "stream"
    }
   ],
   "source": [
    "import pandas as pd\n",
    "import numpy as np\n",
    "import matplotlib.pyplot as plt\n",
    "import sys\n",
    "import keras\n",
    "from sklearn.metrics import mean_squared_error,mean_absolute_error\n",
    "from sklearn.model_selection import  train_test_split\n",
    "from sklearn.preprocessing import MinMaxScaler\n",
    "from keras.models import Sequential\n",
    "from keras.layers import Dense, LSTM, Activation\n",
    "\n"
   ],
   "metadata": {
    "collapsed": false,
    "pycharm": {
     "name": "#%%\n",
     "is_executing": false
    }
   }
  },
  {
   "cell_type": "code",
   "execution_count": 2,
   "outputs": [],
   "source": [
    "def plot_prediction(x, y_true, y_pred):\n",
    "    \"\"\"Plots the predictions.\n",
    "\n",
    "    Arguments\n",
    "    ---------\n",
    "    x: Input sequence of shape (input_sequence_length,\n",
    "        dimension_of_signal)\n",
    "    y_true: True output sequence of shape (input_sequence_length,\n",
    "        dimension_of_signal)\n",
    "    y_pred: Predicted output sequence (input_sequence_length,\n",
    "        dimension_of_signal)\n",
    "    \"\"\"\n",
    "    label1 = \"Seen (past) values\"\n",
    "    label2 = \"True future values\"\n",
    "    label3 = \"Predictions\"\n",
    "    \n",
    "    plt.figure(figsize=(12, 3))\n",
    "    plt.plot(range(len(x)),x, \"o--b\", label=label1)\n",
    "    plt.plot(range(len(x), len(x) + len(y_true) ), y_true, \"x--b\", label=label2)\n",
    "    plt.plot(range(len(x), len(x) + len(y_pred)),y_pred, \"o--y\", label=label3)\n",
    "    \n",
    "    plt.legend(loc='best')\n",
    "    plt.title(\"Predictions v.s. true values\")\n",
    "    plt.show()\n",
    "    \n",
    "    \n"
   ],
   "metadata": {
    "collapsed": false,
    "pycharm": {
     "name": "#%%\n",
     "is_executing": false
    }
   }
  },
  {
   "cell_type": "code",
   "execution_count": 3,
   "outputs": [],
   "source": [
    "def size_per_targets(data):\n",
    "    #print(\"Total: \", data.shape[0])\n",
    "    sizes = data.groupby(['id', 'file_id']).size()\n",
    "    #print(sizes)\n",
    "    #print(type(sizes))\n",
    "    #print(\"Total:\",sum(list(sizes)))\n",
    "\n",
    "    return list(sizes)\n"
   ],
   "metadata": {
    "collapsed": false,
    "pycharm": {
     "name": "#%%\n",
     "is_executing": false
    }
   }
  },
  {
   "cell_type": "code",
   "execution_count": 4,
   "outputs": [],
   "source": [
    "def generate_input_data(data, sizes, train_len, target_seq):\n",
    "    targets = len(sizes)\n",
    "    start = 0\n",
    "    sequences = []\n",
    "    X = []\n",
    "    y = []\n",
    "    \n",
    "    for i, size in enumerate(sizes):\n",
    "        print(\"Chunk\", i+1)\n",
    "        end = start + size\n",
    "        print(\"Size of block %d, Range: %d-%d\" % (size, start, end))\n",
    "        temp_df = data.iloc[start:end]\n",
    "        \n",
    "        values = temp_df.iloc[:,-target_seq].values\n",
    "        for i in range(train_len, len(values)):\n",
    "            seq = values[i-train_len:i]\n",
    "            \n",
    "            sequences.append(seq)\n",
    "                   \n",
    "        # update start\n",
    "        start = start + size\n",
    "    \n",
    "    sequences = np.array(sequences)    \n",
    "    print(\"[INFO] Sequences generated:\", len(sequences))\n",
    "    \n",
    "    X = sequences[:,:-target_seq]\n",
    "    y = sequences[:,-target_seq]\n",
    "\n",
    "    return X, y\n",
    "\n"
   ],
   "metadata": {
    "collapsed": false,
    "pycharm": {
     "name": "#%%\n",
     "is_executing": false
    }
   }
  },
  {
   "cell_type": "markdown",
   "source": [
    "# MAIN   \n"
   ],
   "metadata": {
    "collapsed": false
   }
  },
  {
   "cell_type": "markdown",
   "source": [
    "## Load the data"
   ],
   "metadata": {
    "collapsed": false
   }
  },
  {
   "cell_type": "code",
   "execution_count": 5,
   "outputs": [
    {
     "name": "stdout",
     "text": [
      "(500050, 18)\n['id', 'file_id', 'Pn', 'Pe', 'h', 'Va', 'Phi', 'Theta', 'Chi', 'Psi', 'Vg', 'Azimuth', 'Elevation', 'XPixel', 'YPixel', 'ZValue', 'XLocation', 'YLocation']\n"
     ],
     "output_type": "stream"
    }
   ],
   "source": [
    "filename = 'data/AllData.csv'\n",
    "data = pd.read_csv(filename)\n",
    "print(data.shape)\n",
    "print(list(data.columns))\n"
   ],
   "metadata": {
    "collapsed": false,
    "pycharm": {
     "name": "#%%\n",
     "is_executing": false
    }
   }
  },
  {
   "cell_type": "markdown",
   "source": [
    "## Generate the input data\n"
   ],
   "metadata": {
    "collapsed": false
   }
  },
  {
   "cell_type": "markdown",
   "source": [
    "#### Defining Parameters\n"
   ],
   "metadata": {
    "collapsed": false
   }
  },
  {
   "cell_type": "code",
   "execution_count": 6,
   "outputs": [],
   "source": [
    "column_of_interes = 'XLocation'\n",
    "input_seq = 5\n",
    "target_seq = 1      # time steps to predict in the future\n",
    "train_len = input_seq + target_seq\n",
    "target = 2     # 0 = AllTargets\n",
    "test_percentage = 0.2\n",
    "rand_test = True\n",
    "\n",
    "batch_size = 64\n",
    "neurons = 64\n",
    "epochs = 40\n",
    "\n"
   ],
   "metadata": {
    "collapsed": false,
    "pycharm": {
     "name": "#%%\n",
     "is_executing": false
    }
   }
  },
  {
   "cell_type": "markdown",
   "source": [
    "## Generate input data\n"
   ],
   "metadata": {
    "collapsed": false
   }
  },
  {
   "cell_type": "code",
   "execution_count": 7,
   "outputs": [
    {
     "name": "stdout",
     "text": [
      "Chunk 1\nSize of block 10001, Range: 0-10001\nChunk 2\nSize of block 10001, Range: 10001-20002\nChunk 3\nSize of block 10001, Range: 20002-30003\nChunk 4\nSize of block 10001, Range: 30003-40004\nChunk 5\nSize of block 10001, Range: 40004-50005\nChunk 6\nSize of block 10001, Range: 50005-60006\nChunk 7\nSize of block 10001, Range: 60006-70007\nChunk 8\nSize of block 10001, Range: 70007-80008\nChunk 9\nSize of block 10001, Range: 80008-90009\nChunk 10\nSize of block 10001, Range: 90009-100010\n[INFO] Sequences generated: 99950\n"
     ],
     "output_type": "stream"
    }
   ],
   "source": [
    "# -1 is All data, else is the target id\n",
    "\n",
    "if target != 0:\n",
    "    input_data = data[data['id'] == target]\n",
    "else:\n",
    "    input_data = data\n",
    "\n",
    "# Take only the column of interest\n",
    "input_data = input_data[['id', 'file_id', column_of_interes]]\n",
    "columns = input_data.columns\n",
    "\n",
    "# We need to generate the sequences based on the id and file_id\n",
    "sizes = size_per_targets(input_data)\n",
    "X, y = generate_input_data(input_data, sizes, train_len, target_seq)\n"
   ],
   "metadata": {
    "collapsed": false,
    "pycharm": {
     "name": "#%%\n",
     "is_executing": false
    }
   }
  },
  {
   "cell_type": "markdown",
   "source": [
    "### Getting train, test data"
   ],
   "metadata": {
    "collapsed": false
   }
  },
  {
   "cell_type": "code",
   "execution_count": 8,
   "outputs": [
    {
     "name": "stdout",
     "text": [
      "Randomly picking train, test dataset\nX Train size= 79960\nX Test size= 19990\ny Train size= 79960\ny Test size= 19990\n"
     ],
     "output_type": "stream"
    }
   ],
   "source": [
    "\n",
    "# If we select the train and test randomly\n",
    "if rand_test:\n",
    "    print(\"Randomly picking train, test dataset\")\n",
    "    X_train, X_test, y_train, y_test = train_test_split(X, y, test_size=test_percentage, \n",
    "                                                        shuffle=False, random_state=42)\n",
    "# Else, select the last % part as testing\n",
    "else:\n",
    "    print(\"Train, test split based on percentage\")\n",
    "    test_size = int(X.shape[0] * test_percentage)\n",
    "    train_size = int(X.shape[0] - test_size)\n",
    "    print(\"Train size:\", train_size)\n",
    "    X_train = X[:train_size, :]\n",
    "    X_test = X[train_size:, :]\n",
    "    \n",
    "    y_train = y[:train_size]\n",
    "    y_test = y[train_size:]    \n",
    "\n",
    "print(\"X Train size=\", X_train.shape[0])\n",
    "print(\"X Test size=\",X_test.shape[0])\n",
    "print(\"y Train size=\", y_train.shape[0])\n",
    "print(\"y Test size=\",y_test.shape[0])\n"
   ],
   "metadata": {
    "collapsed": false,
    "pycharm": {
     "name": "#%%\n",
     "is_executing": false
    }
   }
  },
  {
   "cell_type": "markdown",
   "source": [
    "### Scale the Input Data\n"
   ],
   "metadata": {
    "collapsed": false
   }
  },
  {
   "cell_type": "code",
   "execution_count": 19,
   "outputs": [
    {
     "name": "stdout",
     "text": [
      "(79960, 1, 5) (79960,) (19990, 1, 5) (19990,)\n(79960, 5, 1) (79960,) (19990, 5, 1) (19990,)\n"
     ],
     "output_type": "stream"
    }
   ],
   "source": [
    "# fit the values between 0 and 1\n",
    "scaler_object = MinMaxScaler()\n",
    "\n",
    "scaler_object.fit(X_train)\n",
    "\n",
    "scaled_X_train =  scaler_object.transform(X_train)\n",
    "scaled_X_test =  scaler_object.transform(X_test)\n",
    "\n",
    "train_X = scaled_X_train.reshape((scaled_X_train.shape[0], 1, scaled_X_train.shape[1]))\n",
    "test_X = scaled_X_test.reshape((scaled_X_test.shape[0], 1, scaled_X_test.shape[1]))\n",
    "\n",
    "#print(train_X.shape, y_train.shape, test_X.shape, y_test.shape)\n",
    "\n",
    "train_X = train_X.reshape((scaled_X_train.shape[0], scaled_X_train.shape[1], 1))\n",
    "\n",
    "test_X = test_X.reshape((scaled_X_test.shape[0], scaled_X_test.shape[1], 1))\n",
    "\n",
    "print(train_X.shape, y_train.shape, test_X.shape, y_test.shape)\n"
   ],
   "metadata": {
    "collapsed": false,
    "pycharm": {
     "name": "#%% \n",
     "is_executing": false
    }
   }
  },
  {
   "cell_type": "markdown",
   "source": [
    "## Create the LSTM model\n"
   ],
   "metadata": {
    "collapsed": false
   }
  },
  {
   "cell_type": "code",
   "execution_count": 16,
   "outputs": [
    {
     "name": "stdout",
     "text": [
      "WARNING:tensorflow:From /mnt/0a1cd6b4-4d6a-40d6-80be-a86f7c7fec17/MyCodes/Public_laloceh_GitProjects/Python/Pythorch/venv/lib/python3.5/site-packages/tensorflow/python/framework/op_def_library.py:263: colocate_with (from tensorflow.python.framework.ops) is deprecated and will be removed in a future version.\nInstructions for updating:\nColocations handled automatically by placer.\n",
      "_________________________________________________________________\nLayer (type)                 Output Shape              Param #   \n=================================================================\nlstm_1 (LSTM)                (None, 5, 64)             16896     \n_________________________________________________________________\nlstm_2 (LSTM)                (None, 64)                33024     \n_________________________________________________________________\ndense_1 (Dense)              (None, 1)                 65        \n=================================================================\nTotal params: 49,985\nTrainable params: 49,985\nNon-trainable params: 0\n_________________________________________________________________\nWARNING:tensorflow:From /mnt/0a1cd6b4-4d6a-40d6-80be-a86f7c7fec17/MyCodes/Public_laloceh_GitProjects/Python/Pythorch/venv/lib/python3.5/site-packages/tensorflow/python/ops/math_ops.py:3066: to_int32 (from tensorflow.python.ops.math_ops) is deprecated and will be removed in a future version.\nInstructions for updating:\nUse tf.cast instead.\n",
      "Train on 79960 samples, validate on 19990 samples\nEpoch 1/40\n",
      " - 6s - loss: 137.8964 - val_loss: 108.7828\n",
      "Epoch 2/40\n",
      " - 6s - loss: 79.2958 - val_loss: 86.7006\n",
      "Epoch 3/40\n",
      " - 6s - loss: 61.2042 - val_loss: 82.6053\n",
      "Epoch 4/40\n",
      " - 6s - loss: 56.6781 - val_loss: 75.2820\n",
      "Epoch 5/40\n",
      " - 6s - loss: 52.1043 - val_loss: 63.6588\n",
      "Epoch 6/40\n",
      " - 6s - loss: 25.4479 - val_loss: 34.8708\n",
      "Epoch 7/40\n",
      " - 6s - loss: 17.8990 - val_loss: 33.5650\n",
      "Epoch 8/40\n",
      " - 6s - loss: 14.8633 - val_loss: 29.4034\n",
      "Epoch 9/40\n",
      " - 6s - loss: 12.1117 - val_loss: 19.1604\n",
      "Epoch 10/40\n",
      " - 6s - loss: 10.3456 - val_loss: 12.6174\n",
      "Epoch 11/40\n",
      " - 6s - loss: 7.3174 - val_loss: 10.8240\n",
      "Epoch 12/40\n",
      " - 6s - loss: 5.9325 - val_loss: 12.4731\n",
      "Epoch 13/40\n",
      " - 6s - loss: 5.8612 - val_loss: 8.2762\n",
      "Epoch 14/40\n",
      " - 6s - loss: 4.7756 - val_loss: 11.1143\n",
      "Epoch 15/40\n",
      " - 6s - loss: 5.0124 - val_loss: 15.0234\n",
      "Epoch 16/40\n",
      " - 6s - loss: 4.2646 - val_loss: 9.0425\n",
      "Epoch 17/40\n",
      " - 6s - loss: 3.9708 - val_loss: 8.8775\n",
      "Epoch 18/40\n",
      " - 6s - loss: 3.6754 - val_loss: 17.4436\n",
      "Epoch 19/40\n",
      " - 6s - loss: 4.4710 - val_loss: 17.1426\n",
      "Epoch 20/40\n",
      " - 6s - loss: 4.0423 - val_loss: 10.5747\n",
      "Epoch 21/40\n",
      " - 6s - loss: 3.6860 - val_loss: 13.1233\n",
      "Epoch 22/40\n",
      " - 6s - loss: 3.6083 - val_loss: 10.5275\n",
      "Epoch 23/40\n",
      " - 6s - loss: 3.0499 - val_loss: 11.5252\n",
      "Epoch 24/40\n",
      " - 6s - loss: 2.6951 - val_loss: 14.3335\n",
      "Epoch 25/40\n",
      " - 6s - loss: 3.2120 - val_loss: 14.4119\n",
      "Epoch 26/40\n",
      " - 6s - loss: 3.0722 - val_loss: 18.1147\n",
      "Epoch 27/40\n",
      " - 6s - loss: 3.6058 - val_loss: 10.0107\n",
      "Epoch 28/40\n",
      " - 6s - loss: 2.2733 - val_loss: 14.7894\n",
      "Epoch 29/40\n",
      " - 6s - loss: 2.7698 - val_loss: 5.1153\n",
      "Epoch 30/40\n",
      " - 6s - loss: 2.4958 - val_loss: 8.4982\n",
      "Epoch 31/40\n",
      " - 6s - loss: 2.7747 - val_loss: 8.8642\n",
      "Epoch 32/40\n",
      " - 6s - loss: 2.9492 - val_loss: 6.0560\n",
      "Epoch 33/40\n",
      " - 6s - loss: 2.9407 - val_loss: 18.2472\n",
      "Epoch 34/40\n",
      " - 6s - loss: 3.0086 - val_loss: 18.0563\n",
      "Epoch 35/40\n",
      " - 6s - loss: 3.1889 - val_loss: 9.6770\n",
      "Epoch 36/40\n",
      " - 6s - loss: 2.4136 - val_loss: 7.3394\n",
      "Epoch 37/40\n",
      " - 6s - loss: 1.2212 - val_loss: 3.4334\n",
      "Epoch 38/40\n",
      " - 6s - loss: 1.9589 - val_loss: 6.2193\n",
      "Epoch 39/40\n",
      " - 6s - loss: 2.2130 - val_loss: 12.1020\n",
      "Epoch 40/40\n",
      " - 6s - loss: 1.7464 - val_loss: 8.0269\n"
     ],
     "output_type": "stream"
    }
   ],
   "source": [
    "# design network\n",
    "model = Sequential()\n",
    "model.add(LSTM(neurons, input_shape=(train_X.shape[1], train_X.shape[2]), return_sequences=True))\n",
    "model.add(LSTM(neurons))\n",
    "model.add(Dense(1))\n",
    "model.compile(loss='mae', optimizer='adam')\n",
    "model.summary()\n",
    "# fit network\n",
    "history = model.fit(train_X, y_train, epochs=epochs, batch_size=batch_size, \n",
    "                    validation_data=(test_X, y_test), verbose=2, shuffle=False)\n"
   ],
   "metadata": {
    "collapsed": false,
    "pycharm": {
     "name": "#%%\n",
     "is_executing": false
    }
   }
  },
  {
   "cell_type": "markdown",
   "source": [
    "### Plot the loss"
   ],
   "metadata": {
    "collapsed": false
   }
  },
  {
   "cell_type": "code",
   "execution_count": 17,
   "outputs": [
    {
     "data": {
      "image/png": "[encoded data removed]",
      "text/plain": "<Figure size 432x288 with 1 Axes>"
     },
     "metadata": {
      "needs_background": "light"
     },
     "output_type": "display_data"
    },
    {
     "name": "stdout",
     "text": [
      "dict_keys(['val_loss', 'loss'])\n"
     ],
     "output_type": "stream"
    }
   ],
   "source": [
    "# plot history\n",
    "plt.plot(history.history['loss'], label='train')\n",
    "plt.plot(history.history['val_loss'], label='test')\n",
    "plt.legend()\n",
    "plt.show()\n",
    "\n",
    "print(history.history.keys())\n"
   ],
   "metadata": {
    "collapsed": false,
    "pycharm": {
     "name": "#%%\n",
     "is_executing": false
    }
   }
  },
  {
   "cell_type": "markdown",
   "source": [
    "## Evaluate the model\n"
   ],
   "metadata": {
    "collapsed": false
   }
  },
  {
   "cell_type": "code",
   "execution_count": null,
   "outputs": [],
   "source": [
    "# make a prediction\n",
    "yhat = model.predict(test_X)\n",
    "# calculate RMSE\n",
    "rmse = np.sqrt(mean_squared_error(y_test, yhat))\n",
    "print('Test RMSE: %.3f' % rmse)\n",
    "mae = np.sqrt(mean_absolute_error(y_test, yhat))\n",
    "print('Test MAE: %.3f' % mae)\n"
   ],
   "metadata": {
    "collapsed": false,
    "pycharm": {
     "name": "#%%\n"
    }
   }
  },
  {
   "cell_type": "markdown",
   "source": [
    "## Comparing results"
   ],
   "metadata": {
    "collapsed": false
   }
  },
  {
   "cell_type": "code",
   "execution_count": null,
   "outputs": [],
   "source": [
    "# Picked k random test instances\n",
    "t_X = test_X.reshape(test_X.shape[0], test_X.shape[2])\n",
    "\n",
    "indices = np.random.choice(range(t_X.shape[0]), replace=False, size=15)\n",
    "for index in indices:\n",
    "    x_test = test_X[index]\n",
    "    test_X_rescaled = scaler_object.inverse_transform(x_test)\n",
    "    plot_prediction(test_X_rescaled[0], [y_test[index]], yhat[index])\n"
   ],
   "metadata": {
    "collapsed": false,
    "pycharm": {
     "name": "#%%\n"
    }
   }
  },
  {
   "cell_type": "code",
   "execution_count": null,
   "outputs": [],
   "source": [],
   "metadata": {
    "collapsed": false,
    "pycharm": {
     "name": "#%%\n"
    }
   }
  }
 ],
 "metadata": {
  "language_info": {
   "codemirror_mode": {
    "name": "ipython",
    "version": 2
   },
   "file_extension": ".py",
   "mimetype": "text/x-python",
   "name": "python",
   "nbconvert_exporter": "python",
   "pygments_lexer": "ipython2",
   "version": "2.7.6"
  },
  "kernelspec": {
   "name": "python3",
   "language": "python",
   "display_name": "Python 3"
  },
  "pycharm": {
   "stem_cell": {
    "cell_type": "raw",
    "source": [],
    "metadata": {
     "collapsed": false
    }
   }
  }
 },
 "nbformat": 4,
 "nbformat_minor": 0
}