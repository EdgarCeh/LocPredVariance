{
 "cells": [
  {
   "cell_type": "code",
   "execution_count": null,
   "outputs": [],
   "source": [
    "'''\n",
    "This script runs a simple LSTM model on a single columns (XLocation or YLocation)\n",
    "and predict k time steps in the future (t+1, t+2...t+k)\n",
    "The testing activates the droupout in order to generate multiple different outputs\n",
    "and then calculate the mean and standard deviation\n",
    "https://fairyonice.github.io/Measure-the-uncertainty-in-deep-learning-models-using-dropout.html\n",
    "'''\n"
   ],
   "metadata": {
    "collapsed": false,
    "pycharm": {
     "name": "#%%\n"
    }
   }
  },
  {
   "cell_type": "code",
   "execution_count": 9,
   "outputs": [
    {
     "name": "stderr",
     "text": [
      "Using TensorFlow backend.\n"
     ],
     "output_type": "stream"
    }
   ],
   "source": [
    "import pandas as pd\n",
    "import numpy as np\n",
    "import matplotlib.pyplot as plt\n",
    "from pickle import dump, load\n",
    "import sys\n",
    "import keras\n",
    "import keras.backend as K\n",
    "from sklearn.metrics import mean_squared_error,mean_absolute_error\n",
    "from sklearn.model_selection import  train_test_split\n",
    "from sklearn.preprocessing import MinMaxScaler\n",
    "from keras.models import Sequential\n",
    "from keras.layers import Dense, LSTM, Activation, Dropout\n",
    "from keras.models import load_model\n"
   ],
   "metadata": {
    "collapsed": false,
    "pycharm": {
     "name": "#%%\n",
     "is_executing": false
    }
   }
  },
  {
   "cell_type": "code",
   "execution_count": 10,
   "outputs": [],
   "source": [
    "class KerasDropoutPrediction(object):\n",
    "    \n",
    "    def __init__(self, model):\n",
    "        self.f = K.function(\n",
    "            [model.layers[0].input,\n",
    "             K.learning_phase()],\n",
    "            [model.layers[-1].output])\n",
    "        \n",
    "    def predict(self, x, n_iter=10):\n",
    "        result = []\n",
    "        for _ in range(n_iter):\n",
    "            result.append(self.f([x, 1]))\n",
    "        result = np.array(result).reshape(n_iter, len(x)).T\n",
    "        \n",
    "        #mean = result.mean(axis=0)\n",
    "        #uncertainty = result.var(axis=0)\n",
    "        #print(\"Mean:\", mean, \"Uncertainty:\", uncertainty)\n",
    "        #mean = np.mean(result)\n",
    "        #std = np.std(result)\n",
    "        \n",
    "        return result\n",
    "        \n",
    "        \n"
   ],
   "metadata": {
    "collapsed": false,
    "pycharm": {
     "name": "#%%\n",
     "is_executing": false
    }
   }
  },
  {
   "cell_type": "code",
   "execution_count": 11,
   "outputs": [],
   "source": [
    "def plot_prediction(x, y_true, y_pred):\n",
    "    \"\"\"Plots the predictions.\n",
    "\n",
    "    Arguments\n",
    "    ---------\n",
    "    x: Input sequence of shape (input_sequence_length,\n",
    "        dimension_of_signal)\n",
    "    y_true: True output sequence of shape (input_sequence_length,\n",
    "        dimension_of_signal)\n",
    "    y_pred: Predicted output sequence (input_sequence_length,\n",
    "        dimension_of_signal)\n",
    "    \"\"\"\n",
    "    label1 = \"Seen (past) values\"\n",
    "    label2 = \"True future values\"\n",
    "    label3 = \"Predictions\"\n",
    "    \n",
    "    plt.figure(figsize=(12, 3))\n",
    "    plt.plot(range(len(x)),x, \"o--b\", label=label1)\n",
    "    plt.plot(range(len(x), len(x) + len(y_true) ), y_true, \"x--b\", label=label2)\n",
    "    plt.plot(range(len(x), len(x) + len(y_pred)),y_pred, \"o--y\", label=label3)\n",
    "    \n",
    "    plt.legend(loc='best')\n",
    "    plt.title(\"Predictions v.s. true values\")\n",
    "    plt.show()\n"
   ],
   "metadata": {
    "collapsed": false,
    "pycharm": {
     "name": "#%%\n",
     "is_executing": false
    }
   }
  },
  {
   "cell_type": "code",
   "execution_count": 58,
   "outputs": [],
   "source": [
    "def plot_prediction_ranges(x, y_true, y_pred, y_lower, y_upper, std, std_label):\n",
    "    \"\"\"Plots the predictions.\n",
    "\n",
    "    Arguments\n",
    "    ---------\n",
    "    x: Input sequence of shape (input_sequence_length,\n",
    "        dimension_of_signal)\n",
    "    y_true: True output sequence of shape (input_sequence_length,\n",
    "        dimension_of_signal)\n",
    "    y_pred: Predicted output sequence (input_sequence_length,\n",
    "        dimension_of_signal)\n",
    "    \"\"\"\n",
    "    label1 = \"Seen (past) values\"\n",
    "    label2 = \"True future values\"\n",
    "    label3 = \"Predictions\"\n",
    "    label4 = \"Lower bound\"\n",
    "    label5 = \"Upper bound\"\n",
    "    \n",
    "    title = \"Predictions v.s. true values (\"+ str(std) \\\n",
    "            + \" std. deviation, \"+ std_label+\"% )\"\n",
    "    \n",
    "    plt.figure(figsize=(12, 3))\n",
    "    plt.plot(range(len(x)),x, \"o--b\", label=label1)\n",
    "    plt.plot(range(len(x), len(x) + len(y_true) ), y_true, \"x--b\", label=label2)\n",
    "    plt.plot(range(len(x), len(x) + len(y_pred)),y_pred, \"o--y\", label=label3)\n",
    "    \n",
    "    plt.plot(range(len(x), len(x) + len(y_pred)),y_lower, \"+--r\", label=label4)\n",
    "    plt.plot(range(len(x), len(x) + len(y_pred)),y_upper, \"*--r\", label=label5)\n",
    "    \n",
    "    plt.legend(loc='best')\n",
    "    plt.title(title)\n",
    "    plt.show()    \n"
   ],
   "metadata": {
    "collapsed": false,
    "pycharm": {
     "name": "#%%\n",
     "is_executing": false
    }
   }
  },
  {
   "cell_type": "code",
   "execution_count": 13,
   "outputs": [],
   "source": [
    "def size_per_targets(data):\n",
    "    #print(\"Total: \", data.shape[0])\n",
    "    sizes = data.groupby(['id', 'file_id']).size()\n",
    "    #print(sizes)\n",
    "    #print(type(sizes))\n",
    "    #print(\"Total:\",sum(list(sizes)))\n",
    "\n",
    "    return list(sizes)\n"
   ],
   "metadata": {
    "collapsed": false,
    "pycharm": {
     "name": "#%%\n",
     "is_executing": false
    }
   }
  },
  {
   "cell_type": "code",
   "execution_count": 14,
   "outputs": [],
   "source": [
    "def generate_input_data(data, sizes, train_len, target_seq):\n",
    "    targets = len(sizes)\n",
    "    start = 0\n",
    "    sequences = []\n",
    "    X = []\n",
    "    y = []\n",
    "    \n",
    "    for i, size in enumerate(sizes):\n",
    "        print(\"Chunk\", i+1)\n",
    "        end = start + size\n",
    "        print(\"Size of block %d, Range: %d-%d\" % (size, start, end))\n",
    "        temp_df = data.iloc[start:end]\n",
    "        \n",
    "        values = temp_df.iloc[:,-target_seq].values\n",
    "        for i in range(train_len, len(values)):\n",
    "            seq = values[i-train_len:i]\n",
    "            \n",
    "            sequences.append(seq)\n",
    "                   \n",
    "        # update start\n",
    "        start = start + size\n",
    "    \n",
    "    sequences = np.array(sequences)    \n",
    "    print(\"[INFO] Sequences generated:\", len(sequences))\n",
    "    \n",
    "    X = sequences[:,:-target_seq]\n",
    "    y = sequences[:,-target_seq]\n",
    "\n",
    "    return X, y\n",
    "\n"
   ],
   "metadata": {
    "collapsed": false,
    "pycharm": {
     "name": "#%%\n",
     "is_executing": false
    }
   }
  },
  {
   "cell_type": "markdown",
   "source": [
    "# MAIN   \n"
   ],
   "metadata": {
    "collapsed": false
   }
  },
  {
   "cell_type": "markdown",
   "source": [
    "## Load the data"
   ],
   "metadata": {
    "collapsed": false
   }
  },
  {
   "cell_type": "code",
   "execution_count": 102,
   "outputs": [
    {
     "name": "stdout",
     "text": [
      "(500050, 18)\n['id', 'file_id', 'Pn', 'Pe', 'h', 'Va', 'Phi', 'Theta', 'Chi', 'Psi', 'Vg', 'Azimuth', 'Elevation', 'XPixel', 'YPixel', 'ZValue', 'XLocation', 'YLocation']\n"
     ],
     "output_type": "stream"
    }
   ],
   "source": [
    "filename = 'data/AllData.csv'\n",
    "data = pd.read_csv(filename)\n",
    "print(data.shape)\n",
    "print(list(data.columns))\n"
   ],
   "metadata": {
    "collapsed": false,
    "pycharm": {
     "name": "#%%\n",
     "is_executing": false
    }
   }
  },
  {
   "cell_type": "markdown",
   "source": [
    "## Generate the input data\n"
   ],
   "metadata": {
    "collapsed": false
   }
  },
  {
   "cell_type": "markdown",
   "source": [
    "#### Defining Parameters\n"
   ],
   "metadata": {
    "collapsed": false
   }
  },
  {
   "cell_type": "code",
   "execution_count": 103,
   "outputs": [],
   "source": [
    "column_of_interest = 'XLocation'\n",
    "input_seq = 10\n",
    "target_seq = 1      # \n",
    "predict_k = 3       # predict k time steps in the future\n",
    "train_len = input_seq + target_seq\n",
    "target = 0     # 0 = AllTargets\n",
    "\n",
    "test_percentage = 0.2\n",
    "rand_test = True\n",
    "\n",
    "dropout = .4\n",
    "batch_size = 64\n",
    "neurons = 64\n",
    "epochs = 5\n",
    "\n",
    "k_test_instances = 50      # number of randomly chosen instances to test\n",
    "p_instances_to_plot = 3\n",
    "n_results = 100         # Number of predictions for the dropout\n",
    "\n",
    "model_filename = 'models/model_lstm_'+column_of_interest+\"_\"+str(input_seq)+\"_timesteps_dropout.h5\"\n",
    "scaler_filename = 'models/model_lstm_'+column_of_interest+\"_\"+str(input_seq)+\"_timesteps_dropout\"\n"
   ],
   "metadata": {
    "collapsed": false,
    "pycharm": {
     "name": "#%%\n",
     "is_executing": false
    }
   }
  },
  {
   "cell_type": "markdown",
   "source": [
    "## Generate input data\n"
   ],
   "metadata": {
    "collapsed": false
   }
  },
  {
   "cell_type": "code",
   "execution_count": 104,
   "outputs": [
    {
     "name": "stdout",
     "text": [
      "Chunk 1\nSize of block 10001, Range: 0-10001\nChunk 2\nSize of block 10001, Range: 10001-20002\nChunk 3\nSize of block 10001, Range: 20002-30003\nChunk 4\nSize of block 10001, Range: 30003-40004\nChunk 5\nSize of block 10001, Range: 40004-50005\nChunk 6\nSize of block 10001, Range: 50005-60006\nChunk 7\nSize of block 10001, Range: 60006-70007\nChunk 8\nSize of block 10001, Range: 70007-80008\nChunk 9\nSize of block 10001, Range: 80008-90009\nChunk 10\nSize of block 10001, Range: 90009-100010\nChunk 11\nSize of block 10001, Range: 100010-110011\nChunk 12\nSize of block 10001, Range: 110011-120012\nChunk 13\nSize of block 10001, Range: 120012-130013\nChunk 14\nSize of block 10001, Range: 130013-140014\nChunk 15\nSize of block 10001, Range: 140014-150015\nChunk 16\nSize of block 10001, Range: 150015-160016\nChunk 17\nSize of block 10001, Range: 160016-170017\nChunk 18\nSize of block 10001, Range: 170017-180018\nChunk 19\nSize of block 10001, Range: 180018-190019\nChunk 20\nSize of block 10001, Range: 190019-200020\nChunk 21\nSize of block 10001, Range: 200020-210021\nChunk 22\nSize of block 10001, Range: 210021-220022\nChunk 23\nSize of block 10001, Range: 220022-230023\nChunk 24\nSize of block 10001, Range: 230023-240024\nChunk 25\nSize of block 10001, Range: 240024-250025\nChunk 26\nSize of block 10001, Range: 250025-260026\nChunk 27\nSize of block 10001, Range: 260026-270027\nChunk 28\nSize of block 10001, Range: 270027-280028\nChunk 29\nSize of block 10001, Range: 280028-290029\nChunk 30\nSize of block 10001, Range: 290029-300030\nChunk 31\nSize of block 10001, Range: 300030-310031\nChunk 32\nSize of block 10001, Range: 310031-320032\nChunk 33\nSize of block 10001, Range: 320032-330033\nChunk 34\nSize of block 10001, Range: 330033-340034\nChunk 35\nSize of block 10001, Range: 340034-350035\nChunk 36\nSize of block 10001, Range: 350035-360036\nChunk 37\nSize of block 10001, Range: 360036-370037\nChunk 38\nSize of block 10001, Range: 370037-380038\nChunk 39\nSize of block 10001, Range: 380038-390039\nChunk 40\nSize of block 10001, Range: 390039-400040\nChunk 41\nSize of block 10001, Range: 400040-410041\nChunk 42\nSize of block 10001, Range: 410041-420042\nChunk 43\nSize of block 10001, Range: 420042-430043\nChunk 44\nSize of block 10001, Range: 430043-440044\nChunk 45\nSize of block 10001, Range: 440044-450045\nChunk 46\nSize of block 10001, Range: 450045-460046\nChunk 47\nSize of block 10001, Range: 460046-470047\nChunk 48\nSize of block 10001, Range: 470047-480048\nChunk 49\nSize of block 10001, Range: 480048-490049\nChunk 50\nSize of block 10001, Range: 490049-500050\n",
      "[INFO] Sequences generated: 499500\n"
     ],
     "output_type": "stream"
    }
   ],
   "source": [
    "# -1 is All data, else is the target id\n",
    "\n",
    "if target != 0:\n",
    "    input_data = data[data['id'] == target]\n",
    "else:\n",
    "    input_data = data\n",
    "\n",
    "# Take only the column of interest\n",
    "input_data = input_data[['id', 'file_id', column_of_interest]]\n",
    "columns = input_data.columns\n",
    "\n",
    "# We need to generate the sequences based on the id and file_id\n",
    "sizes = size_per_targets(input_data)\n",
    "X, y = generate_input_data(input_data, sizes, train_len, target_seq)\n"
   ],
   "metadata": {
    "collapsed": false,
    "pycharm": {
     "name": "#%%\n",
     "is_executing": false
    }
   }
  },
  {
   "cell_type": "markdown",
   "source": [
    "### Getting train, test data"
   ],
   "metadata": {
    "collapsed": false
   }
  },
  {
   "cell_type": "code",
   "execution_count": 105,
   "outputs": [
    {
     "name": "stdout",
     "text": [
      "Randomly picking train, test dataset\nX Train size= 399600\nX Test size= 99900\ny Train size= 399600\ny Test size= 99900\n"
     ],
     "output_type": "stream"
    }
   ],
   "source": [
    "\n",
    "# If we select the train and test randomly\n",
    "if rand_test:\n",
    "    print(\"Randomly picking train, test dataset\")\n",
    "    X_train, X_test, y_train, y_test = train_test_split(X, y, test_size=test_percentage, \n",
    "                                                        shuffle=False, random_state=42)\n",
    "# Else, select the last % part as testing\n",
    "else:\n",
    "    print(\"Train, test split based on percentage\")\n",
    "    test_size = int(X.shape[0] * test_percentage)\n",
    "    train_size = int(X.shape[0] - test_size)\n",
    "    print(\"Train size:\", train_size)\n",
    "    X_train = X[:train_size, :]\n",
    "    X_test = X[train_size:, :]\n",
    "    \n",
    "    y_train = y[:train_size]\n",
    "    y_test = y[train_size:]    \n",
    "\n",
    "print(\"X Train size=\", X_train.shape[0])\n",
    "print(\"X Test size=\",X_test.shape[0])\n",
    "print(\"y Train size=\", y_train.shape[0])\n",
    "print(\"y Test size=\",y_test.shape[0])\n"
   ],
   "metadata": {
    "collapsed": false,
    "pycharm": {
     "name": "#%%\n",
     "is_executing": false
    }
   }
  },
  {
   "cell_type": "markdown",
   "source": [
    "### Scale the Input Data\n"
   ],
   "metadata": {
    "collapsed": false
   }
  },
  {
   "cell_type": "code",
   "execution_count": 106,
   "outputs": [
    {
     "name": "stdout",
     "text": [
      "(Instances,Sequence,Features)\n(399600, 10, 1) (399600,) (99900, 10, 1) (99900,)\n"
     ],
     "output_type": "stream"
    }
   ],
   "source": [
    "# fit the values between 0 and 1\n",
    "scaler_object = MinMaxScaler()\n",
    "\n",
    "scaler_object.fit(X_train)\n",
    "\n",
    "scaled_X_train =  scaler_object.transform(X_train)\n",
    "scaled_X_test =  scaler_object.transform(X_test)\n",
    "\n",
    "train_X = scaled_X_train.reshape((scaled_X_train.shape[0], 1, scaled_X_train.shape[1]))\n",
    "test_X = scaled_X_test.reshape((scaled_X_test.shape[0], 1, scaled_X_test.shape[1]))\n",
    "\n",
    "\n",
    "#print(train_X.shape, y_train.shape, test_X.shape, y_test.shape)\n",
    "\n",
    "train_X = train_X.reshape((scaled_X_train.shape[0], scaled_X_train.shape[1], 1))\n",
    "\n",
    "test_X = test_X.reshape((scaled_X_test.shape[0], scaled_X_test.shape[1], 1))\n",
    "print(\"(Instances,Sequence,Features)\")\n",
    "print(train_X.shape, y_train.shape, test_X.shape, y_test.shape)\n",
    "\n"
   ],
   "metadata": {
    "collapsed": false,
    "pycharm": {
     "name": "#%% \n",
     "is_executing": false
    }
   }
  },
  {
   "cell_type": "markdown",
   "source": [
    "## Create the LSTM model\n"
   ],
   "metadata": {
    "collapsed": false
   }
  },
  {
   "cell_type": "code",
   "execution_count": 20,
   "outputs": [
    {
     "name": "stdout",
     "text": [
      "WARNING:tensorflow:From /mnt/0a1cd6b4-4d6a-40d6-80be-a86f7c7fec17/MyCodes/Public_laloceh_GitProjects/Python/Pythorch/venv/lib/python3.5/site-packages/tensorflow/python/framework/op_def_library.py:263: colocate_with (from tensorflow.python.framework.ops) is deprecated and will be removed in a future version.\nInstructions for updating:\nColocations handled automatically by placer.\n",
      "WARNING:tensorflow:From /mnt/0a1cd6b4-4d6a-40d6-80be-a86f7c7fec17/MyCodes/Public_laloceh_GitProjects/Python/Pythorch/venv/lib/python3.5/site-packages/keras/backend/tensorflow_backend.py:3445: calling dropout (from tensorflow.python.ops.nn_ops) with keep_prob is deprecated and will be removed in a future version.\nInstructions for updating:\nPlease use `rate` instead of `keep_prob`. Rate should be set to `rate = 1 - keep_prob`.\n",
      "_________________________________________________________________\nLayer (type)                 Output Shape              Param #   \n=================================================================\nlstm_1 (LSTM)                (None, 10, 64)            16896     \n_________________________________________________________________\ndropout_1 (Dropout)          (None, 10, 64)            0         \n_________________________________________________________________\nlstm_2 (LSTM)                (None, 64)                33024     \n_________________________________________________________________\ndropout_2 (Dropout)          (None, 64)                0         \n_________________________________________________________________\ndense_1 (Dense)              (None, 1)                 65        \n=================================================================\nTotal params: 49,985\nTrainable params: 49,985\nNon-trainable params: 0\n_________________________________________________________________\nWARNING:tensorflow:From /mnt/0a1cd6b4-4d6a-40d6-80be-a86f7c7fec17/MyCodes/Public_laloceh_GitProjects/Python/Pythorch/venv/lib/python3.5/site-packages/tensorflow/python/ops/math_ops.py:3066: to_int32 (from tensorflow.python.ops.math_ops) is deprecated and will be removed in a future version.\nInstructions for updating:\nUse tf.cast instead.\n",
      "Train on 399600 samples, validate on 99900 samples\nEpoch 1/5\n"
     ],
     "output_type": "stream"
    },
    {
     "evalue": "",
     "ename": "KeyboardInterrupt",
     "traceback": [
      "\u001b[0;31m---------------------------------------------------------------------------\u001b[0m",
      "\u001b[0;31mKeyboardInterrupt\u001b[0m                         Traceback (most recent call last)",
      "\u001b[0;32m<ipython-input-20-b4511a717743>\u001b[0m in \u001b[0;36m<module>\u001b[0;34m\u001b[0m\n\u001b[1;32m     11\u001b[0m \u001b[0;31m# fit network\u001b[0m\u001b[0;34m\u001b[0m\u001b[0;34m\u001b[0m\u001b[0m\n\u001b[1;32m     12\u001b[0m history = model.fit(train_X, y_train, epochs=epochs, batch_size=batch_size, \n\u001b[0;32m---> 13\u001b[0;31m                     validation_data=(test_X, y_test), verbose=2, shuffle=False)\n\u001b[0m\u001b[1;32m     14\u001b[0m \u001b[0;34m\u001b[0m\u001b[0m\n",
      "\u001b[0;32m/mnt/0a1cd6b4-4d6a-40d6-80be-a86f7c7fec17/MyCodes/Public_laloceh_GitProjects/Python/Pythorch/venv/lib/python3.5/site-packages/keras/engine/training.py\u001b[0m in \u001b[0;36mfit\u001b[0;34m(self, x, y, batch_size, epochs, verbose, callbacks, validation_split, validation_data, shuffle, class_weight, sample_weight, initial_epoch, steps_per_epoch, validation_steps, **kwargs)\u001b[0m\n\u001b[1;32m   1037\u001b[0m                                         \u001b[0minitial_epoch\u001b[0m\u001b[0;34m=\u001b[0m\u001b[0minitial_epoch\u001b[0m\u001b[0;34m,\u001b[0m\u001b[0;34m\u001b[0m\u001b[0m\n\u001b[1;32m   1038\u001b[0m                                         \u001b[0msteps_per_epoch\u001b[0m\u001b[0;34m=\u001b[0m\u001b[0msteps_per_epoch\u001b[0m\u001b[0;34m,\u001b[0m\u001b[0;34m\u001b[0m\u001b[0m\n\u001b[0;32m-> 1039\u001b[0;31m                                         validation_steps=validation_steps)\n\u001b[0m\u001b[1;32m   1040\u001b[0m \u001b[0;34m\u001b[0m\u001b[0m\n\u001b[1;32m   1041\u001b[0m     def evaluate(self, x=None, y=None,\n",
      "\u001b[0;32m/mnt/0a1cd6b4-4d6a-40d6-80be-a86f7c7fec17/MyCodes/Public_laloceh_GitProjects/Python/Pythorch/venv/lib/python3.5/site-packages/keras/engine/training_arrays.py\u001b[0m in \u001b[0;36mfit_loop\u001b[0;34m(model, f, ins, out_labels, batch_size, epochs, verbose, callbacks, val_f, val_ins, shuffle, callback_metrics, initial_epoch, steps_per_epoch, validation_steps)\u001b[0m\n\u001b[1;32m    197\u001b[0m                     \u001b[0mins_batch\u001b[0m\u001b[0;34m[\u001b[0m\u001b[0mi\u001b[0m\u001b[0;34m]\u001b[0m \u001b[0;34m=\u001b[0m \u001b[0mins_batch\u001b[0m\u001b[0;34m[\u001b[0m\u001b[0mi\u001b[0m\u001b[0;34m]\u001b[0m\u001b[0;34m.\u001b[0m\u001b[0mtoarray\u001b[0m\u001b[0;34m(\u001b[0m\u001b[0;34m)\u001b[0m\u001b[0;34m\u001b[0m\u001b[0m\n\u001b[1;32m    198\u001b[0m \u001b[0;34m\u001b[0m\u001b[0m\n\u001b[0;32m--> 199\u001b[0;31m                 \u001b[0mouts\u001b[0m \u001b[0;34m=\u001b[0m \u001b[0mf\u001b[0m\u001b[0;34m(\u001b[0m\u001b[0mins_batch\u001b[0m\u001b[0;34m)\u001b[0m\u001b[0;34m\u001b[0m\u001b[0m\n\u001b[0m\u001b[1;32m    200\u001b[0m                 \u001b[0mouts\u001b[0m \u001b[0;34m=\u001b[0m \u001b[0mto_list\u001b[0m\u001b[0;34m(\u001b[0m\u001b[0mouts\u001b[0m\u001b[0;34m)\u001b[0m\u001b[0;34m\u001b[0m\u001b[0m\n\u001b[1;32m    201\u001b[0m                 \u001b[0;32mfor\u001b[0m \u001b[0ml\u001b[0m\u001b[0;34m,\u001b[0m \u001b[0mo\u001b[0m \u001b[0;32min\u001b[0m \u001b[0mzip\u001b[0m\u001b[0;34m(\u001b[0m\u001b[0mout_labels\u001b[0m\u001b[0;34m,\u001b[0m \u001b[0mouts\u001b[0m\u001b[0;34m)\u001b[0m\u001b[0;34m:\u001b[0m\u001b[0;34m\u001b[0m\u001b[0m\n",
      "\u001b[0;32m/mnt/0a1cd6b4-4d6a-40d6-80be-a86f7c7fec17/MyCodes/Public_laloceh_GitProjects/Python/Pythorch/venv/lib/python3.5/site-packages/keras/backend/tensorflow_backend.py\u001b[0m in \u001b[0;36m__call__\u001b[0;34m(self, inputs)\u001b[0m\n\u001b[1;32m   2713\u001b[0m                 \u001b[0;32mreturn\u001b[0m \u001b[0mself\u001b[0m\u001b[0;34m.\u001b[0m\u001b[0m_legacy_call\u001b[0m\u001b[0;34m(\u001b[0m\u001b[0minputs\u001b[0m\u001b[0;34m)\u001b[0m\u001b[0;34m\u001b[0m\u001b[0m\n\u001b[1;32m   2714\u001b[0m \u001b[0;34m\u001b[0m\u001b[0m\n\u001b[0;32m-> 2715\u001b[0;31m             \u001b[0;32mreturn\u001b[0m \u001b[0mself\u001b[0m\u001b[0;34m.\u001b[0m\u001b[0m_call\u001b[0m\u001b[0;34m(\u001b[0m\u001b[0minputs\u001b[0m\u001b[0;34m)\u001b[0m\u001b[0;34m\u001b[0m\u001b[0m\n\u001b[0m\u001b[1;32m   2716\u001b[0m         \u001b[0;32melse\u001b[0m\u001b[0;34m:\u001b[0m\u001b[0;34m\u001b[0m\u001b[0m\n\u001b[1;32m   2717\u001b[0m             \u001b[0;32mif\u001b[0m \u001b[0mpy_any\u001b[0m\u001b[0;34m(\u001b[0m\u001b[0mis_tensor\u001b[0m\u001b[0;34m(\u001b[0m\u001b[0mx\u001b[0m\u001b[0;34m)\u001b[0m \u001b[0;32mfor\u001b[0m \u001b[0mx\u001b[0m \u001b[0;32min\u001b[0m \u001b[0minputs\u001b[0m\u001b[0;34m)\u001b[0m\u001b[0;34m:\u001b[0m\u001b[0;34m\u001b[0m\u001b[0m\n",
      "\u001b[0;32m/mnt/0a1cd6b4-4d6a-40d6-80be-a86f7c7fec17/MyCodes/Public_laloceh_GitProjects/Python/Pythorch/venv/lib/python3.5/site-packages/keras/backend/tensorflow_backend.py\u001b[0m in \u001b[0;36m_call\u001b[0;34m(self, inputs)\u001b[0m\n\u001b[1;32m   2673\u001b[0m             \u001b[0mfetched\u001b[0m \u001b[0;34m=\u001b[0m \u001b[0mself\u001b[0m\u001b[0;34m.\u001b[0m\u001b[0m_callable_fn\u001b[0m\u001b[0;34m(\u001b[0m\u001b[0;34m*\u001b[0m\u001b[0marray_vals\u001b[0m\u001b[0;34m,\u001b[0m \u001b[0mrun_metadata\u001b[0m\u001b[0;34m=\u001b[0m\u001b[0mself\u001b[0m\u001b[0;34m.\u001b[0m\u001b[0mrun_metadata\u001b[0m\u001b[0;34m)\u001b[0m\u001b[0;34m\u001b[0m\u001b[0m\n\u001b[1;32m   2674\u001b[0m         \u001b[0;32melse\u001b[0m\u001b[0;34m:\u001b[0m\u001b[0;34m\u001b[0m\u001b[0m\n\u001b[0;32m-> 2675\u001b[0;31m             \u001b[0mfetched\u001b[0m \u001b[0;34m=\u001b[0m \u001b[0mself\u001b[0m\u001b[0;34m.\u001b[0m\u001b[0m_callable_fn\u001b[0m\u001b[0;34m(\u001b[0m\u001b[0;34m*\u001b[0m\u001b[0marray_vals\u001b[0m\u001b[0;34m)\u001b[0m\u001b[0;34m\u001b[0m\u001b[0m\n\u001b[0m\u001b[1;32m   2676\u001b[0m         \u001b[0;32mreturn\u001b[0m \u001b[0mfetched\u001b[0m\u001b[0;34m[\u001b[0m\u001b[0;34m:\u001b[0m\u001b[0mlen\u001b[0m\u001b[0;34m(\u001b[0m\u001b[0mself\u001b[0m\u001b[0;34m.\u001b[0m\u001b[0moutputs\u001b[0m\u001b[0;34m)\u001b[0m\u001b[0;34m]\u001b[0m\u001b[0;34m\u001b[0m\u001b[0m\n\u001b[1;32m   2677\u001b[0m \u001b[0;34m\u001b[0m\u001b[0m\n",
      "\u001b[0;32m/mnt/0a1cd6b4-4d6a-40d6-80be-a86f7c7fec17/MyCodes/Public_laloceh_GitProjects/Python/Pythorch/venv/lib/python3.5/site-packages/tensorflow/python/client/session.py\u001b[0m in \u001b[0;36m__call__\u001b[0;34m(self, *args, **kwargs)\u001b[0m\n\u001b[1;32m   1437\u001b[0m           ret = tf_session.TF_SessionRunCallable(\n\u001b[1;32m   1438\u001b[0m               \u001b[0mself\u001b[0m\u001b[0;34m.\u001b[0m\u001b[0m_session\u001b[0m\u001b[0;34m.\u001b[0m\u001b[0m_session\u001b[0m\u001b[0;34m,\u001b[0m \u001b[0mself\u001b[0m\u001b[0;34m.\u001b[0m\u001b[0m_handle\u001b[0m\u001b[0;34m,\u001b[0m \u001b[0margs\u001b[0m\u001b[0;34m,\u001b[0m \u001b[0mstatus\u001b[0m\u001b[0;34m,\u001b[0m\u001b[0;34m\u001b[0m\u001b[0m\n\u001b[0;32m-> 1439\u001b[0;31m               run_metadata_ptr)\n\u001b[0m\u001b[1;32m   1440\u001b[0m         \u001b[0;32mif\u001b[0m \u001b[0mrun_metadata\u001b[0m\u001b[0;34m:\u001b[0m\u001b[0;34m\u001b[0m\u001b[0m\n\u001b[1;32m   1441\u001b[0m           \u001b[0mproto_data\u001b[0m \u001b[0;34m=\u001b[0m \u001b[0mtf_session\u001b[0m\u001b[0;34m.\u001b[0m\u001b[0mTF_GetBuffer\u001b[0m\u001b[0;34m(\u001b[0m\u001b[0mrun_metadata_ptr\u001b[0m\u001b[0;34m)\u001b[0m\u001b[0;34m\u001b[0m\u001b[0m\n",
      "\u001b[0;31mKeyboardInterrupt\u001b[0m: "
     ],
     "output_type": "error"
    }
   ],
   "source": [
    "### If it is already saved then do not run it again, it takes time\n",
    "# design network\n",
    "model = Sequential()\n",
    "model.add(LSTM(neurons, input_shape=(train_X.shape[1], train_X.shape[2]), return_sequences=True))\n",
    "model.add(Dropout(dropout))\n",
    "model.add(LSTM(neurons))\n",
    "model.add(Dropout(dropout))\n",
    "model.add(Dense(1))\n",
    "model.compile(loss='mae', optimizer='adam')\n",
    "model.summary()\n",
    "# fit network\n",
    "history = model.fit(train_X, y_train, epochs=epochs, batch_size=batch_size, \n",
    "                    validation_data=(test_X, y_test), verbose=2, shuffle=False)\n"
   ],
   "metadata": {
    "collapsed": false,
    "pycharm": {
     "name": "#%%\n",
     "is_executing": false
    }
   }
  },
  {
   "cell_type": "markdown",
   "source": [
    "### Plot the loss"
   ],
   "metadata": {
    "collapsed": false
   }
  },
  {
   "cell_type": "code",
   "execution_count": 38,
   "outputs": [
    {
     "evalue": "name 'history' is not defined",
     "traceback": [
      "\u001b[0;31m---------------------------------------------------------------------------\u001b[0m",
      "\u001b[0;31mNameError\u001b[0m                                 Traceback (most recent call last)",
      "\u001b[0;32m<ipython-input-38-e8e990fba42b>\u001b[0m in \u001b[0;36m<module>\u001b[0;34m\u001b[0m\n\u001b[1;32m      1\u001b[0m \u001b[0;31m# plot history\u001b[0m\u001b[0;34m\u001b[0m\u001b[0;34m\u001b[0m\u001b[0m\n\u001b[0;32m----> 2\u001b[0;31m \u001b[0mplt\u001b[0m\u001b[0;34m.\u001b[0m\u001b[0mplot\u001b[0m\u001b[0;34m(\u001b[0m\u001b[0mhistory\u001b[0m\u001b[0;34m.\u001b[0m\u001b[0mhistory\u001b[0m\u001b[0;34m[\u001b[0m\u001b[0;34m'loss'\u001b[0m\u001b[0;34m]\u001b[0m\u001b[0;34m,\u001b[0m \u001b[0mlabel\u001b[0m\u001b[0;34m=\u001b[0m\u001b[0;34m'train'\u001b[0m\u001b[0;34m)\u001b[0m\u001b[0;34m\u001b[0m\u001b[0m\n\u001b[0m\u001b[1;32m      3\u001b[0m \u001b[0mplt\u001b[0m\u001b[0;34m.\u001b[0m\u001b[0mplot\u001b[0m\u001b[0;34m(\u001b[0m\u001b[0mhistory\u001b[0m\u001b[0;34m.\u001b[0m\u001b[0mhistory\u001b[0m\u001b[0;34m[\u001b[0m\u001b[0;34m'val_loss'\u001b[0m\u001b[0;34m]\u001b[0m\u001b[0;34m,\u001b[0m \u001b[0mlabel\u001b[0m\u001b[0;34m=\u001b[0m\u001b[0;34m'test'\u001b[0m\u001b[0;34m)\u001b[0m\u001b[0;34m\u001b[0m\u001b[0m\n\u001b[1;32m      4\u001b[0m \u001b[0mplt\u001b[0m\u001b[0;34m.\u001b[0m\u001b[0mlegend\u001b[0m\u001b[0;34m(\u001b[0m\u001b[0;34m)\u001b[0m\u001b[0;34m\u001b[0m\u001b[0m\n\u001b[1;32m      5\u001b[0m \u001b[0mplt\u001b[0m\u001b[0;34m.\u001b[0m\u001b[0mshow\u001b[0m\u001b[0;34m(\u001b[0m\u001b[0;34m)\u001b[0m\u001b[0;34m\u001b[0m\u001b[0m\n",
      "\u001b[0;31mNameError\u001b[0m: name 'history' is not defined"
     ],
     "ename": "NameError",
     "output_type": "error"
    }
   ],
   "source": [
    "# plot history\n",
    "plt.plot(history.history['loss'], label='train')\n",
    "plt.plot(history.history['val_loss'], label='test')\n",
    "plt.legend()\n",
    "plt.show()\n",
    "\n",
    "print(history.history.keys())\n"
   ],
   "metadata": {
    "collapsed": false,
    "pycharm": {
     "name": "#%%\n",
     "is_executing": false
    }
   }
  },
  {
   "cell_type": "markdown",
   "source": [
    "### Save the model and scaler\n"
   ],
   "metadata": {
    "collapsed": false
   }
  },
  {
   "cell_type": "code",
   "execution_count": null,
   "outputs": [],
   "source": [
    "print(model_filename)\n",
    "model.save(model_filename)\n",
    "print(scaler_filename)\n",
    "dump(scaler_object, open(scaler_filename, 'wb'))\n"
   ],
   "metadata": {
    "collapsed": false,
    "pycharm": {
     "name": "#%%\n"
    }
   }
  },
  {
   "cell_type": "markdown",
   "source": [
    "### Load the model\n"
   ],
   "metadata": {
    "collapsed": false
   }
  },
  {
   "cell_type": "code",
   "execution_count": 107,
   "outputs": [],
   "source": [
    "model = load_model(model_filename)\n",
    "scaler_object = load(open(scaler_filename, 'rb'))\n"
   ],
   "metadata": {
    "collapsed": false,
    "pycharm": {
     "name": "#%%\n",
     "is_executing": false
    }
   }
  },
  {
   "cell_type": "markdown",
   "source": [
    "## Make predictions with dropout\n",
    "As it will take a lot of time do the prediction for all the test set\n",
    "I pick a random number of test instances\n",
    "\n"
   ],
   "metadata": {
    "collapsed": false,
    "pycharm": {
     "name": "#%% md\n"
    }
   }
  },
  {
   "cell_type": "code",
   "execution_count": 108,
   "outputs": [
    {
     "name": "stdout",
     "text": [
      "[ 2317 27761 40374 17487 28357 67837 41231 16921 76346 92934  7289 28154\n 33396 33929 77095 61387 36133 62937 60419 11730  7692 56711 36462 18771\n 87701 25778 52370 40373 41142 75027 41880 88534 69928 84815 58212 53213\n 23871 85717 55999  6097 11070 63165 93776 18918 18527 67930 66881  8890\n 69509 57150]\n"
     ],
     "output_type": "stream"
    }
   ],
   "source": [
    "\n",
    "indices = np.random.choice(range(test_X.shape[0]), replace=False, size=k_test_instances)\n",
    "print(indices)\n",
    "\n",
    " "
   ],
   "metadata": {
    "collapsed": false,
    "pycharm": {
     "name": "#%%\n",
     "is_executing": false
    }
   }
  },
  {
   "cell_type": "code",
   "execution_count": 109,
   "outputs": [
    {
     "name": "stdout",
     "text": [
      "1 \tMean: 231.46628 Std: 12.544475 y 233.75\n",
      "2 \tMean: 257.86954 Std: 15.755453 y 260.7\n",
      "3 \tMean: 167.28947 Std: 6.457458 y 171.2\n",
      "4 \tMean: 172.46854 Std: 6.72563 y 175.05\n",
      "5 \tMean: 228.70079 Std: 12.214785 y 230.9\n",
      "6 \tMean: 145.4418 Std: 4.0385375 y 149.9\n",
      "7 \tMean: 212.32954 Std: 10.799389 y 214.05\n",
      "8 \tMean: 202.28647 Std: 9.488181 y 203.35\n",
      "9 \tMean: 263.62265 Std: 16.087658 y 271.1\n",
      "10 \tMean: 197.06685 Std: 8.833075 y 198.4\n",
      "11 \tMean: 81.10926 Std: 5.637208 y 85.2\n",
      "12 \tMean: 237.54675 Std: 13.406973 y 241.05\n",
      "13 \tMean: 306.8865 Std: 20.473112 y 321.8\n",
      "14 \tMean: 331.87625 Std: 22.57197 y 348.45\n",
      "15 \tMean: 293.97443 Std: 19.511032 y 308.55\n",
      "16 \tMean: 220.24434 Std: 11.690272 y 222.85\n",
      "17 \tMean: 253.81938 Std: 14.555339 y 258.45\n",
      "18 \tMean: 198.75641 Std: 8.943022 y 199.75\n",
      "19 \tMean: 171.17244 Std: 6.6665926 y 174.45\n",
      "20 \tMean: 234.29266 Std: 12.894705 y 237.5\n",
      "21 \tMean: 51.212753 Std: 9.512874 y 65.05\n",
      "22 \tMean: 431.789 Std: 32.432487 y 450.05\n",
      "23 \tMean: 268.411 Std: 16.044226 y 274.9\n",
      "24 \tMean: 105.16002 Std: 1.9835502 y 110.85\n",
      "25 \tMean: 246.2828 Std: 14.033097 y 250.05\n",
      "26 \tMean: 324.00342 Std: 23.042635 y 340.35\n",
      "27 \tMean: 265.06824 Std: 16.133705 y 271.5\n",
      "28 \tMean: 167.86438 Std: 5.945043 y 171.15\n",
      "29 \tMean: 207.57335 Std: 9.885215 y 209.6\n",
      "30 \tMean: 285.35513 Std: 17.791962 y 294.75\n",
      "31 \tMean: 243.67319 Std: 13.547968 y 246.5\n",
      "32 \tMean: 218.47757 Std: 10.807607 y 219.1\n",
      "33 \tMean: 145.45726 Std: 4.055883 y 149.9\n",
      "34 \tMean: 245.26389 Std: 14.693002 y 250.05\n",
      "35 \tMean: 430.2531 Std: 31.982346 y 450.05\n",
      "36 \tMean: 299.64774 Std: 19.426802 y 313.65\n",
      "37 \tMean: 245.84116 Std: 14.30203 y 250.05\n",
      "38 \tMean: 247.42232 Std: 13.632859 y 250.05\n",
      "39 \tMean: 432.4799 Std: 33.115788 y 450.05\n",
      "40 \tMean: 140.63371 Std: 3.5334527 y 144.8\n",
      "41 \tMean: 202.83281 Std: 9.687674 y 204.5\n",
      "42 \tMean: 186.66707 Std: 7.936074 y 188.35\n",
      "43 \tMean: 152.4152 Std: 4.7581596 y 156.3\n",
      "44 \tMean: 99.89337 Std: 2.0778575 y 103.5\n",
      "45 \tMean: 118.580864 Std: 2.1134026 y 123.05\n",
      "46 \tMean: 145.61122 Std: 3.9677618 y 149.9\n",
      "47 \tMean: 145.49167 Std: 3.9669385 y 149.9\n",
      "48 \tMean: 28.095171 Std: 12.309091 y 49.85\n",
      "49 \tMean: 145.38492 Std: 4.042578 y 149.9\n",
      "50 \tMean: 430.54538 Std: 33.003635 y 450.05\n[233.75, 260.7, 171.2, 175.05, 230.9, 149.9, 214.05, 203.35, 271.1, 198.4, 85.2, 241.05, 321.8, 348.45, 308.55, 222.85, 258.45, 199.75, 174.45, 237.5, 65.05, 450.05, 274.9, 110.85, 250.05, 340.35, 271.5, 171.15, 209.6, 294.75, 246.5, 219.1, 149.9, 250.05, 450.05, 313.65, 250.05, 250.05, 450.05, 144.8, 204.5, 188.35, 156.3, 103.5, 123.05, 149.9, 149.9, 49.85, 149.9, 450.05]\n50\n[231.46628, 257.86954, 167.28947, 172.46854, 228.70079, 145.4418, 212.32954, 202.28647, 263.62265, 197.06685, 81.10926, 237.54675, 306.8865, 331.87625, 293.97443, 220.24434, 253.81938, 198.75641, 171.17244, 234.29266, 51.212753, 431.789, 268.411, 105.16002, 246.2828, 324.00342, 265.06824, 167.86438, 207.57335, 285.35513, 243.67319, 218.47757, 145.45726, 245.26389, 430.2531, 299.64774, 245.84116, 247.42232, 432.4799, 140.63371, 202.83281, 186.66707, 152.4152, 99.89337, 118.580864, 145.61122, 145.49167, 28.095171, 145.38492, 430.54538]\n50\n[12.544475, 15.755453, 6.457458, 6.72563, 12.214785, 4.0385375, 10.799389, 9.488181, 16.087658, 8.833075, 5.637208, 13.406973, 20.473112, 22.57197, 19.511032, 11.690272, 14.555339, 8.943022, 6.6665926, 12.894705, 9.512874, 32.432487, 16.044226, 1.9835502, 14.033097, 23.042635, 16.133705, 5.945043, 9.885215, 17.791962, 13.547968, 10.807607, 4.055883, 14.693002, 31.982346, 19.426802, 14.30203, 13.632859, 33.115788, 3.5334527, 9.687674, 7.936074, 4.7581596, 2.0778575, 2.1134026, 3.9677618, 3.9669385, 12.309091, 4.042578, 33.003635]\n50\n"
     ],
     "output_type": "stream"
    }
   ],
   "source": [
    "\n",
    "kdp = KerasDropoutPrediction(model)\n",
    "\n",
    "y_true = []\n",
    "y_hat = []\n",
    "y_hat_std = []\n",
    "for i, index in enumerate(indices):\n",
    "    x_test = test_X[index]\n",
    "    y_true.append(y_test[index])\n",
    "    result = kdp.predict([x_test], 1000)\n",
    "    #print(result.flatten())\n",
    "    #print(result.shape)\n",
    "    yhat_mean = np.mean(result)\n",
    "    yhat_std = np.std(result)\n",
    "    print(i+1, '\\t', index, '\\tMean:', yhat_mean, 'Std:', yhat_std, 'y',y_test[index])\n",
    "    y_hat.append(yhat_mean)\n",
    "    y_hat_std.append(yhat_std)\n",
    "\n",
    "print(y_true)\n",
    "print(len(y_true))\n",
    "print(y_hat)\n",
    "print(len(y_hat))\n",
    "print(y_hat_std)\n",
    "print(len(y_hat_std))\n"
   ],
   "metadata": {
    "collapsed": false,
    "pycharm": {
     "name": "#%%\n",
     "is_executing": false
    }
   }
  },
  {
   "cell_type": "markdown",
   "source": [
    "### Calculating Prediction Ranges (lower and upper bounds)\n"
   ],
   "metadata": {
    "collapsed": false,
    "pycharm": {
     "name": "#%% md\n"
    }
   }
  },
  {
   "cell_type": "code",
   "execution_count": 129,
   "outputs": [],
   "source": [
    "def get_ranges(y_hat, y_hat_std, num_stds=1):\n",
    "    y_hat_lowers = []\n",
    "    y_hat_uppers = []\n",
    "\n",
    "    for i in range(len(y_hat)):\n",
    "        point = y_hat[i]\n",
    "        std = y_hat_std[i]\n",
    "        lower = point - (num_stds * std)\n",
    "        upper = point + (num_stds * std)\n",
    "        \n",
    "        y_hat_lowers.append(lower)\n",
    "        y_hat_uppers.append(upper)\n",
    "        \n",
    "    \n",
    "    return y_hat_uppers, y_hat_lowers\n"
   ],
   "metadata": {
    "collapsed": false,
    "pycharm": {
     "name": "#%%\n",
     "is_executing": false
    }
   }
  },
  {
   "cell_type": "markdown",
   "source": [
    "With std deviation"
   ],
   "metadata": {
    "collapsed": false,
    "pycharm": {
     "name": "#%% md\n",
     "is_executing": false
    }
   }
  },
  {
   "cell_type": "code",
   "execution_count": 111,
   "outputs": [],
   "source": [
    "std_dev = 3\n",
    "std_dev_labels = {1:'0.68', 2:'0.95', 3:'0.997'}\n"
   ],
   "metadata": {
    "collapsed": false,
    "pycharm": {
     "name": "#%%\n",
     "is_executing": false
    }
   }
  },
  {
   "cell_type": "code",
   "execution_count": 112,
   "outputs": [
    {
     "name": "stdout",
     "text": [
      "Results with 3 standad deviation\nUpper:\t [269.0997018814087, 305.13589668273926, 186.66184854507446, 192.6454257965088, 265.3451442718506, 157.55741548538208, 244.72771072387695, 230.7510118484497, 311.88562393188477, 223.56607246398926, 98.02088451385498, 277.767671585083, 368.30584144592285, 399.59216117858887, 352.5075225830078, 255.3151559829712, 297.4853982925415, 225.58547401428223, 191.1722173690796, 272.9767780303955, 79.75137424468994, 529.0864639282227, 316.54368782043457, 111.11066949367523, 288.382098197937, 393.1313228607178, 313.46935272216797, 185.69950914382935, 237.22899341583252, 338.73101806640625, 284.3170909881592, 250.90038967132568, 157.62490892410278, 289.3428907394409, 526.2001495361328, 357.9281406402588, 288.7472448348999, 288.3208951950073, 531.8272514343262, 151.23407101631165, 231.89583015441895, 210.47528982162476, 166.6896858215332, 106.126944065094, 124.921071767807, 157.51450657844543, 157.39248418807983, 65.02244281768799, 157.51265287399292, 529.5562858581543]\nMean:\t [231.46628, 257.86954, 167.28947, 172.46854, 228.70079, 145.4418, 212.32954, 202.28647, 263.62265, 197.06685, 81.10926, 237.54675, 306.8865, 331.87625, 293.97443, 220.24434, 253.81938, 198.75641, 171.17244, 234.29266, 51.212753, 431.789, 268.411, 105.16002, 246.2828, 324.00342, 265.06824, 167.86438, 207.57335, 285.35513, 243.67319, 218.47757, 145.45726, 245.26389, 430.2531, 299.64774, 245.84116, 247.42232, 432.4799, 140.63371, 202.83281, 186.66707, 152.4152, 99.89337, 118.580864, 145.61122, 145.49167, 28.095171, 145.38492, 430.54538]\nTruth:\t [233.75, 260.7, 171.2, 175.05, 230.9, 149.9, 214.05, 203.35, 271.1, 198.4, 85.2, 241.05, 321.8, 348.45, 308.55, 222.85, 258.45, 199.75, 174.45, 237.5, 65.05, 450.05, 274.9, 110.85, 250.05, 340.35, 271.5, 171.15, 209.6, 294.75, 246.5, 219.1, 149.9, 250.05, 450.05, 313.65, 250.05, 250.05, 450.05, 144.8, 204.5, 188.35, 156.3, 103.5, 123.05, 149.9, 149.9, 49.85, 149.9, 450.05]\nLower:\t [193.83285427093506, 210.603178024292, 147.9171004295349, 152.29164695739746, 192.0564365386963, 133.32619047164917, 179.93137741088867, 173.82192516326904, 215.35967636108398, 170.56762504577637, 64.19763660430908, 197.325834274292, 245.4671688079834, 264.1603412628174, 235.4413299560547, 185.17352199554443, 210.15336513519287, 171.92734336853027, 151.17266178131104, 195.608549118042, 22.674132347106934, 334.49153900146484, 220.27833366394043, 99.20936834812164, 204.18351459503174, 254.87551307678223, 216.66712188720703, 150.02925062179565, 177.91770458221436, 231.979248046875, 203.02928352355957, 186.05474948883057, 133.2896113395691, 201.18488025665283, 334.3060760498047, 241.36733055114746, 202.93506717681885, 206.5237398147583, 333.1325263977051, 130.03335452079773, 173.76978874206543, 162.85884714126587, 138.14072799682617, 93.6597990989685, 112.24065613746643, 133.7079360485077, 133.59085321426392, -8.832100868225098, 133.25718355178833, 331.53447341918945]\n"
     ],
     "output_type": "stream"
    }
   ],
   "source": [
    "print(\"Results with %d standad deviation\" % std_dev)\n",
    "y_hat_uppers, y_hat_lowers = get_ranges(y_hat, y_hat_std, std_dev)\n",
    "print(\"Upper:\\t\", y_hat_uppers)\n",
    "print(\"Mean:\\t\",y_hat)\n",
    "print(\"Truth:\\t\", y_true)\n",
    "print(\"Lower:\\t\",y_hat_lowers)\n",
    "\n"
   ],
   "metadata": {
    "collapsed": false,
    "pycharm": {
     "name": "#%%\n",
     "is_executing": false
    }
   }
  },
  {
   "cell_type": "markdown",
   "source": [
    "## Evaluate the model\n",
    "from random samples\n"
   ],
   "metadata": {
    "collapsed": false
   }
  },
  {
   "cell_type": "code",
   "execution_count": 113,
   "outputs": [
    {
     "name": "stdout",
     "text": [
      "Test RMSE: 8.822\nTest MAE: 2.564\n"
     ],
     "output_type": "stream"
    }
   ],
   "source": [
    "# make a prediction\n",
    "#print(\"test_X shape\", test_X.shape)\n",
    "#yhat = model.predict(test_X)\n",
    "# calculate RMSE\n",
    "rmse = np.sqrt(mean_squared_error(y_true, y_hat))\n",
    "print('Test RMSE: %.3f' % rmse)\n",
    "mae = np.sqrt(mean_absolute_error(y_true, y_hat))\n",
    "print('Test MAE: %.3f' % mae)\n"
   ],
   "metadata": {
    "collapsed": false,
    "pycharm": {
     "name": "#%%\n",
     "is_executing": false
    }
   }
  },
  {
   "cell_type": "markdown",
   "source": [
    "## Comparing results"
   ],
   "metadata": {
    "collapsed": false
   }
  },
  {
   "cell_type": "code",
   "execution_count": 75,
   "outputs": [],
   "source": [
    "# Picked k random test instances\n",
    "#t_X = test_X.reshape(test_X.shape[0], test_X.shape[1])\n",
    "##t_X = test_X.reshape(test_X.shape[0], 1, test_X.shape[1])\n"
   ],
   "metadata": {
    "collapsed": false,
    "pycharm": {
     "name": "#%%\n",
     "is_executing": false
    }
   }
  },
  {
   "cell_type": "code",
   "execution_count": 114,
   "outputs": [
    {
     "name": "stdout",
     "text": [
      "[ 2317 27761 40374 17487 28357 67837 41231 16921 76346 92934  7289 28154\n 33396 33929 77095 61387 36133 62937 60419 11730  7692 56711 36462 18771\n 87701 25778 52370 40373 41142 75027 41880 88534 69928 84815 58212 53213\n 23871 85717 55999  6097 11070 63165 93776 18918 18527 67930 66881  8890\n 69509 57150]\n[58212 17487 40373]\n[34, 3, 27]\n"
     ],
     "output_type": "stream"
    }
   ],
   "source": [
    "print(indices)\n",
    "\n",
    "plot_indices = np.random.choice(list(indices), replace=False, size=p_instances_to_plot)\n",
    "print(plot_indices)\n",
    "\n",
    "plot_indices_idx = []\n",
    "for p in plot_indices:\n",
    "    idx = list(indices).index(p)\n",
    "    plot_indices_idx.append(idx)\n",
    "    \n",
    "print(plot_indices_idx)\n"
   ],
   "metadata": {
    "collapsed": false,
    "pycharm": {
     "name": "#%%\n",
     "is_executing": false
    }
   }
  },
  {
   "cell_type": "markdown",
   "source": [
    "### Plot some tests"
   ],
   "metadata": {
    "collapsed": false,
    "pycharm": {
     "name": "#%% md\n"
    }
   }
  },
  {
   "cell_type": "code",
   "execution_count": 115,
   "outputs": [
    {
     "name": "stdout",
     "text": [
      "58212\n",
      "17487\n",
      "40373\n"
     ],
     "output_type": "stream"
    },
    {
     "data": {
      "image/png": "[encoded data removed]",
      "text/plain": "<Figure size 864x216 with 1 Axes>"
     },
     "metadata": {
      "needs_background": "light"
     },
     "output_type": "display_data"
    },
    {
     "data": {
      "image/png": "[encoded data removed]",
      "text/plain": "<Figure size 864x216 with 1 Axes>"
     },
     "metadata": {
      "needs_background": "light"
     },
     "output_type": "display_data"
    },
    {
     "data": {
      "image/png": "[encoded data removed]",
      "text/plain": "<Figure size 864x216 with 1 Axes>"
     },
     "metadata": {
      "needs_background": "light"
     },
     "output_type": "display_data"
    }
   ],
   "source": [
    "#indices = np.random.choice(range(t_X.shape[0]), replace=False, size=3)\n",
    "for i, index in enumerate(plot_indices):\n",
    "    print(index)\n",
    "    x_test = test_X[index]\n",
    "    x_test = x_test.reshape(x_test.shape[1], x_test.shape[0])\n",
    "    test_X_rescaled = scaler_object.inverse_transform(x_test)\n",
    "    y_idx = list(indices).index(index)\n",
    "    \n",
    "    plot_prediction_ranges(test_X_rescaled[0], [y_test[index]], \n",
    "                           [y_hat[y_idx]], [y_hat_lowers[y_idx]],[y_hat_uppers[y_idx]],\n",
    "                           std_dev, std_dev_labels[std_dev])\n",
    "\n"
   ],
   "metadata": {
    "collapsed": false,
    "pycharm": {
     "name": "#%%\n",
     "is_executing": false
    }
   }
  },
  {
   "cell_type": "markdown",
   "source": [
    "## Predicting k steps in the future\n"
   ],
   "metadata": {
    "collapsed": false
   }
  },
  {
   "cell_type": "code",
   "execution_count": 116,
   "outputs": [
    {
     "name": "stdout",
     "text": [
      "~~~~~~~~~~~~~~~~~~~~~~~~~~~~~~~~~~~~~~~~~~~~~~~~~~\n~~~~~~~~~~~~~~~~~~~~~~~~~~~~~~~~~~~~~~~~~~~~~~~~~~\nPredictions for index: 58212\ninput shape (1, 10, 1)\nPred  1\nInput shape: (1, 10, 1)\nWindow rescaled\n[[450.05 450.05 450.05 450.05 450.05 450.05 450.05 450.05 450.05 450.05]]\nwindow rescaled shape: (1, 10)\n",
      "Pred  1 : 430.36127\nyhat 430.36127\nNew window: [450.05       450.05       450.05       450.05       450.05\n 450.05       450.05       450.05       450.05       430.36126709]\nNew window shape (10,)\n##################################################\nPred  2\nInput shape: (1, 10, 1)\nWindow rescaled\n[[450.05       450.05       450.05       450.05       450.05\n  450.05       450.05       450.05       450.05       430.36126709]]\nwindow rescaled shape: (1, 10)\n",
      "Pred  2 : 431.28857\nyhat 431.28857\nNew window: [450.05       450.05       450.05       450.05       450.05\n 450.05       450.05       450.05       430.36126709 431.28857422]\nNew window shape (10,)\n##################################################\nPred  3\nInput shape: (1, 10, 1)\nWindow rescaled\n[[450.05       450.05       450.05       450.05       450.05\n  450.05       450.05       450.05       430.36126709 431.28857422]]\nwindow rescaled shape: (1, 10)\n",
      "Pred  3 : 430.39047\nyhat 430.39047\nNew window: [450.05       450.05       450.05       450.05       450.05\n 450.05       450.05       430.36126709 431.28857422 430.39047241]\nNew window shape (10,)\n##################################################\n[430.36127, 431.28857, 430.39047]\n[34.864967, 34.213963, 33.330124]\n~~~~~~~~~~~~~~~~~~~~~~~~~~~~~~~~~~~~~~~~~~~~~~~~~~\n~~~~~~~~~~~~~~~~~~~~~~~~~~~~~~~~~~~~~~~~~~~~~~~~~~\nPredictions for index: 17487\ninput shape (1, 10, 1)\nPred  1\nInput shape: (1, 10, 1)\nWindow rescaled\n[[175.55 175.5  175.45 175.4  175.35 175.3  175.25 175.2  175.15 175.1 ]]\nwindow rescaled shape: (1, 10)\n",
      "Pred  1 : 172.17592\nyhat 172.17592\nNew window: [175.5        175.45       175.4        175.35       175.3\n 175.25       175.2        175.15       175.1        172.17591858]\nNew window shape (10,)\n##################################################\nPred  2\nInput shape: (1, 10, 1)\nWindow rescaled\n[[175.5        175.45       175.4        175.35       175.3\n  175.25       175.2        175.15       175.1        172.17591858]]\nwindow rescaled shape: (1, 10)\n",
      "Pred  2 : 172.87677\nyhat 172.87677\nNew window: [175.45       175.4        175.35       175.3        175.25\n 175.2        175.15       175.1        172.17591858 172.87677002]\nNew window shape (10,)\n##################################################\nPred  3\nInput shape: (1, 10, 1)\nWindow rescaled\n[[175.45       175.4        175.35       175.3        175.25\n  175.2        175.15       175.1        172.17591858 172.87677002]]\nwindow rescaled shape: (1, 10)\n",
      "Pred  3 : 172.33281\nyhat 172.33281\nNew window: [175.4        175.35       175.3        175.25       175.2\n 175.15       175.1        172.17591858 172.87677002 172.33280945]\nNew window shape (10,)\n##################################################\n[172.17592, 172.87677, 172.33281]\n[6.8211107, 6.7939277, 6.6518455]\n~~~~~~~~~~~~~~~~~~~~~~~~~~~~~~~~~~~~~~~~~~~~~~~~~~\n~~~~~~~~~~~~~~~~~~~~~~~~~~~~~~~~~~~~~~~~~~~~~~~~~~\nPredictions for index: 40373\ninput shape (1, 10, 1)\nPred  1\nInput shape: (1, 10, 1)\nWindow rescaled\n[[170.65 170.7  170.75 170.8  170.85 170.9  170.95 171.   171.05 171.1 ]]\nwindow rescaled shape: (1, 10)\n",
      "Pred  1 : 167.721\nyhat 167.721\nNew window: [170.7        170.75       170.8        170.85       170.9\n 170.95       171.         171.05       171.1        167.72099304]\nNew window shape (10,)\n##################################################\nPred  2\nInput shape: (1, 10, 1)\nWindow rescaled\n[[170.7        170.75       170.8        170.85       170.9\n  170.95       171.         171.05       171.1        167.72099304]]\nwindow rescaled shape: (1, 10)\n",
      "Pred  2 : 167.745\nyhat 167.745\nNew window: [170.75       170.8        170.85       170.9        170.95\n 171.         171.05       171.1        167.72099304 167.74499512]\nNew window shape (10,)\n##################################################\nPred  3\nInput shape: (1, 10, 1)\nWindow rescaled\n[[170.75       170.8        170.85       170.9        170.95\n  171.         171.05       171.1        167.72099304 167.74499512]]\nwindow rescaled shape: (1, 10)\n",
      "Pred  3 : 167.2465\nyhat 167.2465\nNew window: [170.8        170.85       170.9        170.95       171.\n 171.05       171.1        167.72099304 167.74499512 167.24650574]\nNew window shape (10,)\n##################################################\n[167.721, 167.745, 167.2465]\n[6.292544, 6.1501765, 5.9041443]\n\n[[430.36127, 431.28857, 430.39047], [172.17592, 172.87677, 172.33281], [167.721, 167.745, 167.2465]]\n[[34.864967, 34.213963, 33.330124], [6.8211107, 6.7939277, 6.6518455], [6.292544, 6.1501765, 5.9041443]]\n"
     ],
     "output_type": "stream"
    }
   ],
   "source": [
    "all_predictions = []\n",
    "all_deviations = []\n",
    "for index in plot_indices:\n",
    "    print(\"~\"*50)\n",
    "    print(\"~\"*50)\n",
    "    print(\"Predictions for index:\", index)\n",
    "    x_test = np.asarray([test_X[index]])    \n",
    "    input = x_test\n",
    "    print(\"input shape\", input.shape)\n",
    "    \n",
    "    predictions = []\n",
    "    std_deviations = []\n",
    "    for i in range(predict_k):\n",
    "        print(\"Pred \", i+1)    \n",
    "        print(\"Input shape:\", input.shape)\n",
    "        window = input.reshape(x_test.shape[0], x_test.shape[1])\n",
    "        ##print(\"Window\")\n",
    "        ##print(window)\n",
    "        ##print(\"window shape\",window.shape)\n",
    "        \n",
    "        # This will convert the values to Location values\n",
    "        window_rescaled = scaler_object.inverse_transform(window)\n",
    "        print(\"Window rescaled\")\n",
    "        print(window_rescaled)\n",
    "        print(\"window rescaled shape:\",window_rescaled.shape)\n",
    "        \n",
    "        result = kdp.predict(input, 1000)\n",
    "        #print(result.flatten())\n",
    "        #print(result.shape)\n",
    "        yhat_mean = np.mean(result)\n",
    "        yhat_std = np.std(result)\n",
    "        \n",
    "        #yhat = model.predict(input)\n",
    "        yhat = yhat_mean\n",
    "        print(\"Pred \", i+1, \":\", yhat)\n",
    "        \n",
    "        #predictions.append(yhat[0][0])    \n",
    "        predictions.append(yhat)\n",
    "        print('yhat', yhat)\n",
    "        ##print(type(yhat))\n",
    "        ##print(type(window_rescaled))\n",
    "\n",
    "        std_deviations.append(yhat_std)\n",
    "        \n",
    "        input = np.append(window_rescaled[:,1:], yhat)\n",
    "        print(\"New window:\", input)\n",
    "        print(\"New window shape\", input.shape)\n",
    " \n",
    "        input = input.reshape(1, input.shape[0], window.shape[0])\n",
    "        ##print(\"New new input shape:\", input.shape)\n",
    "        ##print(input)\n",
    "        # This will convert the location values to scaled values\n",
    "        \n",
    "        input = input.reshape(1, input.shape[1])\n",
    "        input = scaler_object.transform(input)\n",
    "        ##print(\"New scaled input\")\n",
    "        ##print(input)\n",
    "        ##print(\"New scaled input shape\", input.shape)\n",
    "        \n",
    "        input = input.reshape(1, input.shape[1], window.shape[0])\n",
    "        ##print(\"input shape\",input.shape)\n",
    "        print(\"#\" * 50)\n",
    "        \n",
    "    print(predictions)\n",
    "    print(std_deviations)\n",
    "    \n",
    "    all_predictions.append(predictions)\n",
    "    all_deviations.append(std_deviations)\n",
    "print()\n",
    "print(all_predictions)\n",
    "print(all_deviations)\n",
    "      "
   ],
   "metadata": {
    "collapsed": false,
    "pycharm": {
     "name": "#%%\n",
     "is_executing": false
    }
   }
  },
  {
   "cell_type": "markdown",
   "source": [
    "### Get the ranges\n"
   ],
   "metadata": {
    "collapsed": false,
    "pycharm": {
     "name": "#%% md\n"
    }
   }
  },
  {
   "cell_type": "code",
   "execution_count": 143,
   "outputs": [
    {
     "name": "stdout",
     "text": [
      "Results with 3 standard deviations\n0\nUpper:\t 534.956169128418\nMean:\t 430.36127\nTruth:\t 450.05\nLower:\t 325.76636505126953\n\nUpper:\t 533.9304618835449\nMean:\t 431.28857\nTruth:\t 450.05\nLower:\t 328.6466865539551\n\nUpper:\t 530.3808441162109\nMean:\t 430.39047\nTruth:\t 450.05\nLower:\t 330.4001007080078\n\n\n1\nUpper:\t 192.63925075531006\nMean:\t 172.17592\nTruth:\t 175.05\nLower:\t 151.71258640289307\n\nUpper:\t 193.2585530281067\nMean:\t 172.87677\nTruth:\t 175.05\nLower:\t 152.4949870109558\n\nUpper:\t 192.28834581375122\nMean:\t 172.33281\nTruth:\t 175.05\nLower:\t 152.37727308273315\n\n\n2\nUpper:\t 186.5986247062683\nMean:\t 167.721\nTruth:\t 171.15\nLower:\t 148.84336137771606\n\nUpper:\t 186.1955246925354\nMean:\t 167.745\nTruth:\t 171.15\nLower:\t 149.2944655418396\n\nUpper:\t 184.9589385986328\nMean:\t 167.2465\nTruth:\t 171.15\nLower:\t 149.53407287597656\n\n\n"
     ],
     "output_type": "stream"
    }
   ],
   "source": [
    "all_uppers = []\n",
    "all_lowers = []\n",
    "all_means = []\n",
    "\n",
    "print(\"Results with %d standard deviations\" % std_dev)\n",
    "for i, index in enumerate(plot_indices):\n",
    "    print(i)\n",
    "    y_hats = all_predictions[i]\n",
    "    std_devs = all_deviations[i]\n",
    "    #print(y_hats)\n",
    "    #print(std_devs)\n",
    "    y_uppers = []\n",
    "    y_lowers = []\n",
    "    y_means = []\n",
    "    for j in range(len(y_hats)):\n",
    "        yhat = [y_hats[j]]\n",
    "        ystd = [std_devs[j]]\n",
    "        #print('yhat:',yhat)\n",
    "        #print('ystd:',ystd)\n",
    "        \n",
    "        y_hat_uppers, y_hat_lowers = get_ranges(yhat, ystd, std_dev)\n",
    "        \n",
    "        print(\"Upper:\\t\", y_hat_uppers[0])\n",
    "        print(\"Mean:\\t\",yhat[0])\n",
    "        print(\"Truth:\\t\", y_test[index])\n",
    "        print(\"Lower:\\t\",y_hat_lowers[0])\n",
    "        print()\n",
    "        y_uppers.append(y_hat_uppers[0])\n",
    "        y_lowers.append(y_hat_lowers[0])\n",
    "        y_means.append(yhat[0])\n",
    "    print()\n",
    "    \n",
    "    all_uppers.append(y_uppers)\n",
    "    all_lowers.append(y_lowers)\n",
    "    all_means.append(y_means)\n"
   ],
   "metadata": {
    "collapsed": false,
    "pycharm": {
     "name": "#%%\n",
     "is_executing": false
    }
   }
  },
  {
   "cell_type": "code",
   "execution_count": 144,
   "outputs": [
    {
     "name": "stdout",
     "text": [
      "[[534.956169128418, 533.9304618835449, 530.3808441162109], [192.63925075531006, 193.2585530281067, 192.28834581375122], [186.5986247062683, 186.1955246925354, 184.9589385986328]]\n[[430.36127, 431.28857, 430.39047], [172.17592, 172.87677, 172.33281], [167.721, 167.745, 167.2465]]\n[[325.76636505126953, 328.6466865539551, 330.4001007080078], [151.71258640289307, 152.4949870109558, 152.37727308273315], [148.84336137771606, 149.2944655418396, 149.53407287597656]]\n"
     ],
     "output_type": "stream"
    }
   ],
   "source": [
    "print(all_uppers)\n",
    "print(all_means)\n",
    "print(all_lowers)\n"
   ],
   "metadata": {
    "collapsed": false,
    "pycharm": {
     "name": "#%%\n",
     "is_executing": false
    }
   }
  },
  {
   "cell_type": "code",
   "execution_count": 148,
   "outputs": [
    {
     "name": "stdout",
     "text": [
      "58212\n",
      "17487\n",
      "40373\n"
     ],
     "output_type": "stream"
    },
    {
     "data": {
      "image/png": "[encoded data removed]",
      "text/plain": "<Figure size 864x216 with 1 Axes>"
     },
     "metadata": {
      "needs_background": "light"
     },
     "output_type": "display_data"
    },
    {
     "data": {
      "image/png": "[encoded data removed]",
      "text/plain": "<Figure size 864x216 with 1 Axes>"
     },
     "metadata": {
      "needs_background": "light"
     },
     "output_type": "display_data"
    },
    {
     "data": {
      "image/png": "[encoded data removed]",
      "text/plain": "<Figure size 864x216 with 1 Axes>"
     },
     "metadata": {
      "needs_background": "light"
     },
     "output_type": "display_data"
    }
   ],
   "source": [
    "for i, index in enumerate(plot_indices):\n",
    "    print(index)\n",
    "    x_test = test_X[index]\n",
    "    x_test = x_test.reshape(x_test.shape[1], x_test.shape[0])\n",
    "    test_X_rescaled = scaler_object.inverse_transform(x_test)\n",
    "    y_idx = list(indices).index(index)\n",
    "    \n",
    "    plot_prediction_ranges(test_X_rescaled[0], [y_test[index]], \n",
    "                           all_means[i], all_lowers[i],\n",
    "                           all_uppers[i],\n",
    "                           std_dev, std_dev_labels[std_dev])\n",
    "\n",
    "\n",
    "\n",
    "        "
   ],
   "metadata": {
    "collapsed": false,
    "pycharm": {
     "name": "#%%\n",
     "is_executing": false
    }
   }
  },
  {
   "cell_type": "markdown",
   "source": [
    "## Plot future predictions\n"
   ],
   "metadata": {
    "collapsed": false
   }
  },
  {
   "cell_type": "code",
   "execution_count": null,
   "outputs": [],
   "source": [
    "\n"
   ],
   "metadata": {
    "collapsed": false,
    "pycharm": {
     "name": "#%%\n"
    }
   }
  },
  {
   "cell_type": "code",
   "execution_count": null,
   "outputs": [],
   "source": [
    "for i,index in enumerate(indices):\n",
    "    x_test = test_X[index]\n",
    "    x_test = x_test.reshape(x_test.shape[1], x_test.shape[0])\n",
    "    test_X_rescaled = scaler_object.inverse_transform(x_test)\n",
    "    #plot_prediction\n",
    "    print(\"Initial X:\",test_X_rescaled[0])\n",
    "    print(\"True t+1:\",[y_test[index]])\n",
    "    print(\"k predictions\",all_predictions[i])\n",
    "    plot_prediction(test_X_rescaled[0], [y_test[index]], all_predictions[i])\n",
    "    \n",
    "    "
   ],
   "metadata": {
    "collapsed": false,
    "pycharm": {
     "name": "#%%\n"
    }
   }
  },
  {
   "cell_type": "code",
   "execution_count": null,
   "outputs": [],
   "source": [],
   "metadata": {
    "collapsed": false,
    "pycharm": {
     "name": "#%%\n"
    }
   }
  }
 ],
 "metadata": {
  "language_info": {
   "codemirror_mode": {
    "name": "ipython",
    "version": 2
   },
   "file_extension": ".py",
   "mimetype": "text/x-python",
   "name": "python",
   "nbconvert_exporter": "python",
   "pygments_lexer": "ipython2",
   "version": "2.7.6"
  },
  "kernelspec": {
   "name": "pycharm-66a6e595",
   "language": "python",
   "display_name": "PyCharm (LocPredVariance)"
  },
  "pycharm": {
   "stem_cell": {
    "cell_type": "raw",
    "source": [],
    "metadata": {
     "collapsed": false
    }
   }
  }
 },
 "nbformat": 4,
 "nbformat_minor": 0
}