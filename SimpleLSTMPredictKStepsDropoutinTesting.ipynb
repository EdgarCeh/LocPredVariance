{
 "cells": [
  {
   "cell_type": "code",
   "execution_count": null,
   "outputs": [],
   "source": [
    "'''\n",
    "This script runs a simple LSTM model on a single columns (XLocation or YLocation)\n",
    "and predict k time steps in the future (t+1, t+2...t+k)\n",
    "The testing activates the droupout in order to generate multiple different outputs\n",
    "and then calculate the mean and standard deviation\n",
    "https://fairyonice.github.io/Measure-the-uncertainty-in-deep-learning-models-using-dropout.html\n",
    "'''\n"
   ],
   "metadata": {
    "collapsed": false,
    "pycharm": {
     "name": "#%%\n"
    }
   }
  },
  {
   "cell_type": "code",
   "execution_count": 1,
   "outputs": [
    {
     "name": "stderr",
     "text": [
      "Using TensorFlow backend.\n"
     ],
     "output_type": "stream"
    }
   ],
   "source": [
    "import pandas as pd\n",
    "import numpy as np\n",
    "import matplotlib.pyplot as plt\n",
    "from pickle import dump, load\n",
    "import sys\n",
    "import keras\n",
    "import keras.backend as K\n",
    "from sklearn.metrics import mean_squared_error,mean_absolute_error\n",
    "from sklearn.model_selection import  train_test_split\n",
    "from sklearn.preprocessing import MinMaxScaler\n",
    "from keras.models import Sequential\n",
    "from keras.layers import Dense, LSTM, Activation, Dropout\n",
    "from keras.models import load_model\n"
   ],
   "metadata": {
    "collapsed": false,
    "pycharm": {
     "name": "#%%\n",
     "is_executing": false
    }
   }
  },
  {
   "cell_type": "code",
   "execution_count": 2,
   "outputs": [],
   "source": [
    "class KerasDropoutPrediction(object):\n",
    "    \n",
    "    def __init__(self, model):\n",
    "        self.f = K.function(\n",
    "            [model.layers[0].input,\n",
    "             K.learning_phase()],\n",
    "            [model.layers[-1].output])\n",
    "        \n",
    "    def predict(self, x, n_iter=10):\n",
    "        result = []\n",
    "        for _ in range(n_iter):\n",
    "            result.append(self.f([x, 1]))\n",
    "        result = np.array(result).reshape(n_iter, len(x)).T\n",
    "        \n",
    "        #mean = result.mean(axis=0)\n",
    "        #uncertainty = result.var(axis=0)\n",
    "        #print(\"Mean:\", mean, \"Uncertainty:\", uncertainty)\n",
    "        #mean = np.mean(result)\n",
    "        #std = np.std(result)\n",
    "        \n",
    "        return result\n",
    "        \n",
    "        \n"
   ],
   "metadata": {
    "collapsed": false,
    "pycharm": {
     "name": "#%%\n",
     "is_executing": false
    }
   }
  },
  {
   "cell_type": "code",
   "execution_count": 3,
   "outputs": [],
   "source": [
    "def plot_prediction(x, y_true, y_pred):\n",
    "    \"\"\"Plots the predictions.\n",
    "\n",
    "    Arguments\n",
    "    ---------\n",
    "    x: Input sequence of shape (input_sequence_length,\n",
    "        dimension_of_signal)\n",
    "    y_true: True output sequence of shape (input_sequence_length,\n",
    "        dimension_of_signal)\n",
    "    y_pred: Predicted output sequence (input_sequence_length,\n",
    "        dimension_of_signal)\n",
    "    \"\"\"\n",
    "    label1 = \"Seen (past) values\"\n",
    "    label2 = \"True future values\"\n",
    "    label3 = \"Predictions\"\n",
    "    \n",
    "    plt.figure(figsize=(12, 3))\n",
    "    plt.plot(range(len(x)),x, \"o--b\", label=label1)\n",
    "    plt.plot(range(len(x), len(x) + len(y_true) ), y_true, \"x--b\", label=label2)\n",
    "    plt.plot(range(len(x), len(x) + len(y_pred)),y_pred, \"o--y\", label=label3)\n",
    "    \n",
    "    plt.legend(loc='best')\n",
    "    plt.title(\"Predictions v.s. true values\")\n",
    "    plt.show()\n"
   ],
   "metadata": {
    "collapsed": false,
    "pycharm": {
     "name": "#%%\n",
     "is_executing": false
    }
   }
  },
  {
   "cell_type": "code",
   "execution_count": 4,
   "outputs": [],
   "source": [
    "def plot_prediction_ranges(x, y_true, y_pred, y_lower, y_upper, std, std_label):\n",
    "    \"\"\"Plots the predictions.\n",
    "\n",
    "    Arguments\n",
    "    ---------\n",
    "    x: Input sequence of shape (input_sequence_length,\n",
    "        dimension_of_signal)\n",
    "    y_true: True output sequence of shape (input_sequence_length,\n",
    "        dimension_of_signal)\n",
    "    y_pred: Predicted output sequence (input_sequence_length,\n",
    "        dimension_of_signal)\n",
    "    \"\"\"\n",
    "    label1 = \"Seen (past) values\"\n",
    "    label2 = \"True future values\"\n",
    "    label3 = \"Predictions\"\n",
    "    label4 = \"Lower bound\"\n",
    "    label5 = \"Upper bound\"\n",
    "    \n",
    "    title = \"Predictions v.s. true values (\"+ str(std) \\\n",
    "            + \" std. deviation, \"+ std_label+\"% )\"\n",
    "    \n",
    "    plt.figure(figsize=(12, 3))\n",
    "    plt.plot(range(len(x)),x, \"o--b\", label=label1)\n",
    "    plt.plot(range(len(x), len(x) + len(y_true) ), y_true, \"x--b\", label=label2)\n",
    "    plt.plot(range(len(x), len(x) + len(y_pred)),y_pred, \"o--y\", label=label3)\n",
    "    \n",
    "    plt.plot(range(len(x), len(x) + len(y_pred)),y_lower, \"+--r\", label=label4)\n",
    "    plt.plot(range(len(x), len(x) + len(y_pred)),y_upper, \"*--r\", label=label5)\n",
    "    \n",
    "    plt.legend(loc='best')\n",
    "    plt.title(title)\n",
    "    plt.show()    \n"
   ],
   "metadata": {
    "collapsed": false,
    "pycharm": {
     "name": "#%%\n",
     "is_executing": false
    }
   }
  },
  {
   "cell_type": "code",
   "execution_count": 5,
   "outputs": [],
   "source": [
    "def size_per_targets(data):\n",
    "    #print(\"Total: \", data.shape[0])\n",
    "    sizes = data.groupby(['id', 'file_id']).size()\n",
    "    #print(sizes)\n",
    "    #print(type(sizes))\n",
    "    #print(\"Total:\",sum(list(sizes)))\n",
    "\n",
    "    return list(sizes)\n"
   ],
   "metadata": {
    "collapsed": false,
    "pycharm": {
     "name": "#%%\n",
     "is_executing": false
    }
   }
  },
  {
   "cell_type": "code",
   "execution_count": 6,
   "outputs": [],
   "source": [
    "def generate_input_data(data, sizes, train_len, target_seq):\n",
    "    targets = len(sizes)\n",
    "    start = 0\n",
    "    sequences = []\n",
    "    X = []\n",
    "    y = []\n",
    "    \n",
    "    for i, size in enumerate(sizes):\n",
    "        print(\"Chunk\", i+1)\n",
    "        end = start + size\n",
    "        print(\"Size of block %d, Range: %d-%d\" % (size, start, end))\n",
    "        temp_df = data.iloc[start:end]\n",
    "        \n",
    "        values = temp_df.iloc[:,-target_seq].values\n",
    "        for i in range(train_len, len(values)):\n",
    "            seq = values[i-train_len:i]\n",
    "            \n",
    "            sequences.append(seq)\n",
    "                   \n",
    "        # update start\n",
    "        start = start + size\n",
    "    \n",
    "    sequences = np.array(sequences)    \n",
    "    print(\"[INFO] Sequences generated:\", len(sequences))\n",
    "    \n",
    "    X = sequences[:,:-target_seq]\n",
    "    y = sequences[:,-target_seq]\n",
    "\n",
    "    return X, y\n",
    "\n"
   ],
   "metadata": {
    "collapsed": false,
    "pycharm": {
     "name": "#%%\n",
     "is_executing": false
    }
   }
  },
  {
   "cell_type": "markdown",
   "source": [
    "# MAIN   \n"
   ],
   "metadata": {
    "collapsed": false
   }
  },
  {
   "cell_type": "markdown",
   "source": [
    "## Load the data"
   ],
   "metadata": {
    "collapsed": false
   }
  },
  {
   "cell_type": "code",
   "execution_count": 7,
   "outputs": [
    {
     "name": "stdout",
     "text": [
      "(500050, 18)\n['id', 'file_id', 'Pn', 'Pe', 'h', 'Va', 'Phi', 'Theta', 'Chi', 'Psi', 'Vg', 'Azimuth', 'Elevation', 'XPixel', 'YPixel', 'ZValue', 'XLocation', 'YLocation']\n"
     ],
     "output_type": "stream"
    }
   ],
   "source": [
    "filename = 'data/AllData.csv'\n",
    "data = pd.read_csv(filename)\n",
    "print(data.shape)\n",
    "print(list(data.columns))\n"
   ],
   "metadata": {
    "collapsed": false,
    "pycharm": {
     "name": "#%%\n",
     "is_executing": false
    }
   }
  },
  {
   "cell_type": "markdown",
   "source": [
    "## Generate the input data\n"
   ],
   "metadata": {
    "collapsed": false
   }
  },
  {
   "cell_type": "markdown",
   "source": [
    "#### Defining Parameters\n"
   ],
   "metadata": {
    "collapsed": false
   }
  },
  {
   "cell_type": "code",
   "execution_count": 8,
   "outputs": [],
   "source": [
    "column_of_interest = 'XLocation'\n",
    "input_seq = 10\n",
    "target_seq = 1      # \n",
    "predict_k = 3       # predict k time steps in the future\n",
    "train_len = input_seq + target_seq\n",
    "target = 0     # 0 = AllTargets\n",
    "\n",
    "test_percentage = 0.2\n",
    "rand_test = True\n",
    "\n",
    "dropout = .4\n",
    "batch_size = 64\n",
    "neurons = 64\n",
    "epochs = 5\n",
    "\n",
    "k_test_instances = 50      # number of randomly chosen instances to test\n",
    "p_instances_to_plot = 3\n",
    "n_results = 1000         # Number of predictions for the dropout\n",
    "\n",
    "model_filename = 'models/model_lstm_'+column_of_interest+\"_\"+str(input_seq)+\"_timesteps_dropout.h5\"\n",
    "scaler_filename = 'models/model_lstm_'+column_of_interest+\"_\"+str(input_seq)+\"_timesteps_dropout\"\n"
   ],
   "metadata": {
    "collapsed": false,
    "pycharm": {
     "name": "#%%\n",
     "is_executing": false
    }
   }
  },
  {
   "cell_type": "markdown",
   "source": [
    "## Generate input data\n"
   ],
   "metadata": {
    "collapsed": false
   }
  },
  {
   "cell_type": "code",
   "execution_count": 9,
   "outputs": [
    {
     "name": "stdout",
     "text": [
      "Chunk 1\nSize of block 10001, Range: 0-10001\nChunk 2\nSize of block 10001, Range: 10001-20002\nChunk 3\nSize of block 10001, Range: 20002-30003\nChunk 4\nSize of block 10001, Range: 30003-40004\nChunk 5\nSize of block 10001, Range: 40004-50005\nChunk 6\nSize of block 10001, Range: 50005-60006\nChunk 7\nSize of block 10001, Range: 60006-70007\nChunk 8\nSize of block 10001, Range: 70007-80008\nChunk 9\nSize of block 10001, Range: 80008-90009\nChunk 10\nSize of block 10001, Range: 90009-100010\nChunk 11\nSize of block 10001, Range: 100010-110011\nChunk 12\nSize of block 10001, Range: 110011-120012\nChunk 13\nSize of block 10001, Range: 120012-130013\nChunk 14\nSize of block 10001, Range: 130013-140014\nChunk 15\nSize of block 10001, Range: 140014-150015\nChunk 16\nSize of block 10001, Range: 150015-160016\nChunk 17\nSize of block 10001, Range: 160016-170017\nChunk 18\nSize of block 10001, Range: 170017-180018\nChunk 19\nSize of block 10001, Range: 180018-190019\nChunk 20\nSize of block 10001, Range: 190019-200020\nChunk 21\nSize of block 10001, Range: 200020-210021\nChunk 22\nSize of block 10001, Range: 210021-220022\nChunk 23\nSize of block 10001, Range: 220022-230023\nChunk 24\nSize of block 10001, Range: 230023-240024\nChunk 25\nSize of block 10001, Range: 240024-250025\nChunk 26\nSize of block 10001, Range: 250025-260026\nChunk 27\nSize of block 10001, Range: 260026-270027\nChunk 28\nSize of block 10001, Range: 270027-280028\nChunk 29\nSize of block 10001, Range: 280028-290029\nChunk 30\nSize of block 10001, Range: 290029-300030\nChunk 31\nSize of block 10001, Range: 300030-310031\nChunk 32\nSize of block 10001, Range: 310031-320032\nChunk 33\nSize of block 10001, Range: 320032-330033\nChunk 34\nSize of block 10001, Range: 330033-340034\nChunk 35\nSize of block 10001, Range: 340034-350035\nChunk 36\nSize of block 10001, Range: 350035-360036\nChunk 37\nSize of block 10001, Range: 360036-370037\nChunk 38\nSize of block 10001, Range: 370037-380038\nChunk 39\nSize of block 10001, Range: 380038-390039\nChunk 40\nSize of block 10001, Range: 390039-400040\nChunk 41\nSize of block 10001, Range: 400040-410041\nChunk 42\nSize of block 10001, Range: 410041-420042\nChunk 43\nSize of block 10001, Range: 420042-430043\nChunk 44\nSize of block 10001, Range: 430043-440044\nChunk 45\nSize of block 10001, Range: 440044-450045\nChunk 46\nSize of block 10001, Range: 450045-460046\nChunk 47\nSize of block 10001, Range: 460046-470047\nChunk 48\nSize of block 10001, Range: 470047-480048\nChunk 49\nSize of block 10001, Range: 480048-490049\nChunk 50\nSize of block 10001, Range: 490049-500050\n",
      "[INFO] Sequences generated: 499500\n"
     ],
     "output_type": "stream"
    }
   ],
   "source": [
    "# -1 is All data, else is the target id\n",
    "\n",
    "if target != 0:\n",
    "    input_data = data[data['id'] == target]\n",
    "else:\n",
    "    input_data = data\n",
    "\n",
    "# Take only the column of interest\n",
    "input_data = input_data[['id', 'file_id', column_of_interest]]\n",
    "columns = input_data.columns\n",
    "\n",
    "# We need to generate the sequences based on the id and file_id\n",
    "sizes = size_per_targets(input_data)\n",
    "X, y = generate_input_data(input_data, sizes, train_len, target_seq)\n"
   ],
   "metadata": {
    "collapsed": false,
    "pycharm": {
     "name": "#%%\n",
     "is_executing": false
    }
   }
  },
  {
   "cell_type": "markdown",
   "source": [
    "### Getting train, test data"
   ],
   "metadata": {
    "collapsed": false
   }
  },
  {
   "cell_type": "code",
   "execution_count": 10,
   "outputs": [
    {
     "name": "stdout",
     "text": [
      "Randomly picking train, test dataset\nX Train size= 399600\nX Test size= 99900\ny Train size= 399600\ny Test size= 99900\n"
     ],
     "output_type": "stream"
    }
   ],
   "source": [
    "\n",
    "# If we select the train and test randomly\n",
    "if rand_test:\n",
    "    print(\"Randomly picking train, test dataset\")\n",
    "    X_train, X_test, y_train, y_test = train_test_split(X, y, test_size=test_percentage, \n",
    "                                                        shuffle=False, random_state=42)\n",
    "# Else, select the last % part as testing\n",
    "else:\n",
    "    print(\"Train, test split based on percentage\")\n",
    "    test_size = int(X.shape[0] * test_percentage)\n",
    "    train_size = int(X.shape[0] - test_size)\n",
    "    print(\"Train size:\", train_size)\n",
    "    X_train = X[:train_size, :]\n",
    "    X_test = X[train_size:, :]\n",
    "    \n",
    "    y_train = y[:train_size]\n",
    "    y_test = y[train_size:]    \n",
    "\n",
    "print(\"X Train size=\", X_train.shape[0])\n",
    "print(\"X Test size=\",X_test.shape[0])\n",
    "print(\"y Train size=\", y_train.shape[0])\n",
    "print(\"y Test size=\",y_test.shape[0])\n"
   ],
   "metadata": {
    "collapsed": false,
    "pycharm": {
     "name": "#%%\n",
     "is_executing": false
    }
   }
  },
  {
   "cell_type": "markdown",
   "source": [
    "### Scale the Input Data\n"
   ],
   "metadata": {
    "collapsed": false
   }
  },
  {
   "cell_type": "code",
   "execution_count": 11,
   "outputs": [
    {
     "name": "stdout",
     "text": [
      "(Instances,Sequence,Features)\n(399600, 10, 1) (399600,) (99900, 10, 1) (99900,)\n"
     ],
     "output_type": "stream"
    }
   ],
   "source": [
    "# fit the values between 0 and 1\n",
    "scaler_object = MinMaxScaler()\n",
    "\n",
    "scaler_object.fit(X_train)\n",
    "\n",
    "scaled_X_train =  scaler_object.transform(X_train)\n",
    "scaled_X_test =  scaler_object.transform(X_test)\n",
    "\n",
    "train_X = scaled_X_train.reshape((scaled_X_train.shape[0], 1, scaled_X_train.shape[1]))\n",
    "test_X = scaled_X_test.reshape((scaled_X_test.shape[0], 1, scaled_X_test.shape[1]))\n",
    "\n",
    "\n",
    "#print(train_X.shape, y_train.shape, test_X.shape, y_test.shape)\n",
    "\n",
    "train_X = train_X.reshape((scaled_X_train.shape[0], scaled_X_train.shape[1], 1))\n",
    "\n",
    "test_X = test_X.reshape((scaled_X_test.shape[0], scaled_X_test.shape[1], 1))\n",
    "print(\"(Instances,Sequence,Features)\")\n",
    "print(train_X.shape, y_train.shape, test_X.shape, y_test.shape)\n",
    "\n"
   ],
   "metadata": {
    "collapsed": false,
    "pycharm": {
     "name": "#%% \n",
     "is_executing": false
    }
   }
  },
  {
   "cell_type": "markdown",
   "source": [
    "## Create the LSTM model\n"
   ],
   "metadata": {
    "collapsed": false
   }
  },
  {
   "cell_type": "code",
   "execution_count": 20,
   "outputs": [
    {
     "name": "stdout",
     "text": [
      "WARNING:tensorflow:From /mnt/0a1cd6b4-4d6a-40d6-80be-a86f7c7fec17/MyCodes/Public_laloceh_GitProjects/Python/Pythorch/venv/lib/python3.5/site-packages/tensorflow/python/framework/op_def_library.py:263: colocate_with (from tensorflow.python.framework.ops) is deprecated and will be removed in a future version.\nInstructions for updating:\nColocations handled automatically by placer.\n",
      "WARNING:tensorflow:From /mnt/0a1cd6b4-4d6a-40d6-80be-a86f7c7fec17/MyCodes/Public_laloceh_GitProjects/Python/Pythorch/venv/lib/python3.5/site-packages/keras/backend/tensorflow_backend.py:3445: calling dropout (from tensorflow.python.ops.nn_ops) with keep_prob is deprecated and will be removed in a future version.\nInstructions for updating:\nPlease use `rate` instead of `keep_prob`. Rate should be set to `rate = 1 - keep_prob`.\n",
      "_________________________________________________________________\nLayer (type)                 Output Shape              Param #   \n=================================================================\nlstm_1 (LSTM)                (None, 10, 64)            16896     \n_________________________________________________________________\ndropout_1 (Dropout)          (None, 10, 64)            0         \n_________________________________________________________________\nlstm_2 (LSTM)                (None, 64)                33024     \n_________________________________________________________________\ndropout_2 (Dropout)          (None, 64)                0         \n_________________________________________________________________\ndense_1 (Dense)              (None, 1)                 65        \n=================================================================\nTotal params: 49,985\nTrainable params: 49,985\nNon-trainable params: 0\n_________________________________________________________________\nWARNING:tensorflow:From /mnt/0a1cd6b4-4d6a-40d6-80be-a86f7c7fec17/MyCodes/Public_laloceh_GitProjects/Python/Pythorch/venv/lib/python3.5/site-packages/tensorflow/python/ops/math_ops.py:3066: to_int32 (from tensorflow.python.ops.math_ops) is deprecated and will be removed in a future version.\nInstructions for updating:\nUse tf.cast instead.\n",
      "Train on 399600 samples, validate on 99900 samples\nEpoch 1/5\n"
     ],
     "output_type": "stream"
    },
    {
     "evalue": "",
     "ename": "KeyboardInterrupt",
     "traceback": [
      "\u001b[0;31m---------------------------------------------------------------------------\u001b[0m",
      "\u001b[0;31mKeyboardInterrupt\u001b[0m                         Traceback (most recent call last)",
      "\u001b[0;32m<ipython-input-20-b4511a717743>\u001b[0m in \u001b[0;36m<module>\u001b[0;34m\u001b[0m\n\u001b[1;32m     11\u001b[0m \u001b[0;31m# fit network\u001b[0m\u001b[0;34m\u001b[0m\u001b[0;34m\u001b[0m\u001b[0m\n\u001b[1;32m     12\u001b[0m history = model.fit(train_X, y_train, epochs=epochs, batch_size=batch_size, \n\u001b[0;32m---> 13\u001b[0;31m                     validation_data=(test_X, y_test), verbose=2, shuffle=False)\n\u001b[0m\u001b[1;32m     14\u001b[0m \u001b[0;34m\u001b[0m\u001b[0m\n",
      "\u001b[0;32m/mnt/0a1cd6b4-4d6a-40d6-80be-a86f7c7fec17/MyCodes/Public_laloceh_GitProjects/Python/Pythorch/venv/lib/python3.5/site-packages/keras/engine/training.py\u001b[0m in \u001b[0;36mfit\u001b[0;34m(self, x, y, batch_size, epochs, verbose, callbacks, validation_split, validation_data, shuffle, class_weight, sample_weight, initial_epoch, steps_per_epoch, validation_steps, **kwargs)\u001b[0m\n\u001b[1;32m   1037\u001b[0m                                         \u001b[0minitial_epoch\u001b[0m\u001b[0;34m=\u001b[0m\u001b[0minitial_epoch\u001b[0m\u001b[0;34m,\u001b[0m\u001b[0;34m\u001b[0m\u001b[0m\n\u001b[1;32m   1038\u001b[0m                                         \u001b[0msteps_per_epoch\u001b[0m\u001b[0;34m=\u001b[0m\u001b[0msteps_per_epoch\u001b[0m\u001b[0;34m,\u001b[0m\u001b[0;34m\u001b[0m\u001b[0m\n\u001b[0;32m-> 1039\u001b[0;31m                                         validation_steps=validation_steps)\n\u001b[0m\u001b[1;32m   1040\u001b[0m \u001b[0;34m\u001b[0m\u001b[0m\n\u001b[1;32m   1041\u001b[0m     def evaluate(self, x=None, y=None,\n",
      "\u001b[0;32m/mnt/0a1cd6b4-4d6a-40d6-80be-a86f7c7fec17/MyCodes/Public_laloceh_GitProjects/Python/Pythorch/venv/lib/python3.5/site-packages/keras/engine/training_arrays.py\u001b[0m in \u001b[0;36mfit_loop\u001b[0;34m(model, f, ins, out_labels, batch_size, epochs, verbose, callbacks, val_f, val_ins, shuffle, callback_metrics, initial_epoch, steps_per_epoch, validation_steps)\u001b[0m\n\u001b[1;32m    197\u001b[0m                     \u001b[0mins_batch\u001b[0m\u001b[0;34m[\u001b[0m\u001b[0mi\u001b[0m\u001b[0;34m]\u001b[0m \u001b[0;34m=\u001b[0m \u001b[0mins_batch\u001b[0m\u001b[0;34m[\u001b[0m\u001b[0mi\u001b[0m\u001b[0;34m]\u001b[0m\u001b[0;34m.\u001b[0m\u001b[0mtoarray\u001b[0m\u001b[0;34m(\u001b[0m\u001b[0;34m)\u001b[0m\u001b[0;34m\u001b[0m\u001b[0m\n\u001b[1;32m    198\u001b[0m \u001b[0;34m\u001b[0m\u001b[0m\n\u001b[0;32m--> 199\u001b[0;31m                 \u001b[0mouts\u001b[0m \u001b[0;34m=\u001b[0m \u001b[0mf\u001b[0m\u001b[0;34m(\u001b[0m\u001b[0mins_batch\u001b[0m\u001b[0;34m)\u001b[0m\u001b[0;34m\u001b[0m\u001b[0m\n\u001b[0m\u001b[1;32m    200\u001b[0m                 \u001b[0mouts\u001b[0m \u001b[0;34m=\u001b[0m \u001b[0mto_list\u001b[0m\u001b[0;34m(\u001b[0m\u001b[0mouts\u001b[0m\u001b[0;34m)\u001b[0m\u001b[0;34m\u001b[0m\u001b[0m\n\u001b[1;32m    201\u001b[0m                 \u001b[0;32mfor\u001b[0m \u001b[0ml\u001b[0m\u001b[0;34m,\u001b[0m \u001b[0mo\u001b[0m \u001b[0;32min\u001b[0m \u001b[0mzip\u001b[0m\u001b[0;34m(\u001b[0m\u001b[0mout_labels\u001b[0m\u001b[0;34m,\u001b[0m \u001b[0mouts\u001b[0m\u001b[0;34m)\u001b[0m\u001b[0;34m:\u001b[0m\u001b[0;34m\u001b[0m\u001b[0m\n",
      "\u001b[0;32m/mnt/0a1cd6b4-4d6a-40d6-80be-a86f7c7fec17/MyCodes/Public_laloceh_GitProjects/Python/Pythorch/venv/lib/python3.5/site-packages/keras/backend/tensorflow_backend.py\u001b[0m in \u001b[0;36m__call__\u001b[0;34m(self, inputs)\u001b[0m\n\u001b[1;32m   2713\u001b[0m                 \u001b[0;32mreturn\u001b[0m \u001b[0mself\u001b[0m\u001b[0;34m.\u001b[0m\u001b[0m_legacy_call\u001b[0m\u001b[0;34m(\u001b[0m\u001b[0minputs\u001b[0m\u001b[0;34m)\u001b[0m\u001b[0;34m\u001b[0m\u001b[0m\n\u001b[1;32m   2714\u001b[0m \u001b[0;34m\u001b[0m\u001b[0m\n\u001b[0;32m-> 2715\u001b[0;31m             \u001b[0;32mreturn\u001b[0m \u001b[0mself\u001b[0m\u001b[0;34m.\u001b[0m\u001b[0m_call\u001b[0m\u001b[0;34m(\u001b[0m\u001b[0minputs\u001b[0m\u001b[0;34m)\u001b[0m\u001b[0;34m\u001b[0m\u001b[0m\n\u001b[0m\u001b[1;32m   2716\u001b[0m         \u001b[0;32melse\u001b[0m\u001b[0;34m:\u001b[0m\u001b[0;34m\u001b[0m\u001b[0m\n\u001b[1;32m   2717\u001b[0m             \u001b[0;32mif\u001b[0m \u001b[0mpy_any\u001b[0m\u001b[0;34m(\u001b[0m\u001b[0mis_tensor\u001b[0m\u001b[0;34m(\u001b[0m\u001b[0mx\u001b[0m\u001b[0;34m)\u001b[0m \u001b[0;32mfor\u001b[0m \u001b[0mx\u001b[0m \u001b[0;32min\u001b[0m \u001b[0minputs\u001b[0m\u001b[0;34m)\u001b[0m\u001b[0;34m:\u001b[0m\u001b[0;34m\u001b[0m\u001b[0m\n",
      "\u001b[0;32m/mnt/0a1cd6b4-4d6a-40d6-80be-a86f7c7fec17/MyCodes/Public_laloceh_GitProjects/Python/Pythorch/venv/lib/python3.5/site-packages/keras/backend/tensorflow_backend.py\u001b[0m in \u001b[0;36m_call\u001b[0;34m(self, inputs)\u001b[0m\n\u001b[1;32m   2673\u001b[0m             \u001b[0mfetched\u001b[0m \u001b[0;34m=\u001b[0m \u001b[0mself\u001b[0m\u001b[0;34m.\u001b[0m\u001b[0m_callable_fn\u001b[0m\u001b[0;34m(\u001b[0m\u001b[0;34m*\u001b[0m\u001b[0marray_vals\u001b[0m\u001b[0;34m,\u001b[0m \u001b[0mrun_metadata\u001b[0m\u001b[0;34m=\u001b[0m\u001b[0mself\u001b[0m\u001b[0;34m.\u001b[0m\u001b[0mrun_metadata\u001b[0m\u001b[0;34m)\u001b[0m\u001b[0;34m\u001b[0m\u001b[0m\n\u001b[1;32m   2674\u001b[0m         \u001b[0;32melse\u001b[0m\u001b[0;34m:\u001b[0m\u001b[0;34m\u001b[0m\u001b[0m\n\u001b[0;32m-> 2675\u001b[0;31m             \u001b[0mfetched\u001b[0m \u001b[0;34m=\u001b[0m \u001b[0mself\u001b[0m\u001b[0;34m.\u001b[0m\u001b[0m_callable_fn\u001b[0m\u001b[0;34m(\u001b[0m\u001b[0;34m*\u001b[0m\u001b[0marray_vals\u001b[0m\u001b[0;34m)\u001b[0m\u001b[0;34m\u001b[0m\u001b[0m\n\u001b[0m\u001b[1;32m   2676\u001b[0m         \u001b[0;32mreturn\u001b[0m \u001b[0mfetched\u001b[0m\u001b[0;34m[\u001b[0m\u001b[0;34m:\u001b[0m\u001b[0mlen\u001b[0m\u001b[0;34m(\u001b[0m\u001b[0mself\u001b[0m\u001b[0;34m.\u001b[0m\u001b[0moutputs\u001b[0m\u001b[0;34m)\u001b[0m\u001b[0;34m]\u001b[0m\u001b[0;34m\u001b[0m\u001b[0m\n\u001b[1;32m   2677\u001b[0m \u001b[0;34m\u001b[0m\u001b[0m\n",
      "\u001b[0;32m/mnt/0a1cd6b4-4d6a-40d6-80be-a86f7c7fec17/MyCodes/Public_laloceh_GitProjects/Python/Pythorch/venv/lib/python3.5/site-packages/tensorflow/python/client/session.py\u001b[0m in \u001b[0;36m__call__\u001b[0;34m(self, *args, **kwargs)\u001b[0m\n\u001b[1;32m   1437\u001b[0m           ret = tf_session.TF_SessionRunCallable(\n\u001b[1;32m   1438\u001b[0m               \u001b[0mself\u001b[0m\u001b[0;34m.\u001b[0m\u001b[0m_session\u001b[0m\u001b[0;34m.\u001b[0m\u001b[0m_session\u001b[0m\u001b[0;34m,\u001b[0m \u001b[0mself\u001b[0m\u001b[0;34m.\u001b[0m\u001b[0m_handle\u001b[0m\u001b[0;34m,\u001b[0m \u001b[0margs\u001b[0m\u001b[0;34m,\u001b[0m \u001b[0mstatus\u001b[0m\u001b[0;34m,\u001b[0m\u001b[0;34m\u001b[0m\u001b[0m\n\u001b[0;32m-> 1439\u001b[0;31m               run_metadata_ptr)\n\u001b[0m\u001b[1;32m   1440\u001b[0m         \u001b[0;32mif\u001b[0m \u001b[0mrun_metadata\u001b[0m\u001b[0;34m:\u001b[0m\u001b[0;34m\u001b[0m\u001b[0m\n\u001b[1;32m   1441\u001b[0m           \u001b[0mproto_data\u001b[0m \u001b[0;34m=\u001b[0m \u001b[0mtf_session\u001b[0m\u001b[0;34m.\u001b[0m\u001b[0mTF_GetBuffer\u001b[0m\u001b[0;34m(\u001b[0m\u001b[0mrun_metadata_ptr\u001b[0m\u001b[0;34m)\u001b[0m\u001b[0;34m\u001b[0m\u001b[0m\n",
      "\u001b[0;31mKeyboardInterrupt\u001b[0m: "
     ],
     "output_type": "error"
    }
   ],
   "source": [
    "### If it is already saved then do not run it again, it takes time\n",
    "# design network\n",
    "model = Sequential()\n",
    "model.add(LSTM(neurons, input_shape=(train_X.shape[1], train_X.shape[2]), return_sequences=True))\n",
    "model.add(Dropout(dropout))\n",
    "model.add(LSTM(neurons))\n",
    "model.add(Dropout(dropout))\n",
    "model.add(Dense(1))\n",
    "model.compile(loss='mae', optimizer='adam')\n",
    "model.summary()\n",
    "# fit network\n",
    "history = model.fit(train_X, y_train, epochs=epochs, batch_size=batch_size, \n",
    "                    validation_data=(test_X, y_test), verbose=2, shuffle=False)\n"
   ],
   "metadata": {
    "collapsed": false,
    "pycharm": {
     "name": "#%%\n",
     "is_executing": false
    }
   }
  },
  {
   "cell_type": "markdown",
   "source": [
    "### Plot the loss"
   ],
   "metadata": {
    "collapsed": false
   }
  },
  {
   "cell_type": "code",
   "execution_count": 38,
   "outputs": [
    {
     "evalue": "name 'history' is not defined",
     "traceback": [
      "\u001b[0;31m---------------------------------------------------------------------------\u001b[0m",
      "\u001b[0;31mNameError\u001b[0m                                 Traceback (most recent call last)",
      "\u001b[0;32m<ipython-input-38-e8e990fba42b>\u001b[0m in \u001b[0;36m<module>\u001b[0;34m\u001b[0m\n\u001b[1;32m      1\u001b[0m \u001b[0;31m# plot history\u001b[0m\u001b[0;34m\u001b[0m\u001b[0;34m\u001b[0m\u001b[0m\n\u001b[0;32m----> 2\u001b[0;31m \u001b[0mplt\u001b[0m\u001b[0;34m.\u001b[0m\u001b[0mplot\u001b[0m\u001b[0;34m(\u001b[0m\u001b[0mhistory\u001b[0m\u001b[0;34m.\u001b[0m\u001b[0mhistory\u001b[0m\u001b[0;34m[\u001b[0m\u001b[0;34m'loss'\u001b[0m\u001b[0;34m]\u001b[0m\u001b[0;34m,\u001b[0m \u001b[0mlabel\u001b[0m\u001b[0;34m=\u001b[0m\u001b[0;34m'train'\u001b[0m\u001b[0;34m)\u001b[0m\u001b[0;34m\u001b[0m\u001b[0m\n\u001b[0m\u001b[1;32m      3\u001b[0m \u001b[0mplt\u001b[0m\u001b[0;34m.\u001b[0m\u001b[0mplot\u001b[0m\u001b[0;34m(\u001b[0m\u001b[0mhistory\u001b[0m\u001b[0;34m.\u001b[0m\u001b[0mhistory\u001b[0m\u001b[0;34m[\u001b[0m\u001b[0;34m'val_loss'\u001b[0m\u001b[0;34m]\u001b[0m\u001b[0;34m,\u001b[0m \u001b[0mlabel\u001b[0m\u001b[0;34m=\u001b[0m\u001b[0;34m'test'\u001b[0m\u001b[0;34m)\u001b[0m\u001b[0;34m\u001b[0m\u001b[0m\n\u001b[1;32m      4\u001b[0m \u001b[0mplt\u001b[0m\u001b[0;34m.\u001b[0m\u001b[0mlegend\u001b[0m\u001b[0;34m(\u001b[0m\u001b[0;34m)\u001b[0m\u001b[0;34m\u001b[0m\u001b[0m\n\u001b[1;32m      5\u001b[0m \u001b[0mplt\u001b[0m\u001b[0;34m.\u001b[0m\u001b[0mshow\u001b[0m\u001b[0;34m(\u001b[0m\u001b[0;34m)\u001b[0m\u001b[0;34m\u001b[0m\u001b[0m\n",
      "\u001b[0;31mNameError\u001b[0m: name 'history' is not defined"
     ],
     "ename": "NameError",
     "output_type": "error"
    }
   ],
   "source": [
    "# plot history\n",
    "plt.plot(history.history['loss'], label='train')\n",
    "plt.plot(history.history['val_loss'], label='test')\n",
    "plt.legend()\n",
    "plt.show()\n",
    "\n",
    "print(history.history.keys())\n"
   ],
   "metadata": {
    "collapsed": false,
    "pycharm": {
     "name": "#%%\n",
     "is_executing": false
    }
   }
  },
  {
   "cell_type": "markdown",
   "source": [
    "### Save the model and scaler\n"
   ],
   "metadata": {
    "collapsed": false
   }
  },
  {
   "cell_type": "code",
   "execution_count": null,
   "outputs": [],
   "source": [
    "print(model_filename)\n",
    "model.save(model_filename)\n",
    "print(scaler_filename)\n",
    "dump(scaler_object, open(scaler_filename, 'wb'))\n"
   ],
   "metadata": {
    "collapsed": false,
    "pycharm": {
     "name": "#%%\n"
    }
   }
  },
  {
   "cell_type": "markdown",
   "source": [
    "### Load the model\n"
   ],
   "metadata": {
    "collapsed": false
   }
  },
  {
   "cell_type": "code",
   "execution_count": 13,
   "outputs": [
    {
     "name": "stdout",
     "text": [
      "Loading the model: models/model_lstm_XLocation_10_timesteps_dropout.h5\n",
      "Loading the scaler: models/model_lstm_XLocation_10_timesteps_dropout\n"
     ],
     "output_type": "stream"
    }
   ],
   "source": [
    "print(\"Loading the model:\", model_filename)\n",
    "model = load_model(model_filename)\n",
    "print(\"Loading the scaler:\", scaler_filename)\n",
    "scaler_object = load(open(scaler_filename, 'rb'))\n"
   ],
   "metadata": {
    "collapsed": false,
    "pycharm": {
     "name": "#%%\n",
     "is_executing": false
    }
   }
  },
  {
   "cell_type": "markdown",
   "source": [
    "## Make predictions with dropout\n",
    "As it will take a lot of time do the prediction for all the test set\n",
    "I pick a random number of test instances"
   ],
   "metadata": {
    "collapsed": false,
    "pycharm": {
     "name": "#%% md\n"
    }
   }
  },
  {
   "cell_type": "markdown",
   "source": [
    "### Pick some random indices"
   ],
   "metadata": {
    "collapsed": false,
    "pycharm": {
     "name": "#%% md\n"
    }
   }
  },
  {
   "cell_type": "code",
   "execution_count": 16,
   "outputs": [
    {
     "name": "stdout",
     "text": [
      "[85783 41264  5984 88263 36455 97556 14733 47411 87655 70406 57250 94049\n 94469 25881 95669 13371 91640 48210 47205 83017 85225 52840 23497 88865\n 92602 57798 84953 87162 27078 16462 79343  5084  1697 34662   842 27590\n 95539 30270 34586 42851 99874 78105 93090 95968 46596 35984 86912  6929\n 68375 97846]\n"
     ],
     "output_type": "stream"
    }
   ],
   "source": [
    "indices = np.random.choice(range(test_X.shape[0]), replace=False, size=k_test_instances)\n",
    "print(indices)\n",
    "\n",
    " "
   ],
   "metadata": {
    "collapsed": false,
    "pycharm": {
     "name": "#%%\n",
     "is_executing": false
    }
   }
  },
  {
   "cell_type": "code",
   "execution_count": 17,
   "outputs": [
    {
     "name": "stdout",
     "text": [
      "1 \t 85783 \tMean: 246.84956 Std: 13.770571 y 250.05\n",
      "2 \t 41264 \tMean: 213.03514 Std: 10.90018 y 215.7\n",
      "3 \t 5984 \tMean: 145.36028 Std: 3.9594882 y 149.9\n",
      "4 \t 88263 \tMean: 231.08478 Std: 12.274898 y 232.65\n",
      "5 \t 36455 \tMean: 267.4222 Std: 16.372719 y 274.55\n",
      "6 \t 97556 \tMean: 55.04716 Std: 8.719207 y 67.35\n",
      "7 \t 14733 \tMean: 184.81688 Std: 8.093656 y 187.35\n",
      "8 \t 47411 \tMean: 145.47444 Std: 3.91952 y 149.9\n",
      "9 \t 87655 \tMean: 247.14584 Std: 14.36716 y 250.05\n",
      "10 \t 70406 \tMean: 170.41656 Std: 6.383856 y 174.3\n",
      "11 \t 57250 \tMean: 429.74915 Std: 31.821032 y 450.05\n",
      "12 \t 94049 \tMean: 145.49872 Std: 3.9633987 y 149.9\n",
      "13 \t 94469 \tMean: 145.30434 Std: 4.0420494 y 149.9\n",
      "14 \t 25881 \tMean: 327.86945 Std: 23.44652 y 345.5\n",
      "15 \t 95669 \tMean: 145.35196 Std: 3.9202425 y 149.9\n",
      "16 \t 13371 \tMean: 177.85158 Std: 7.138628 y 180.55\n",
      "17 \t 91640 \tMean: 233.12552 Std: 12.964193 y 237.0\n",
      "18 \t 48210 \tMean: 132.72269 Std: 2.7884684 y 137.2\n",
      "19 \t 47205 \tMean: 145.35382 Std: 3.8918135 y 149.9\n",
      "20 \t 83017 \tMean: 245.68297 Std: 14.774485 y 250.05\n",
      "21 \t 85225 \tMean: 246.91306 Std: 14.416432 y 250.05\n",
      "22 \t 52840 \tMean: 283.45566 Std: 17.78012 y 295.0\n",
      "23 \t 23497 \tMean: 246.71567 Std: 14.541061 y 250.05\n",
      "24 \t 88865 \tMean: 201.58498 Std: 9.6679535 y 202.55\n",
      "25 \t 92602 \tMean: 213.99332 Std: 11.070194 y 215.0\n",
      "26 \t 57798 \tMean: 429.7461 Std: 32.373905 y 450.05\n",
      "27 \t 84953 \tMean: 246.28796 Std: 14.412008 y 250.05\n",
      "28 \t 87162 \tMean: 246.3634 Std: 13.255805 y 250.05\n",
      "29 \t 27078 \tMean: 284.70114 Std: 17.466055 y 294.85\n",
      "30 \t 16462 \tMean: 224.53671 Std: 12.003646 y 226.3\n",
      "31 \t 79343 \tMean: 333.3856 Std: 22.942425 y 350.1\n",
      "32 \t 5084 \tMean: 145.26404 Std: 3.9222708 y 149.9\n",
      "33 \t 1697 \tMean: 232.7116 Std: 12.354097 y 235.35\n",
      "34 \t 34662 \tMean: 301.04425 Std: 19.734688 y 315.0\n",
      "35 \t 842 \tMean: 190.67834 Std: 8.939441 y 192.6\n",
      "36 \t 27590 \tMean: 263.84848 Std: 15.398881 y 269.25\n",
      "37 \t 95539 \tMean: 145.37741 Std: 3.9217715 y 149.9\n",
      "38 \t 30270 \tMean: 161.77565 Std: 5.68464 y 165.5\n",
      "39 \t 34586 \tMean: 304.68405 Std: 19.86081 y 318.8\n",
      "40 \t 42851 \tMean: 204.19966 Std: 9.916271 y 205.05\n",
      "41 \t 99874 \tMean: 28.442604 Std: 12.535175 y 49.85\n",
      "42 \t 78105 \tMean: 333.24786 Std: 23.512121 y 350.1\n",
      "43 \t 93090 \tMean: 189.78069 Std: 8.479116 y 190.6\n",
      "44 \t 95968 \tMean: 142.42656 Std: 3.6179042 y 146.75\n",
      "45 \t 46596 \tMean: 145.47615 Std: 4.1248517 y 149.9\n",
      "46 \t 35984 \tMean: 246.93886 Std: 14.657918 y 251.0\n",
      "47 \t 86912 \tMean: 246.08937 Std: 14.058954 y 250.05\n",
      "48 \t 6929 \tMean: 99.64422 Std: 2.2218819 y 103.2\n",
      "49 \t 68375 \tMean: 145.3029 Std: 3.8739147 y 149.9\n",
      "50 \t 97846 \tMean: 33.21233 Std: 11.934724 y 52.85\n[250.05, 215.7, 149.9, 232.65, 274.55, 67.35, 187.35, 149.9, 250.05, 174.3, 450.05, 149.9, 149.9, 345.5, 149.9, 180.55, 237.0, 137.2, 149.9, 250.05, 250.05, 295.0, 250.05, 202.55, 215.0, 450.05, 250.05, 250.05, 294.85, 226.3, 350.1, 149.9, 235.35, 315.0, 192.6, 269.25, 149.9, 165.5, 318.8, 205.05, 49.85, 350.1, 190.6, 146.75, 149.9, 251.0, 250.05, 103.2, 149.9, 52.85]\n50\n[246.84956, 213.03514, 145.36028, 231.08478, 267.4222, 55.04716, 184.81688, 145.47444, 247.14584, 170.41656, 429.74915, 145.49872, 145.30434, 327.86945, 145.35196, 177.85158, 233.12552, 132.72269, 145.35382, 245.68297, 246.91306, 283.45566, 246.71567, 201.58498, 213.99332, 429.7461, 246.28796, 246.3634, 284.70114, 224.53671, 333.3856, 145.26404, 232.7116, 301.04425, 190.67834, 263.84848, 145.37741, 161.77565, 304.68405, 204.19966, 28.442604, 333.24786, 189.78069, 142.42656, 145.47615, 246.93886, 246.08937, 99.64422, 145.3029, 33.21233]\n50\n[13.770571, 10.90018, 3.9594882, 12.274898, 16.372719, 8.719207, 8.093656, 3.91952, 14.36716, 6.383856, 31.821032, 3.9633987, 4.0420494, 23.44652, 3.9202425, 7.138628, 12.964193, 2.7884684, 3.8918135, 14.774485, 14.416432, 17.78012, 14.541061, 9.6679535, 11.070194, 32.373905, 14.412008, 13.255805, 17.466055, 12.003646, 22.942425, 3.9222708, 12.354097, 19.734688, 8.939441, 15.398881, 3.9217715, 5.68464, 19.86081, 9.916271, 12.535175, 23.512121, 8.479116, 3.6179042, 4.1248517, 14.657918, 14.058954, 2.2218819, 3.8739147, 11.934724]\n50\n"
     ],
     "output_type": "stream"
    }
   ],
   "source": [
    "\n",
    "kdp = KerasDropoutPrediction(model)\n",
    "\n",
    "y_true = []\n",
    "y_hat = []\n",
    "y_hat_std = []\n",
    "for i, index in enumerate(indices):\n",
    "    x_test = test_X[index]\n",
    "    y_true.append(y_test[index])\n",
    "    result = kdp.predict([x_test], n_results)\n",
    "    #print(result.flatten())\n",
    "    #print(result.shape)\n",
    "    yhat_mean = np.mean(result)\n",
    "    yhat_std = np.std(result)\n",
    "    print(i+1, '\\t', index, '\\tMean:', yhat_mean, 'Std:', yhat_std, 'y',y_test[index])\n",
    "    y_hat.append(yhat_mean)\n",
    "    y_hat_std.append(yhat_std)\n",
    "\n",
    "print(y_true)\n",
    "print(len(y_true))\n",
    "print(y_hat)\n",
    "print(len(y_hat))\n",
    "print(y_hat_std)\n",
    "print(len(y_hat_std))\n"
   ],
   "metadata": {
    "collapsed": false,
    "pycharm": {
     "name": "#%%\n",
     "is_executing": false
    }
   }
  },
  {
   "cell_type": "markdown",
   "source": [
    "### Calculating Prediction Ranges (lower and upper bounds)\n"
   ],
   "metadata": {
    "collapsed": false,
    "pycharm": {
     "name": "#%% md\n"
    }
   }
  },
  {
   "cell_type": "code",
   "execution_count": 18,
   "outputs": [],
   "source": [
    "def get_ranges(y_hat, y_hat_std, num_stds=1):\n",
    "    y_hat_lowers = []\n",
    "    y_hat_uppers = []\n",
    "\n",
    "    for i in range(len(y_hat)):\n",
    "        point = y_hat[i]\n",
    "        std = y_hat_std[i]\n",
    "        lower = point - (num_stds * std)\n",
    "        upper = point + (num_stds * std)\n",
    "        \n",
    "        y_hat_lowers.append(lower)\n",
    "        y_hat_uppers.append(upper)\n",
    "        \n",
    "    \n",
    "    return y_hat_uppers, y_hat_lowers\n"
   ],
   "metadata": {
    "collapsed": false,
    "pycharm": {
     "name": "#%%\n",
     "is_executing": false
    }
   }
  },
  {
   "cell_type": "markdown",
   "source": [
    "With std deviation"
   ],
   "metadata": {
    "collapsed": false,
    "pycharm": {
     "name": "#%% md\n",
     "is_executing": false
    }
   }
  },
  {
   "cell_type": "code",
   "execution_count": 35,
   "outputs": [],
   "source": [
    "std_dev = 3\n",
    "std_dev_labels = {1:'0.68', 2:'0.95', 3:'0.997'}\n"
   ],
   "metadata": {
    "collapsed": false,
    "pycharm": {
     "name": "#%%\n",
     "is_executing": false
    }
   }
  },
  {
   "cell_type": "code",
   "execution_count": 36,
   "outputs": [
    {
     "name": "stdout",
     "text": [
      "Results with 3 standad deviation\nUpper:\t [288.16127586364746, 245.73568058013916, 157.2387397289276, 267.9094705581665, 316.54036712646484, 81.2047815322876, 209.09784603118896, 157.23300123214722, 290.24732303619385, 189.5681324005127, 525.2122402191162, 157.38891434669495, 157.43048477172852, 398.20900535583496, 157.1126868724823, 199.2674617767334, 272.01809883117676, 141.08809185028076, 157.0292613506317, 290.0064220428467, 290.1623525619507, 336.7960205078125, 290.33885192871094, 230.58883666992188, 247.20389938354492, 526.8678092956543, 289.5239887237549, 286.1308183670044, 337.0993061065674, 260.54765033721924, 402.21286392211914, 157.03085041046143, 269.7738857269287, 360.2483139038086, 217.49666690826416, 310.04512310028076, 157.14272546768188, 178.82956981658936, 364.2664794921875, 233.9484748840332, 66.04813003540039, 403.7842273712158, 215.2180347442627, 153.28027200698853, 157.8507056236267, 290.91261196136475, 288.26623344421387, 106.30986404418945, 156.92464637756348, 69.01650142669678]\nMean:\t [246.84956, 213.03514, 145.36028, 231.08478, 267.4222, 55.04716, 184.81688, 145.47444, 247.14584, 170.41656, 429.74915, 145.49872, 145.30434, 327.86945, 145.35196, 177.85158, 233.12552, 132.72269, 145.35382, 245.68297, 246.91306, 283.45566, 246.71567, 201.58498, 213.99332, 429.7461, 246.28796, 246.3634, 284.70114, 224.53671, 333.3856, 145.26404, 232.7116, 301.04425, 190.67834, 263.84848, 145.37741, 161.77565, 304.68405, 204.19966, 28.442604, 333.24786, 189.78069, 142.42656, 145.47615, 246.93886, 246.08937, 99.64422, 145.3029, 33.21233]\nTruth:\t [250.05, 215.7, 149.9, 232.65, 274.55, 67.35, 187.35, 149.9, 250.05, 174.3, 450.05, 149.9, 149.9, 345.5, 149.9, 180.55, 237.0, 137.2, 149.9, 250.05, 250.05, 295.0, 250.05, 202.55, 215.0, 450.05, 250.05, 250.05, 294.85, 226.3, 350.1, 149.9, 235.35, 315.0, 192.6, 269.25, 149.9, 165.5, 318.8, 205.05, 49.85, 350.1, 190.6, 146.75, 149.9, 251.0, 250.05, 103.2, 149.9, 52.85]\nLower:\t [205.53785133361816, 180.33460140228271, 133.48181080818176, 194.260085105896, 218.3040542602539, 28.889540672302246, 160.5359125137329, 133.7158818244934, 204.0443639755249, 151.2649974822998, 334.2860507965088, 133.60852217674255, 133.1781883239746, 257.52988624572754, 133.59123158454895, 156.43569374084473, 194.2329387664795, 124.35728168487549, 133.6783802509308, 201.3595142364502, 203.66375827789307, 230.11529541015625, 203.0924835205078, 172.58111572265625, 180.78273391723633, 332.6243782043457, 203.05193901062012, 206.5959882736206, 232.30297660827637, 188.5257749557495, 264.5583152770996, 133.49722576141357, 195.64930152893066, 241.8401870727539, 163.86002254486084, 217.651837348938, 133.61209630966187, 144.72173023223877, 245.10162353515625, 174.45084762573242, -9.162921905517578, 262.7115001678467, 164.34333610534668, 131.57284688949585, 133.10159540176392, 202.96510410308838, 203.91250801086426, 92.97857284545898, 133.6811580657959, -2.591841697692871]\n"
     ],
     "output_type": "stream"
    }
   ],
   "source": [
    "print(\"Results with %d standad deviation\" % std_dev)\n",
    "y_hat_uppers, y_hat_lowers = get_ranges(y_hat, y_hat_std, std_dev)\n",
    "print(\"Upper:\\t\", y_hat_uppers)\n",
    "print(\"Mean:\\t\",y_hat)\n",
    "print(\"Truth:\\t\", y_true)\n",
    "print(\"Lower:\\t\",y_hat_lowers)\n",
    "\n"
   ],
   "metadata": {
    "collapsed": false,
    "pycharm": {
     "name": "#%%\n",
     "is_executing": false
    }
   }
  },
  {
   "cell_type": "markdown",
   "source": [
    "## Evaluate the model\n",
    "from random samples\n"
   ],
   "metadata": {
    "collapsed": false
   }
  },
  {
   "cell_type": "code",
   "execution_count": 21,
   "outputs": [
    {
     "name": "stdout",
     "text": [
      "Test RMSE: 8.790\nTest MAE: 2.563\n"
     ],
     "output_type": "stream"
    }
   ],
   "source": [
    "# make a prediction\n",
    "#print(\"test_X shape\", test_X.shape)\n",
    "#yhat = model.predict(test_X)\n",
    "# calculate RMSE\n",
    "rmse = np.sqrt(mean_squared_error(y_true, y_hat))\n",
    "print('Test RMSE: %.3f' % rmse)\n",
    "mae = np.sqrt(mean_absolute_error(y_true, y_hat))\n",
    "print('Test MAE: %.3f' % mae)\n"
   ],
   "metadata": {
    "collapsed": false,
    "pycharm": {
     "name": "#%%\n",
     "is_executing": false
    }
   }
  },
  {
   "cell_type": "markdown",
   "source": [
    "## Comparing results"
   ],
   "metadata": {
    "collapsed": false
   }
  },
  {
   "cell_type": "code",
   "execution_count": 75,
   "outputs": [],
   "source": [
    "# Picked k random test instances\n",
    "#t_X = test_X.reshape(test_X.shape[0], test_X.shape[1])\n",
    "##t_X = test_X.reshape(test_X.shape[0], 1, test_X.shape[1])\n"
   ],
   "metadata": {
    "collapsed": false,
    "pycharm": {
     "name": "#%%\n",
     "is_executing": false
    }
   }
  },
  {
   "cell_type": "code",
   "execution_count": 22,
   "outputs": [
    {
     "name": "stdout",
     "text": [
      "[85783 41264  5984 88263 36455 97556 14733 47411 87655 70406 57250 94049\n 94469 25881 95669 13371 91640 48210 47205 83017 85225 52840 23497 88865\n 92602 57798 84953 87162 27078 16462 79343  5084  1697 34662   842 27590\n 95539 30270 34586 42851 99874 78105 93090 95968 46596 35984 86912  6929\n 68375 97846]\n[88865 70406 47205]\n[23, 9, 18]\n"
     ],
     "output_type": "stream"
    }
   ],
   "source": [
    "print(indices)\n",
    "\n",
    "plot_indices = np.random.choice(list(indices), replace=False, size=p_instances_to_plot)\n",
    "print(plot_indices)\n",
    "\n",
    "plot_indices_idx = []\n",
    "for p in plot_indices:\n",
    "    idx = list(indices).index(p)\n",
    "    plot_indices_idx.append(idx)\n",
    "    \n",
    "print(plot_indices_idx)\n"
   ],
   "metadata": {
    "collapsed": false,
    "pycharm": {
     "name": "#%%\n",
     "is_executing": false
    }
   }
  },
  {
   "cell_type": "markdown",
   "source": [
    "### Plot some tests"
   ],
   "metadata": {
    "collapsed": false,
    "pycharm": {
     "name": "#%% md\n"
    }
   }
  },
  {
   "cell_type": "code",
   "execution_count": 23,
   "outputs": [
    {
     "name": "stdout",
     "text": [
      "88865\n",
      "70406\n",
      "47205\n"
     ],
     "output_type": "stream"
    },
    {
     "data": {
      "text/plain": "<Figure size 864x216 with 1 Axes>",
      "image/png": "[encoded data removed]"
     },
     "metadata": {
      "needs_background": "light"
     },
     "output_type": "display_data"
    },
    {
     "data": {
      "text/plain": "<Figure size 864x216 with 1 Axes>",
      "image/png": "[encoded data removed]"
     },
     "metadata": {
      "needs_background": "light"
     },
     "output_type": "display_data"
    },
    {
     "data": {
      "text/plain": "<Figure size 864x216 with 1 Axes>",
      "image/png": "[encoded data removed]"
     },
     "metadata": {
      "needs_background": "light"
     },
     "output_type": "display_data"
    }
   ],
   "source": [
    "#indices = np.random.choice(range(t_X.shape[0]), replace=False, size=3)\n",
    "for i, index in enumerate(plot_indices):\n",
    "    print(index)\n",
    "    x_test = test_X[index]\n",
    "    x_test = x_test.reshape(x_test.shape[1], x_test.shape[0])\n",
    "    test_X_rescaled = scaler_object.inverse_transform(x_test)\n",
    "    y_idx = list(indices).index(index)\n",
    "    \n",
    "    plot_prediction_ranges(test_X_rescaled[0], [y_test[index]], \n",
    "                           [y_hat[y_idx]], [y_hat_lowers[y_idx]],[y_hat_uppers[y_idx]],\n",
    "                           std_dev, std_dev_labels[std_dev])\n",
    "\n"
   ],
   "metadata": {
    "collapsed": false,
    "pycharm": {
     "name": "#%%\n",
     "is_executing": false
    }
   }
  },
  {
   "cell_type": "markdown",
   "source": [
    "## Predicting k steps in the future\n"
   ],
   "metadata": {
    "collapsed": false
   }
  },
  {
   "cell_type": "code",
   "execution_count": 24,
   "outputs": [
    {
     "name": "stdout",
     "text": [
      "~~~~~~~~~~~~~~~~~~~~~~~~~~~~~~~~~~~~~~~~~~~~~~~~~~\n~~~~~~~~~~~~~~~~~~~~~~~~~~~~~~~~~~~~~~~~~~~~~~~~~~\nPredictions for index: 88865\ninput shape (1, 10, 1)\nPred  1\nInput shape: (1, 10, 1)\nWindow rescaled\n[[203.05 203.   202.95 202.9  202.85 202.8  202.75 202.7  202.65 202.6 ]]\nwindow rescaled shape: (1, 10)\n",
      "Pred  1 : 201.77322\nyhat 201.77322\nNew window: [203.         202.95       202.9        202.85       202.8\n 202.75       202.7        202.65       202.6        201.77322388]\nNew window shape (10,)\n##################################################\nPred  2\nInput shape: (1, 10, 1)\nWindow rescaled\n[[203.         202.95       202.9        202.85       202.8\n  202.75       202.7        202.65       202.6        201.77322388]]\nwindow rescaled shape: (1, 10)\n",
      "Pred  2 : 201.01384\nyhat 201.01384\nNew window: [202.95       202.9        202.85       202.8        202.75\n 202.7        202.65       202.6        201.77322388 201.01383972]\nNew window shape (10,)\n##################################################\nPred  3\nInput shape: (1, 10, 1)\nWindow rescaled\n[[202.95       202.9        202.85       202.8        202.75\n  202.7        202.65       202.6        201.77322388 201.01383972]]\nwindow rescaled shape: (1, 10)\n",
      "Pred  3 : 201.19028\nyhat 201.19028\nNew window: [202.9        202.85       202.8        202.75       202.7\n 202.65       202.6        201.77322388 201.01383972 201.1902771 ]\nNew window shape (10,)\n##################################################\n[201.77322, 201.01384, 201.19028]\n[9.5639715, 9.890561, 9.336434]\n~~~~~~~~~~~~~~~~~~~~~~~~~~~~~~~~~~~~~~~~~~~~~~~~~~\n~~~~~~~~~~~~~~~~~~~~~~~~~~~~~~~~~~~~~~~~~~~~~~~~~~\nPredictions for index: 70406\ninput shape (1, 10, 1)\nPred  1\nInput shape: (1, 10, 1)\nWindow rescaled\n[[173.8  173.85 173.9  173.95 174.   174.05 174.1  174.15 174.2  174.25]]\nwindow rescaled shape: (1, 10)\n",
      "Pred  1 : 170.57231\nyhat 170.57231\nNew window: [173.85      173.9       173.95      174.        174.05      174.1\n 174.15      174.2       174.25      170.5723114]\nNew window shape (10,)\n##################################################\nPred  2\nInput shape: (1, 10, 1)\nWindow rescaled\n[[173.85      173.9       173.95      174.        174.05      174.1\n  174.15      174.2       174.25      170.5723114]]\nwindow rescaled shape: (1, 10)\n",
      "Pred  2 : 170.50171\nyhat 170.50171\nNew window: [173.9        173.95       174.         174.05       174.1\n 174.15       174.2        174.25       170.5723114  170.50170898]\nNew window shape (10,)\n##################################################\nPred  3\nInput shape: (1, 10, 1)\nWindow rescaled\n[[173.9        173.95       174.         174.05       174.1\n  174.15       174.2        174.25       170.5723114  170.50170898]]\nwindow rescaled shape: (1, 10)\n",
      "Pred  3 : 170.3453\nyhat 170.3453\nNew window: [173.95       174.         174.05       174.1        174.15\n 174.2        174.25       170.5723114  170.50170898 170.3453064 ]\nNew window shape (10,)\n##################################################\n[170.57231, 170.50171, 170.3453]\n[6.5123014, 6.5077915, 6.4309115]\n~~~~~~~~~~~~~~~~~~~~~~~~~~~~~~~~~~~~~~~~~~~~~~~~~~\n~~~~~~~~~~~~~~~~~~~~~~~~~~~~~~~~~~~~~~~~~~~~~~~~~~\nPredictions for index: 47205\ninput shape (1, 10, 1)\nPred  1\nInput shape: (1, 10, 1)\nWindow rescaled\n[[149.9 149.9 149.9 149.9 149.9 149.9 149.9 149.9 149.9 149.9]]\nwindow rescaled shape: (1, 10)\n",
      "Pred  1 : 145.50047\nyhat 145.50047\nNew window: [149.9        149.9        149.9        149.9        149.9\n 149.9        149.9        149.9        149.9        145.50047302]\nNew window shape (10,)\n##################################################\nPred  2\nInput shape: (1, 10, 1)\nWindow rescaled\n[[149.9        149.9        149.9        149.9        149.9\n  149.9        149.9        149.9        149.9        145.50047302]]\nwindow rescaled shape: (1, 10)\n",
      "Pred  2 : 145.04106\nyhat 145.04106\nNew window: [149.9        149.9        149.9        149.9        149.9\n 149.9        149.9        149.9        145.50047302 145.0410614 ]\nNew window shape (10,)\n##################################################\nPred  3\nInput shape: (1, 10, 1)\nWindow rescaled\n[[149.9        149.9        149.9        149.9        149.9\n  149.9        149.9        149.9        145.50047302 145.0410614 ]]\nwindow rescaled shape: (1, 10)\n",
      "Pred  3 : 144.95921\nyhat 144.95921\nNew window: [149.9        149.9        149.9        149.9        149.9\n 149.9        149.9        145.50047302 145.0410614  144.95921326]\nNew window shape (10,)\n##################################################\n[145.50047, 145.04106, 144.95921]\n[4.1261516, 4.0600414, 4.130883]\n\n[[201.77322, 201.01384, 201.19028], [170.57231, 170.50171, 170.3453], [145.50047, 145.04106, 144.95921]]\n[[9.5639715, 9.890561, 9.336434], [6.5123014, 6.5077915, 6.4309115], [4.1261516, 4.0600414, 4.130883]]\n"
     ],
     "output_type": "stream"
    }
   ],
   "source": [
    "all_predictions = []\n",
    "all_deviations = []\n",
    "for index in plot_indices:\n",
    "    print(\"~\"*50)\n",
    "    print(\"~\"*50)\n",
    "    print(\"Predictions for index:\", index)\n",
    "    x_test = np.asarray([test_X[index]])    \n",
    "    input = x_test\n",
    "    print(\"input shape\", input.shape)\n",
    "    \n",
    "    predictions = []\n",
    "    std_deviations = []\n",
    "    for i in range(predict_k):\n",
    "        print(\"Pred \", i+1)    \n",
    "        print(\"Input shape:\", input.shape)\n",
    "        window = input.reshape(x_test.shape[0], x_test.shape[1])\n",
    "        ##print(\"Window\")\n",
    "        ##print(window)\n",
    "        ##print(\"window shape\",window.shape)\n",
    "        \n",
    "        # This will convert the values to Location values\n",
    "        window_rescaled = scaler_object.inverse_transform(window)\n",
    "        print(\"Window rescaled\")\n",
    "        print(window_rescaled)\n",
    "        print(\"window rescaled shape:\",window_rescaled.shape)\n",
    "        \n",
    "        result = kdp.predict(input, n_results)\n",
    "        #print(result.flatten())\n",
    "        #print(result.shape)\n",
    "        yhat_mean = np.mean(result)\n",
    "        yhat_std = np.std(result)\n",
    "        \n",
    "        #yhat = model.predict(input)\n",
    "        yhat = yhat_mean\n",
    "        print(\"Pred \", i+1, \":\", yhat)\n",
    "        \n",
    "        #predictions.append(yhat[0][0])    \n",
    "        predictions.append(yhat)\n",
    "        print('yhat', yhat)\n",
    "        ##print(type(yhat))\n",
    "        ##print(type(window_rescaled))\n",
    "\n",
    "        std_deviations.append(yhat_std)\n",
    "        \n",
    "        input = np.append(window_rescaled[:,1:], yhat)\n",
    "        print(\"New window:\", input)\n",
    "        print(\"New window shape\", input.shape)\n",
    " \n",
    "        input = input.reshape(1, input.shape[0], window.shape[0])\n",
    "        ##print(\"New new input shape:\", input.shape)\n",
    "        ##print(input)\n",
    "        # This will convert the location values to scaled values\n",
    "        \n",
    "        input = input.reshape(1, input.shape[1])\n",
    "        input = scaler_object.transform(input)\n",
    "        ##print(\"New scaled input\")\n",
    "        ##print(input)\n",
    "        ##print(\"New scaled input shape\", input.shape)\n",
    "        \n",
    "        input = input.reshape(1, input.shape[1], window.shape[0])\n",
    "        ##print(\"input shape\",input.shape)\n",
    "        print(\"#\" * 50)\n",
    "        \n",
    "    print(predictions)\n",
    "    print(std_deviations)\n",
    "    \n",
    "    all_predictions.append(predictions)\n",
    "    all_deviations.append(std_deviations)\n",
    "print()\n",
    "print(all_predictions)\n",
    "print(all_deviations)\n",
    "      "
   ],
   "metadata": {
    "collapsed": false,
    "pycharm": {
     "name": "#%%\n",
     "is_executing": false
    }
   }
  },
  {
   "cell_type": "markdown",
   "source": [
    "### Get the ranges\n"
   ],
   "metadata": {
    "collapsed": false,
    "pycharm": {
     "name": "#%% md\n"
    }
   }
  },
  {
   "cell_type": "code",
   "execution_count": 37,
   "outputs": [
    {
     "name": "stdout",
     "text": [
      "Results with 3 standard deviations\n0\nUpper:\t 230.46513843536377\nMean:\t 201.77322\nTruth:\t 202.55\nLower:\t 173.08130931854248\n\nUpper:\t 230.6855230331421\nMean:\t 201.01384\nTruth:\t 202.55\nLower:\t 171.34215641021729\n\nUpper:\t 229.19958019256592\nMean:\t 201.19028\nTruth:\t 202.55\nLower:\t 173.18097400665283\n\n\n1\nUpper:\t 190.10921573638916\nMean:\t 170.57231\nTruth:\t 174.3\nLower:\t 151.03540706634521\n\nUpper:\t 190.02508354187012\nMean:\t 170.50171\nTruth:\t 174.3\nLower:\t 150.97833442687988\n\nUpper:\t 189.6380410194397\nMean:\t 170.3453\nTruth:\t 174.3\nLower:\t 151.05257177352905\n\n\n2\nUpper:\t 157.87892770767212\nMean:\t 145.50047\nTruth:\t 149.9\nLower:\t 133.12201833724976\n\nUpper:\t 157.2211856842041\nMean:\t 145.04106\nTruth:\t 149.9\nLower:\t 132.86093711853027\n\nUpper:\t 157.35186290740967\nMean:\t 144.95921\nTruth:\t 149.9\nLower:\t 132.5665636062622\n\n\n"
     ],
     "output_type": "stream"
    }
   ],
   "source": [
    "all_uppers = []\n",
    "all_lowers = []\n",
    "all_means = []\n",
    "\n",
    "print(\"Results with %d standard deviations\" % std_dev)\n",
    "for i, index in enumerate(plot_indices):\n",
    "    print(i)\n",
    "    y_hats = all_predictions[i]\n",
    "    std_devs = all_deviations[i]\n",
    "    #print(y_hats)\n",
    "    #print(std_devs)\n",
    "    y_uppers = []\n",
    "    y_lowers = []\n",
    "    y_means = []\n",
    "    for j in range(len(y_hats)):\n",
    "        yhat = [y_hats[j]]\n",
    "        ystd = [std_devs[j]]\n",
    "        #print('yhat:',yhat)\n",
    "        #print('ystd:',ystd)\n",
    "        \n",
    "        y_hat_uppers, y_hat_lowers = get_ranges(yhat, ystd, std_dev)\n",
    "        \n",
    "        print(\"Upper:\\t\", y_hat_uppers[0])\n",
    "        print(\"Mean:\\t\",yhat[0])\n",
    "        print(\"Truth:\\t\", y_test[index])\n",
    "        print(\"Lower:\\t\",y_hat_lowers[0])\n",
    "        print()\n",
    "        y_uppers.append(y_hat_uppers[0])\n",
    "        y_lowers.append(y_hat_lowers[0])\n",
    "        y_means.append(yhat[0])\n",
    "    print()\n",
    "    \n",
    "    all_uppers.append(y_uppers)\n",
    "    all_lowers.append(y_lowers)\n",
    "    all_means.append(y_means)\n"
   ],
   "metadata": {
    "collapsed": false,
    "pycharm": {
     "name": "#%%\n",
     "is_executing": false
    }
   }
  },
  {
   "cell_type": "markdown",
   "source": [
    "### Print the ranges"
   ],
   "metadata": {
    "collapsed": false,
    "pycharm": {
     "name": "#%% md\n",
     "is_executing": false
    }
   }
  },
  {
   "cell_type": "code",
   "execution_count": 39,
   "outputs": [
    {
     "name": "stdout",
     "text": [
      "[[230.46513843536377, 230.6855230331421, 229.19958019256592], [190.10921573638916, 190.02508354187012, 189.6380410194397], [157.87892770767212, 157.2211856842041, 157.35186290740967]]\n[[201.77322, 201.01384, 201.19028], [170.57231, 170.50171, 170.3453], [145.50047, 145.04106, 144.95921]]\n[[173.08130931854248, 171.34215641021729, 173.18097400665283], [151.03540706634521, 150.97833442687988, 151.05257177352905], [133.12201833724976, 132.86093711853027, 132.5665636062622]]\n"
     ],
     "output_type": "stream"
    }
   ],
   "source": [
    "print(all_uppers)\n",
    "print(all_means)\n",
    "print(all_lowers)\n"
   ],
   "metadata": {
    "collapsed": false,
    "pycharm": {
     "name": "#%%\n",
     "is_executing": false
    }
   }
  },
  {
   "cell_type": "markdown",
   "source": [
    "## Plot future predictions with boundaries\n"
   ],
   "metadata": {
    "collapsed": false,
    "pycharm": {
     "name": "#%% md\n",
     "is_executing": false
    }
   }
  },
  {
   "cell_type": "code",
   "execution_count": 38,
   "outputs": [
    {
     "name": "stdout",
     "text": [
      "88865\n",
      "70406\n",
      "47205\n"
     ],
     "output_type": "stream"
    },
    {
     "data": {
      "text/plain": "<Figure size 864x216 with 1 Axes>",
      "image/png": "[encoded data removed]"
     },
     "metadata": {
      "needs_background": "light"
     },
     "output_type": "display_data"
    },
    {
     "data": {
      "text/plain": "<Figure size 864x216 with 1 Axes>",
      "image/png": "[encoded data removed]"
     },
     "metadata": {
      "needs_background": "light"
     },
     "output_type": "display_data"
    },
    {
     "data": {
      "text/plain": "<Figure size 864x216 with 1 Axes>",
      "image/png": "[encoded data removed]"
     },
     "metadata": {
      "needs_background": "light"
     },
     "output_type": "display_data"
    }
   ],
   "source": [
    "for i, index in enumerate(plot_indices):\n",
    "    print(index)\n",
    "    x_test = test_X[index]\n",
    "    x_test = x_test.reshape(x_test.shape[1], x_test.shape[0])\n",
    "    test_X_rescaled = scaler_object.inverse_transform(x_test)\n",
    "    y_idx = list(indices).index(index)\n",
    "    \n",
    "    plot_prediction_ranges(test_X_rescaled[0], [y_test[index]], \n",
    "                           all_means[i], all_lowers[i],\n",
    "                           all_uppers[i],\n",
    "                           std_dev, std_dev_labels[std_dev])\n",
    "\n",
    "\n",
    "\n",
    "        \n",
    "\n"
   ],
   "metadata": {
    "collapsed": false,
    "pycharm": {
     "name": "#%%\n",
     "is_executing": false
    }
   }
  }
 ],
 "metadata": {
  "language_info": {
   "codemirror_mode": {
    "name": "ipython",
    "version": 2
   },
   "file_extension": ".py",
   "mimetype": "text/x-python",
   "name": "python",
   "nbconvert_exporter": "python",
   "pygments_lexer": "ipython2",
   "version": "2.7.6"
  },
  "kernelspec": {
   "name": "pycharm-66a6e595",
   "language": "python",
   "display_name": "PyCharm (LocPredVariance)"
  },
  "pycharm": {
   "stem_cell": {
    "cell_type": "raw",
    "source": [],
    "metadata": {
     "collapsed": false
    }
   }
  }
 },
 "nbformat": 4,
 "nbformat_minor": 0
}